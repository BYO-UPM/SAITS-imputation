{
 "cells": [
  {
   "cell_type": "code",
   "execution_count": 1,
   "id": "7vYq0VH13jkJ",
   "metadata": {
    "id": "7vYq0VH13jkJ"
   },
   "outputs": [],
   "source": [
    "import numpy as np\n",
    "import pandas as pd\n",
    "import os\n",
    "from tqdm.notebook import tqdm\n",
    "import matplotlib.pyplot as plt\n",
    "import json"
   ]
  },
  {
   "cell_type": "markdown",
   "id": "DqlykRFH2EGX",
   "metadata": {
    "id": "DqlykRFH2EGX"
   },
   "source": [
    "# preprocess and making data"
   ]
  },
  {
   "cell_type": "markdown",
   "id": "DKlmeABree2w",
   "metadata": {
    "id": "DKlmeABree2w"
   },
   "source": [
    "## make instances dictionary"
   ]
  },
  {
   "cell_type": "code",
   "execution_count": 4,
   "id": "57leUnpVDWXj",
   "metadata": {
    "colab": {
     "base_uri": "https://localhost:8080/"
    },
    "id": "57leUnpVDWXj",
    "outputId": "33fbbc23-38ba-4b7d-9eef-a2e33d83b8fa"
   },
   "outputs": [
    {
     "name": "stdout",
     "output_type": "stream",
     "text": [
      "<class 'numpy.ndarray'>\n",
      "172\n",
      "['HF008' 'HF008_V2' 'HF009' 'HF009_V2' 'HF010' 'HF010_V2' 'HF011'\n",
      " 'HF011_V2' 'HF012' 'HF012_V2' 'HF013' 'HF014' 'HF015' 'HF015_V2' 'HF016'\n",
      " 'HF016_V2' 'HF017' 'HF018' 'HF019' 'HF020' 'HF021' 'HF022' 'HF023'\n",
      " 'HF024' 'HF026' 'HF026_V2' 'HF027' 'HF027_V2' 'HF028' 'HF029' 'HF030_V2'\n",
      " 'HF031' 'HF031_V2' 'HF032' 'HF032_V2' 'HF033' 'HF033_V2' 'HG001'\n",
      " 'HG001_V2' 'HG002' 'HG002_V2' 'HG003' 'HG003_V2' 'HG004' 'HG004_V2'\n",
      " 'HG005' 'HG005_V2' 'HG005_V3' 'HG006_V2' 'HG008' 'HG008_V2' 'HG009'\n",
      " 'HG009_V2' 'HG010' 'HG010_V2' 'HG011' 'HG011_V2' 'HG012_V2' 'HG014_V2'\n",
      " 'HG015' 'HG015_V2' 'HG016' 'HG016_V2' 'HG017' 'HG017_V2' 'HG018'\n",
      " 'HG018_V2' 'HG019' 'HG019_V2' 'HG021' 'HG021_V2' 'HG022' 'HG022_V2'\n",
      " 'HG023' 'HG023_V2' 'HG024' 'HG024_V2' 'HG025' 'HG025_V2' 'HG026' 'HG027'\n",
      " 'HG027_V2' 'HG028' 'HG028_V2' 'HG029' 'HG029_V2' 'HG030' 'HG030_V2'\n",
      " 'HG031' 'HG031_V2' 'HG032' 'HG032_V2' 'HG033' 'HG034' 'HG034_V2' 'HG035'\n",
      " 'HG035_V2' 'HG036_V2' 'HG037' 'HG037_V2' 'HG038' 'HG038_V2' 'HG039'\n",
      " 'HG039_V2' 'HG041' 'HG041_V2' 'HG042' 'HG043' 'HG043_V2' 'HG044'\n",
      " 'HG044_V2' 'HG045' 'HG047' 'HG047_V2' 'HG048' 'HG048_V2' 'HG049'\n",
      " 'HG049_V2' 'HG050' 'HG050_V2' 'HG051' 'HG051_V2' 'HG052' 'HG052_V2'\n",
      " 'HG053' 'HG053_V2' 'HG054' 'HG054_V2' 'HG055' 'HG055_V2' 'HG056' 'HG057'\n",
      " 'HG058' 'HG058_V2' 'HG059' 'HG060' 'HG060_V2' 'HG061' 'HG061_V2' 'HG062'\n",
      " 'HG063' 'HG063_V2' 'HG064' 'HG064_V2' 'HG065' 'HG065_V2' 'HG066'\n",
      " 'HG066_V2' 'HG067' 'HG067_V2' 'HG069' 'HG069_V2' 'HG070' 'HG071' 'HG072'\n",
      " 'HG072_V2' 'HG073' 'HG073_V2' 'HG074' 'HG074_V2' 'HGJ001' 'HGJ002'\n",
      " 'HGJ003' 'HGJ004' 'HGJ005' 'HGJ006' 'HGJ007' 'HGJ008' 'HGJ009' 'HGJ010'\n",
      " 'HGJ011' 'HGJ012']\n",
      "{0: 'HF008', 1: 'HF008_V2', 2: 'HF009', 3: 'HF009_V2', 4: 'HF010', 5: 'HF010_V2', 6: 'HF011', 7: 'HF011_V2', 8: 'HF012', 9: 'HF012_V2', 10: 'HF013', 11: 'HF014', 12: 'HF015', 13: 'HF015_V2', 14: 'HF016', 15: 'HF016_V2', 16: 'HF017', 17: 'HF018', 18: 'HF019', 19: 'HF020', 20: 'HF021', 21: 'HF022', 22: 'HF023', 23: 'HF024', 24: 'HF026', 25: 'HF026_V2', 26: 'HF027', 27: 'HF027_V2', 28: 'HF028', 29: 'HF029', 30: 'HF030_V2', 31: 'HF031', 32: 'HF031_V2', 33: 'HF032', 34: 'HF032_V2', 35: 'HF033', 36: 'HF033_V2', 37: 'HG001', 38: 'HG001_V2', 39: 'HG002', 40: 'HG002_V2', 41: 'HG003', 42: 'HG003_V2', 43: 'HG004', 44: 'HG004_V2', 45: 'HG005', 46: 'HG005_V2', 47: 'HG005_V3', 48: 'HG006_V2', 49: 'HG008', 50: 'HG008_V2', 51: 'HG009', 52: 'HG009_V2', 53: 'HG010', 54: 'HG010_V2', 55: 'HG011', 56: 'HG011_V2', 57: 'HG012_V2', 58: 'HG014_V2', 59: 'HG015', 60: 'HG015_V2', 61: 'HG016', 62: 'HG016_V2', 63: 'HG017', 64: 'HG017_V2', 65: 'HG018', 66: 'HG018_V2', 67: 'HG019', 68: 'HG019_V2', 69: 'HG021', 70: 'HG021_V2', 71: 'HG022', 72: 'HG022_V2', 73: 'HG023', 74: 'HG023_V2', 75: 'HG024', 76: 'HG024_V2', 77: 'HG025', 78: 'HG025_V2', 79: 'HG026', 80: 'HG027', 81: 'HG027_V2', 82: 'HG028', 83: 'HG028_V2', 84: 'HG029', 85: 'HG029_V2', 86: 'HG030', 87: 'HG030_V2', 88: 'HG031', 89: 'HG031_V2', 90: 'HG032', 91: 'HG032_V2', 92: 'HG033', 93: 'HG034', 94: 'HG034_V2', 95: 'HG035', 96: 'HG035_V2', 97: 'HG036_V2', 98: 'HG037', 99: 'HG037_V2', 100: 'HG038', 101: 'HG038_V2', 102: 'HG039', 103: 'HG039_V2', 104: 'HG041', 105: 'HG041_V2', 106: 'HG042', 107: 'HG043', 108: 'HG043_V2', 109: 'HG044', 110: 'HG044_V2', 111: 'HG045', 112: 'HG047', 113: 'HG047_V2', 114: 'HG048', 115: 'HG048_V2', 116: 'HG049', 117: 'HG049_V2', 118: 'HG050', 119: 'HG050_V2', 120: 'HG051', 121: 'HG051_V2', 122: 'HG052', 123: 'HG052_V2', 124: 'HG053', 125: 'HG053_V2', 126: 'HG054', 127: 'HG054_V2', 128: 'HG055', 129: 'HG055_V2', 130: 'HG056', 131: 'HG057', 132: 'HG058', 133: 'HG058_V2', 134: 'HG059', 135: 'HG060', 136: 'HG060_V2', 137: 'HG061', 138: 'HG061_V2', 139: 'HG062', 140: 'HG063', 141: 'HG063_V2', 142: 'HG064', 143: 'HG064_V2', 144: 'HG065', 145: 'HG065_V2', 146: 'HG066', 147: 'HG066_V2', 148: 'HG067', 149: 'HG067_V2', 150: 'HG069', 151: 'HG069_V2', 152: 'HG070', 153: 'HG071', 154: 'HG072', 155: 'HG072_V2', 156: 'HG073', 157: 'HG073_V2', 158: 'HG074', 159: 'HG074_V2', 160: 'HGJ001', 161: 'HGJ002', 162: 'HGJ003', 163: 'HGJ004', 164: 'HGJ005', 165: 'HGJ006', 166: 'HGJ007', 167: 'HGJ008', 168: 'HGJ009', 169: 'HGJ010', 170: 'HGJ011', 171: 'HGJ012'}\n"
     ]
    }
   ],
   "source": [
    "DATA_PATH = './Artificial_blinks'\n",
    "instance_names = np.array(os.listdir(DATA_PATH))\n",
    "print(type(instance_names))\n",
    "print(len(instance_names))\n",
    "print(instance_names)\n",
    "\n",
    "instances_dict = {}\n",
    "for i, j in enumerate(instance_names):\n",
    "  instances_dict[i] = j\n",
    "print(instances_dict)"
   ]
  },
  {
   "cell_type": "code",
   "execution_count": 5,
   "id": "292a410a-402b-4bad-b19a-c16c74d832ee",
   "metadata": {},
   "outputs": [],
   "source": [
    "NEW_DATA_PATH = 'instances_dict.json'\n",
    "with open(NEW_DATA_PATH, 'w') as f:\n",
    "    json.dump(instances_dict, f)"
   ]
  },
  {
   "cell_type": "markdown",
   "id": "o7sTfDukeojY",
   "metadata": {
    "id": "o7sTfDukeojY"
   },
   "source": [
    "## utility functions"
   ]
  },
  {
   "cell_type": "code",
   "execution_count": 7,
   "id": "_-xrm4xJfoJR",
   "metadata": {
    "id": "_-xrm4xJfoJR"
   },
   "outputs": [],
   "source": [
    "def mask_null_values(signal, event):\n",
    "  signal_length = len(signal)\n",
    "\n",
    "  for index, row in event.iterrows():\n",
    "      if row['value'] == 2:\n",
    "          start_index = row['start']\n",
    "          end_index = row['end']\n",
    "\n",
    "          extended_start_index = max(0, start_index - 5)\n",
    "          extended_end_index = min(signal_length - 1, end_index + 5)\n",
    "\n",
    "          signal[extended_start_index:extended_end_index + 1] = [np.nan] * (extended_end_index - extended_start_index + 1)\n",
    "\n",
    "  return signal"
   ]
  },
  {
   "cell_type": "code",
   "execution_count": 8,
   "id": "fb702d0d-b853-44a8-abd3-681c7a9ca205",
   "metadata": {},
   "outputs": [],
   "source": [
    "def mask_Artificail_null_values(signal, event):\n",
    "  signal_length = len(signal)\n",
    "\n",
    "  for index, row in event.iterrows():\n",
    "      if row['value'] == 5:\n",
    "          start_index = row['start']\n",
    "          end_index = row['end']\n",
    "\n",
    "          signal[start_index:end_index + 1] = [np.nan] \n",
    "\n",
    "  return signal"
   ]
  },
  {
   "cell_type": "code",
   "execution_count": 9,
   "id": "SRDFjYblZNoa",
   "metadata": {
    "id": "SRDFjYblZNoa"
   },
   "outputs": [],
   "source": [
    "def align_length(signal):\n",
    "    if len(signal) < 15000:\n",
    "        num = 15000 - len(signal)\n",
    "        # signal = np.pad(signal, (0, num), mode='edge')\n",
    "        signal = np.pad(signal, (0, num), mode='constant', constant_values=None)\n",
    "    elif len(signal) >= 15000:\n",
    "        signal = signal[:15000]\n",
    "    return signal"
   ]
  },
  {
   "cell_type": "code",
   "execution_count": 10,
   "id": "9ea99345-61f6-4196-be43-7ecd74b5a35e",
   "metadata": {},
   "outputs": [],
   "source": [
    "def remove_outlier(signal):\n",
    "    mean = np.nanmean(signal)\n",
    "    std = np.nanstd(signal)\n",
    "    threshold = mean + 2 * std\n",
    "    \n",
    "    # Clamp values above positive threshold\n",
    "    signal = np.where(signal > threshold, threshold, signal)\n",
    "    \n",
    "    # Clamp values below negative threshold\n",
    "    signal = np.where(signal < -threshold, -threshold, signal)\n",
    "    \n",
    "    return signal"
   ]
  },
  {
   "cell_type": "markdown",
   "id": "jgwiKLxnDwgj",
   "metadata": {
    "id": "jgwiKLxnDwgj"
   },
   "source": [
    "## SmoothPur_1_4"
   ]
  },
  {
   "cell_type": "code",
   "execution_count": 12,
   "id": "8b84f89e-1fa5-4333-b970-6a9fe6d57114",
   "metadata": {},
   "outputs": [
    {
     "data": {
      "application/vnd.jupyter.widget-view+json": {
       "model_id": "ecfa31947a3f41099a4109f8bcf47799",
       "version_major": 2,
       "version_minor": 0
      },
      "text/plain": [
       "extracting data_SmoothPur_1_4:   0%|          | 0/172 [00:00<?, ?it/s]"
      ]
     },
     "metadata": {},
     "output_type": "display_data"
    }
   ],
   "source": [
    "SmoothPur_1_4 = []\n",
    "ex_1 = ['SmoothPur_1', 'SmoothPur_2', 'SmoothPur_3', 'SmoothPur_4']\n",
    "\n",
    "for i in tqdm(instance_names, desc='extracting data_SmoothPur_1_4', total=len(instance_names)):\n",
    "  instance = []\n",
    "  for j in ex_1:\n",
    "    path = os.path.join(DATA_PATH, i, j)\n",
    "\n",
    "    sigL = pd.read_csv(path + '/LTS.dat', header=None, names=['X-axis', 'Y-axis'])\n",
    "    sigR = pd.read_csv(path + '/RTS.dat', header=None, names=['X-axis', 'Y-axis'])\n",
    "    eventL = pd.read_csv(path + '/LEvent.dat', header=None, names=['start', 'end', 'value'])\n",
    "    eventR = pd.read_csv(path + '/REvent.dat', header=None, names=['start', 'end', 'value'])\n",
    "    target = pd.read_csv(path + '/target.dat', header=None, names=['X-axis', 'Y-axis'])\n",
    "\n",
    "    Lx = sigL.iloc[: , 0].tolist()\n",
    "    np_Lx = np.array(Lx)\n",
    "    np_Lx = mask_null_values(np_Lx, eventL)\n",
    "    np_Lx = align_length(np_Lx)\n",
    "    np_Lx = remove_outlier(np_Lx)\n",
    "\n",
    "    Rx = sigR.iloc[: , 0].tolist()\n",
    "    np_Rx = np.array(Rx)\n",
    "    np_Rx = mask_null_values(np_Rx, eventR)\n",
    "    np_Rx = align_length(np_Rx)\n",
    "    np_Rx = remove_outlier(np_Rx)\n",
    "\n",
    "    targetx = target.iloc[: , 0].tolist()\n",
    "    np_targetx = np.array(targetx)\n",
    "    np_targetx = align_length(np_targetx)\n",
    "\n",
    "    result = [np_Lx, np_Rx, np_targetx]\n",
    "    instance.append(result)\n",
    "  SmoothPur_1_4.append(instance)\n",
    "SmoothPur_1_4 = np.array(SmoothPur_1_4)"
   ]
  },
  {
   "cell_type": "code",
   "execution_count": 13,
   "id": "8ef96390-055c-4c86-8246-049fbfe0f87a",
   "metadata": {},
   "outputs": [
    {
     "data": {
      "application/vnd.jupyter.widget-view+json": {
       "model_id": "487a9f036cca4fe6befe12359fd17be2",
       "version_major": 2,
       "version_minor": 0
      },
      "text/plain": [
       "extracting data_SmoothPur_1_4:   0%|          | 0/172 [00:00<?, ?it/s]"
      ]
     },
     "metadata": {},
     "output_type": "display_data"
    }
   ],
   "source": [
    "SmoothPur_1_4_Ar = []\n",
    "ex_1 = ['SmoothPur_1', 'SmoothPur_2', 'SmoothPur_3', 'SmoothPur_4']\n",
    "\n",
    "for i in tqdm(instance_names, desc='extracting data_SmoothPur_1_4', total=len(instance_names)):\n",
    "  instance = []\n",
    "  for j in ex_1:\n",
    "    path = os.path.join(DATA_PATH, i, j)\n",
    "\n",
    "    sigL = pd.read_csv(path + '/LTS.dat', header=None, names=['X-axis', 'Y-axis'])\n",
    "    sigR = pd.read_csv(path + '/RTS.dat', header=None, names=['X-axis', 'Y-axis'])\n",
    "    eventL = pd.read_csv(path + '/LEvent.dat', header=None, names=['start', 'end', 'value'])\n",
    "    eventR = pd.read_csv(path + '/REvent.dat', header=None, names=['start', 'end', 'value'])\n",
    "    target = pd.read_csv(path + '/target.dat', header=None, names=['X-axis', 'Y-axis'])\n",
    "\n",
    "    Lx = sigL.iloc[: , 0].tolist()\n",
    "    np_Lx = np.array(Lx)\n",
    "    np_Lx = mask_Artificail_null_values(np_Lx, eventL)\n",
    "    np_Lx = align_length(np_Lx)\n",
    "    np_Lx = remove_outlier(np_Lx)\n",
    "\n",
    "    Rx = sigR.iloc[: , 0].tolist()\n",
    "    np_Rx = np.array(Rx)\n",
    "    np_Rx = mask_Artificail_null_values(np_Rx, eventR)\n",
    "    np_Rx = align_length(np_Rx)\n",
    "    np_Rx = remove_outlier(np_Rx)\n",
    "\n",
    "    targetx = target.iloc[: , 0].tolist()\n",
    "    np_targetx = np.array(targetx)\n",
    "    np_targetx = align_length(np_targetx)\n",
    "\n",
    "    result = [np_Lx, np_Rx, np_targetx]\n",
    "    instance.append(result)\n",
    "  SmoothPur_1_4_Ar.append(instance)\n",
    "SmoothPur_1_4_Ar = np.array(SmoothPur_1_4_Ar)"
   ]
  },
  {
   "cell_type": "code",
   "execution_count": 14,
   "id": "8a4eee57-6729-4b60-a502-16698a0e464b",
   "metadata": {},
   "outputs": [],
   "source": [
    "np.save('Artificial_data/SmoothPur_1_4', SmoothPur_1_4)\n",
    "np.save('Artificial_data/SmoothPur_1_4_Ar', SmoothPur_1_4_Ar)"
   ]
  },
  {
   "cell_type": "code",
   "execution_count": 15,
   "id": "7E9izvVcwnpd",
   "metadata": {
    "id": "7E9izvVcwnpd"
   },
   "outputs": [
    {
     "name": "stdout",
     "output_type": "stream",
     "text": [
      "172\n",
      "<class 'numpy.ndarray'>\n",
      "(172, 4, 3, 15000)\n"
     ]
    }
   ],
   "source": [
    "print(len(SmoothPur_1_4))\n",
    "print(type(SmoothPur_1_4))\n",
    "print(SmoothPur_1_4.shape)"
   ]
  },
  {
   "cell_type": "code",
   "execution_count": 16,
   "id": "Qs3o8h7He2v6",
   "metadata": {
    "colab": {
     "base_uri": "https://localhost:8080/"
    },
    "id": "Qs3o8h7He2v6",
    "outputId": "d3c8a301-9e45-42ab-a165-32e9f99f7d60"
   },
   "outputs": [
    {
     "name": "stdout",
     "output_type": "stream",
     "text": [
      "172\n",
      "<class 'numpy.ndarray'>\n",
      "(172, 4, 3, 15000)\n"
     ]
    }
   ],
   "source": [
    "print(len(SmoothPur_1_4_Ar))\n",
    "print(type(SmoothPur_1_4_Ar))\n",
    "print(SmoothPur_1_4_Ar.shape)"
   ]
  },
  {
   "cell_type": "markdown",
   "id": "uIpeXABtuAk5",
   "metadata": {
    "id": "uIpeXABtuAk5"
   },
   "source": [
    "## SmoothPur_5_8"
   ]
  },
  {
   "cell_type": "code",
   "execution_count": 18,
   "id": "j0oozOBOt_Wm",
   "metadata": {
    "colab": {
     "base_uri": "https://localhost:8080/",
     "height": 49,
     "referenced_widgets": [
      "fbe66c3e52854de1b2d870fd8e7eed2d",
      "e3b0d155b28d4fd7b8d854e7f3dfba3d",
      "3001216054a14721a8db10f898aa38b6",
      "b52d45baa1804778b13dd09b2085a025",
      "596e9acbba7d4ceb930591f9511d1dda",
      "dd6e05e4e73048de8440cba689935aaa",
      "7c8e503076804de698f13581eacee69f",
      "935b83f477c54cd49760c6dc43e56156",
      "6256a8db5a764fe68eb4330bd1cd75ec",
      "3294552d4d67450595d6f5ec306e9be6",
      "d814a8d0ade64f60b70383854d91ad93"
     ]
    },
    "id": "j0oozOBOt_Wm",
    "outputId": "63dfc38e-513a-4ac3-9733-9da33f968776"
   },
   "outputs": [
    {
     "data": {
      "application/vnd.jupyter.widget-view+json": {
       "model_id": "f16b526f318b45818dc8d49184b72513",
       "version_major": 2,
       "version_minor": 0
      },
      "text/plain": [
       "extracting data_SmoothPur_5_8:   0%|          | 0/172 [00:00<?, ?it/s]"
      ]
     },
     "metadata": {},
     "output_type": "display_data"
    }
   ],
   "source": [
    "SmoothPur_5_8 = []\n",
    "ex_2 = ['SmoothPur_5', 'SmoothPur_6', 'SmoothPur_7', 'SmoothPur_8']\n",
    "\n",
    "for i in tqdm(instance_names, desc='extracting data_SmoothPur_5_8', total=len(instance_names)):\n",
    "  instance = []\n",
    "  for j in ex_2:\n",
    "    path = os.path.join(DATA_PATH, i, j)\n",
    "\n",
    "    sigL = pd.read_csv(path + '/LTS.dat', header=None, names=['X-axis', 'Y-axis'])\n",
    "    sigR = pd.read_csv(path + '/RTS.dat', header=None, names=['X-axis', 'Y-axis'])\n",
    "    eventL = pd.read_csv(path + '/LEvent.dat', header=None, names=['start', 'end', 'value'])\n",
    "    eventR = pd.read_csv(path + '/REvent.dat', header=None, names=['start', 'end', 'value'])\n",
    "    target = pd.read_csv(path + '/target.dat', header=None, names=['X-axis', 'Y-axis'])\n",
    "\n",
    "    Ly = sigL.iloc[: , 1].tolist()\n",
    "    np_Ly = np.array(Ly)\n",
    "    np_Ly = mask_null_values(np_Ly, eventL)\n",
    "    np_Ly = align_length(np_Ly)\n",
    "    np_Ly = remove_outlier(np_Ly)\n",
    "\n",
    "    Ry = sigR.iloc[: , 1].tolist()\n",
    "    np_Ry = np.array(Ry)\n",
    "    np_Ry = mask_null_values(np_Ry, eventR)\n",
    "    np_Ry = align_length(np_Ry)\n",
    "    np_Ry = remove_outlier(np_Ry)\n",
    "\n",
    "    targety = target.iloc[: , 1].tolist()\n",
    "    np_targety = np.array(targety)\n",
    "    np_targety = align_length(np_targety)\n",
    "\n",
    "    result = [np_Ly, np_Ry, np_targety]\n",
    "    instance.append(result)\n",
    "  SmoothPur_5_8.append(instance)\n",
    "SmoothPur_5_8 = np.array(SmoothPur_5_8)"
   ]
  },
  {
   "cell_type": "code",
   "execution_count": 19,
   "id": "1be468f9-a8e2-4f66-850e-0880296039ca",
   "metadata": {},
   "outputs": [
    {
     "data": {
      "application/vnd.jupyter.widget-view+json": {
       "model_id": "d94bafa68f68460a905b76fcedf0ee5f",
       "version_major": 2,
       "version_minor": 0
      },
      "text/plain": [
       "extracting data_SmoothPur_5_8:   0%|          | 0/172 [00:00<?, ?it/s]"
      ]
     },
     "metadata": {},
     "output_type": "display_data"
    }
   ],
   "source": [
    "SmoothPur_5_8_Ar = []\n",
    "ex_2 = ['SmoothPur_5', 'SmoothPur_6', 'SmoothPur_7', 'SmoothPur_8']\n",
    "\n",
    "for i in tqdm(instance_names, desc='extracting data_SmoothPur_5_8', total=len(instance_names)):\n",
    "  instance = []\n",
    "  for j in ex_2:\n",
    "    path = os.path.join(DATA_PATH, i, j)\n",
    "\n",
    "    sigL = pd.read_csv(path + '/LTS.dat', header=None, names=['X-axis', 'Y-axis'])\n",
    "    sigR = pd.read_csv(path + '/RTS.dat', header=None, names=['X-axis', 'Y-axis'])\n",
    "    eventL = pd.read_csv(path + '/LEvent.dat', header=None, names=['start', 'end', 'value'])\n",
    "    eventR = pd.read_csv(path + '/REvent.dat', header=None, names=['start', 'end', 'value'])\n",
    "    target = pd.read_csv(path + '/target.dat', header=None, names=['X-axis', 'Y-axis'])\n",
    "\n",
    "    Ly = sigL.iloc[: , 1].tolist()\n",
    "    np_Ly = np.array(Ly)\n",
    "    np_Ly = mask_Artificail_null_values(np_Ly, eventL)\n",
    "    np_Ly = align_length(np_Ly)\n",
    "    np_Ly = remove_outlier(np_Ly)\n",
    "\n",
    "    Ry = sigR.iloc[: , 1].tolist()\n",
    "    np_Ry = np.array(Ry)\n",
    "    np_Ry = mask_Artificail_null_values(np_Ry, eventR)\n",
    "    np_Ry = align_length(np_Ry)\n",
    "    np_Ry = remove_outlier(np_Ry)\n",
    "\n",
    "    targety = target.iloc[: , 1].tolist()\n",
    "    np_targety = np.array(targety)\n",
    "    np_targety = align_length(np_targety)\n",
    "\n",
    "    result = [np_Ly, np_Ry, np_targety]\n",
    "    instance.append(result)\n",
    "  SmoothPur_5_8_Ar.append(instance)\n",
    "SmoothPur_5_8_Ar = np.array(SmoothPur_5_8_Ar)"
   ]
  },
  {
   "cell_type": "code",
   "execution_count": 20,
   "id": "FRiui74-0KUj",
   "metadata": {
    "id": "FRiui74-0KUj"
   },
   "outputs": [],
   "source": [
    "np.save('Artificial_data/SmoothPur_5_8', SmoothPur_5_8)\n",
    "np.save('Artificial_data/SmoothPur_5_8_Ar', SmoothPur_5_8_Ar)"
   ]
  },
  {
   "cell_type": "code",
   "execution_count": 21,
   "id": "kEwqqp17ItW8",
   "metadata": {
    "colab": {
     "base_uri": "https://localhost:8080/"
    },
    "id": "kEwqqp17ItW8",
    "outputId": "31eaca67-d860-4b2b-8cd5-2cc851b0e805"
   },
   "outputs": [
    {
     "name": "stdout",
     "output_type": "stream",
     "text": [
      "172\n",
      "<class 'numpy.ndarray'>\n",
      "(172, 4, 3, 15000)\n"
     ]
    }
   ],
   "source": [
    "print(len(SmoothPur_5_8))\n",
    "print(type(SmoothPur_5_8))\n",
    "print(SmoothPur_5_8.shape)"
   ]
  },
  {
   "cell_type": "code",
   "execution_count": 22,
   "id": "a7401f1e-ba49-4938-b905-64bb3c337c7d",
   "metadata": {},
   "outputs": [
    {
     "name": "stdout",
     "output_type": "stream",
     "text": [
      "172\n",
      "<class 'numpy.ndarray'>\n",
      "(172, 4, 3, 15000)\n"
     ]
    }
   ],
   "source": [
    "print(len(SmoothPur_5_8_Ar))\n",
    "print(type(SmoothPur_5_8_Ar))\n",
    "print(SmoothPur_5_8_Ar.shape)"
   ]
  },
  {
   "cell_type": "markdown",
   "id": "8fC_qoApyJu-",
   "metadata": {
    "id": "8fC_qoApyJu-"
   },
   "source": [
    "## SmoothPur_9_10"
   ]
  },
  {
   "cell_type": "code",
   "execution_count": 24,
   "id": "xf-uGvACyNrb",
   "metadata": {
    "colab": {
     "base_uri": "https://localhost:8080/",
     "height": 49,
     "referenced_widgets": [
      "e2d3d4f9498344c5ab2d33eb4236bc0b",
      "39cc928ab107451cb47c3ffb0b8b4e68",
      "a044d1c6c2794bcab578709dbf73c289",
      "82c19d7c83f84ebfa42619616a0c7e73",
      "2a6fcd58178c4214b2de3b92bb92f01d",
      "94c048f6cf64432db5ea581c031b02bd",
      "4563eb0caebe4ffc952525bfeb731802",
      "37a9dd16cb1348a3aa145072b33dd2aa",
      "f2cb4a8860b44a3a88ac78bcf9cf97af",
      "8762fe90ac4d41b4ab6a4cf3aa6b5d87",
      "4c196d7f53254b0ca4793c26bd70f27a"
     ]
    },
    "id": "xf-uGvACyNrb",
    "outputId": "fcaf10a7-0b40-41de-ba2e-2a703be29529"
   },
   "outputs": [
    {
     "data": {
      "application/vnd.jupyter.widget-view+json": {
       "model_id": "ca7d1649401a4491b1a5fbef54e99e06",
       "version_major": 2,
       "version_minor": 0
      },
      "text/plain": [
       "extracting data_SmoothPur_9_10:   0%|          | 0/172 [00:00<?, ?it/s]"
      ]
     },
     "metadata": {},
     "output_type": "display_data"
    }
   ],
   "source": [
    "SmoothPur_9_10 = []\n",
    "ex_3 = ['SmoothPur_9', 'SmoothPur_10']\n",
    "\n",
    "for i in tqdm(instance_names, desc='extracting data_SmoothPur_9_10', total=len(instance_names)):\n",
    "  instance = []\n",
    "  for j in ex_3:\n",
    "    path = os.path.join(DATA_PATH, i, j)\n",
    "\n",
    "    sigL = pd.read_csv(path + '/LTS.dat', header=None, names=['X-axis', 'Y-axis'])\n",
    "    sigR = pd.read_csv(path + '/RTS.dat', header=None, names=['X-axis', 'Y-axis'])\n",
    "    eventL = pd.read_csv(path + '/LEvent.dat', header=None, names=['start', 'end', 'value'])\n",
    "    eventR = pd.read_csv(path + '/REvent.dat', header=None, names=['start', 'end', 'value'])\n",
    "    target = pd.read_csv(path + '/target.dat', header=None, names=['X-axis', 'Y-axis'])\n",
    "\n",
    "    Lx = sigL.iloc[: , 0].tolist()\n",
    "    Ly = sigL.iloc[: , 1].tolist()\n",
    "    np_Lx = np.array(Lx)\n",
    "    np_Ly = np.array(Ly)\n",
    "    np_Lx = mask_null_values(np_Lx, eventL)\n",
    "    np_Ly = mask_null_values(np_Ly, eventL)\n",
    "    np_Lx = align_length(np_Lx)\n",
    "    np_Ly = align_length(np_Ly)\n",
    "    np_Lx = remove_outlier(np_Lx)\n",
    "    np_Ly = remove_outlier(np_Ly)\n",
    "\n",
    "    Rx = sigR.iloc[: , 0].tolist()\n",
    "    Ry = sigR.iloc[: , 1].tolist()\n",
    "    np_Rx = np.array(Rx)\n",
    "    np_Ry = np.array(Ry)\n",
    "    np_Rx = mask_null_values(np_Rx, eventR)\n",
    "    np_Ry = mask_null_values(np_Ry, eventR)\n",
    "    np_Rx = align_length(np_Rx)\n",
    "    np_Ry = align_length(np_Ry)\n",
    "    np_Rx = remove_outlier(np_Rx)\n",
    "    np_Ry = remove_outlier(np_Ry)\n",
    "\n",
    "    targetx = target.iloc[: , 0].tolist()\n",
    "    targety = target.iloc[: , 1].tolist()\n",
    "    np_targetx = np.array(targetx)\n",
    "    np_targety = np.array(targety)\n",
    "    np_targetx = align_length(np_targetx)\n",
    "    np_targety = align_length(np_targety)\n",
    "\n",
    "    result = [[np_Lx, np_Rx], [np_Ly, np_Ry], [np_targetx, np_targety]]\n",
    "    instance.append(result)\n",
    "  SmoothPur_9_10.append(instance)\n",
    "SmoothPur_9_10 = np.array(SmoothPur_9_10)"
   ]
  },
  {
   "cell_type": "code",
   "execution_count": 25,
   "id": "b627e1f0-d882-48fd-bd9d-12b4a5dcfee7",
   "metadata": {},
   "outputs": [
    {
     "data": {
      "application/vnd.jupyter.widget-view+json": {
       "model_id": "bd57185c41f94370b746d34c7a79a87c",
       "version_major": 2,
       "version_minor": 0
      },
      "text/plain": [
       "extracting data_SmoothPur_9_10:   0%|          | 0/172 [00:00<?, ?it/s]"
      ]
     },
     "metadata": {},
     "output_type": "display_data"
    }
   ],
   "source": [
    "SmoothPur_9_10_Ar = []\n",
    "ex_3 = ['SmoothPur_9', 'SmoothPur_10']\n",
    "\n",
    "for i in tqdm(instance_names, desc='extracting data_SmoothPur_9_10', total=len(instance_names)):\n",
    "  instance = []\n",
    "  for j in ex_3:\n",
    "    path = os.path.join(DATA_PATH, i, j)\n",
    "\n",
    "    sigL = pd.read_csv(path + '/LTS.dat', header=None, names=['X-axis', 'Y-axis'])\n",
    "    sigR = pd.read_csv(path + '/RTS.dat', header=None, names=['X-axis', 'Y-axis'])\n",
    "    eventL = pd.read_csv(path + '/LEvent.dat', header=None, names=['start', 'end', 'value'])\n",
    "    eventR = pd.read_csv(path + '/REvent.dat', header=None, names=['start', 'end', 'value'])\n",
    "    target = pd.read_csv(path + '/target.dat', header=None, names=['X-axis', 'Y-axis'])\n",
    "\n",
    "    Lx = sigL.iloc[: , 0].tolist()\n",
    "    Ly = sigL.iloc[: , 1].tolist()\n",
    "    np_Lx = np.array(Lx)\n",
    "    np_Ly = np.array(Ly)\n",
    "    np_Lx = mask_Artificail_null_values(np_Lx, eventL)\n",
    "    np_Ly = mask_Artificail_null_values(np_Ly, eventL)\n",
    "    np_Lx = align_length(np_Lx)\n",
    "    np_Ly = align_length(np_Ly)\n",
    "    np_Lx = remove_outlier(np_Lx)\n",
    "    np_Ly = remove_outlier(np_Ly)\n",
    "\n",
    "    Rx = sigR.iloc[: , 0].tolist()\n",
    "    Ry = sigR.iloc[: , 1].tolist()\n",
    "    np_Rx = np.array(Rx)\n",
    "    np_Ry = np.array(Ry)\n",
    "    np_Rx = mask_Artificail_null_values(np_Rx, eventR)\n",
    "    np_Ry = mask_Artificail_null_values(np_Ry, eventR)\n",
    "    np_Rx = align_length(np_Rx)\n",
    "    np_Ry = align_length(np_Ry)\n",
    "    np_Rx = remove_outlier(np_Rx)\n",
    "    np_Ry = remove_outlier(np_Ry)\n",
    "\n",
    "    targetx = target.iloc[: , 0].tolist()\n",
    "    targety = target.iloc[: , 1].tolist()\n",
    "    np_targetx = np.array(targetx)\n",
    "    np_targety = np.array(targety)\n",
    "    np_targetx = align_length(np_targetx)\n",
    "    np_targety = align_length(np_targety)\n",
    "\n",
    "    result = [[np_Lx, np_Rx], [np_Ly, np_Ry], [np_targetx, np_targety]]\n",
    "    instance.append(result)\n",
    "  SmoothPur_9_10_Ar.append(instance)\n",
    "SmoothPur_9_10_Ar = np.array(SmoothPur_9_10_Ar)"
   ]
  },
  {
   "cell_type": "code",
   "execution_count": 26,
   "id": "6FVpR0V71r1S",
   "metadata": {
    "id": "6FVpR0V71r1S"
   },
   "outputs": [],
   "source": [
    "np.save('Artificial_data/SmoothPur_9_10', SmoothPur_9_10)\n",
    "np.save('Artificial_data/SmoothPur_9_10_Ar', SmoothPur_9_10_Ar)"
   ]
  },
  {
   "cell_type": "code",
   "execution_count": 27,
   "id": "D6vgkjp2bH1s",
   "metadata": {
    "colab": {
     "base_uri": "https://localhost:8080/"
    },
    "id": "D6vgkjp2bH1s",
    "outputId": "ecf2f310-36fc-4252-f292-fb8ab1d6ca3a"
   },
   "outputs": [
    {
     "name": "stdout",
     "output_type": "stream",
     "text": [
      "172\n",
      "<class 'numpy.ndarray'>\n",
      "(172, 2, 3, 2, 15000)\n"
     ]
    }
   ],
   "source": [
    "print(len(SmoothPur_9_10))\n",
    "print(type(SmoothPur_9_10))\n",
    "print(SmoothPur_9_10.shape)"
   ]
  },
  {
   "cell_type": "code",
   "execution_count": 28,
   "id": "0efa497a-ddc4-47d9-95c6-c09a7a603dec",
   "metadata": {},
   "outputs": [
    {
     "name": "stdout",
     "output_type": "stream",
     "text": [
      "172\n",
      "<class 'numpy.ndarray'>\n",
      "(172, 2, 3, 2, 15000)\n"
     ]
    }
   ],
   "source": [
    "print(len(SmoothPur_9_10_Ar))\n",
    "print(type(SmoothPur_9_10_Ar))\n",
    "print(SmoothPur_9_10_Ar.shape)"
   ]
  },
  {
   "cell_type": "markdown",
   "id": "tk5o_rbZ10qL",
   "metadata": {
    "id": "tk5o_rbZ10qL"
   },
   "source": [
    "## SmoothPur_11_12"
   ]
  },
  {
   "cell_type": "code",
   "execution_count": 30,
   "id": "9d5vK9O014A6",
   "metadata": {
    "colab": {
     "base_uri": "https://localhost:8080/",
     "height": 49,
     "referenced_widgets": [
      "a8ffeb7367a54cdaac4ee90a9fbc2608",
      "bfb1cbc15ed0464bb7c723688c360240",
      "ad5e02b2a0ef4dd0a8b0cdec06272342",
      "2732a2c8dc4140f0b2171d27ec6f16ad",
      "5973fca45ef8412c8635264eef7aa384",
      "458e046b9bab4776bbc04ee4f9384d3c",
      "f58185bb89bf41ebb6a26139815a42a2",
      "8d673f11617b4de2b13f97df9626e671",
      "bce8c6f2534c4470bf42045c2adfcefd",
      "c688ee44485c40d59e60b2e4dae5a279",
      "2403c22ffed34503926ee845254e9b37"
     ]
    },
    "id": "9d5vK9O014A6",
    "outputId": "3470037e-312f-4eb6-b1e2-6e2705b01c91"
   },
   "outputs": [
    {
     "data": {
      "application/vnd.jupyter.widget-view+json": {
       "model_id": "bd107ea251b44931897dca3b56b76002",
       "version_major": 2,
       "version_minor": 0
      },
      "text/plain": [
       "extracting data_SmoothPur_11_12:   0%|          | 0/172 [00:00<?, ?it/s]"
      ]
     },
     "metadata": {},
     "output_type": "display_data"
    }
   ],
   "source": [
    "SmoothPur_11_12 = []\n",
    "ex_4 = ['SmoothPur_11', 'SmoothPur_12']\n",
    "\n",
    "for i in tqdm(instance_names, desc='extracting data_SmoothPur_11_12', total=len(instance_names)):\n",
    "  instance = []\n",
    "  for j in ex_4:\n",
    "    path = os.path.join(DATA_PATH, i, j)\n",
    "\n",
    "    sigL = pd.read_csv(path + '/LTS.dat', header=None, names=['X-axis', 'Y-axis'])\n",
    "    sigR = pd.read_csv(path + '/RTS.dat', header=None, names=['X-axis', 'Y-axis'])\n",
    "    eventL = pd.read_csv(path + '/LEvent.dat', header=None, names=['start', 'end', 'value'])\n",
    "    eventR = pd.read_csv(path + '/REvent.dat', header=None, names=['start', 'end', 'value'])\n",
    "    target = pd.read_csv(path + '/target.dat', header=None, names=['X-axis', 'Y-axis'])\n",
    "\n",
    "    Lx = sigL.iloc[: , 0].tolist()\n",
    "    Ly = sigL.iloc[: , 1].tolist()\n",
    "    np_Lx = np.array(Lx)\n",
    "    np_Ly = np.array(Ly)\n",
    "    np_Lx = mask_null_values(np_Lx, eventL)\n",
    "    np_Ly = mask_null_values(np_Ly, eventL)\n",
    "    np_Lx = align_length(np_Lx)\n",
    "    np_Ly = align_length(np_Ly)\n",
    "    np_Lx = remove_outlier(np_Lx)\n",
    "    np_Ly = remove_outlier(np_Ly)\n",
    "\n",
    "    Rx = sigR.iloc[: , 0].tolist()\n",
    "    Ry = sigR.iloc[: , 1].tolist()\n",
    "    np_Rx = np.array(Rx)\n",
    "    np_Ry = np.array(Ry)\n",
    "    np_Rx = mask_null_values(np_Rx, eventR)\n",
    "    np_Ry = mask_null_values(np_Ry, eventR)\n",
    "    np_Rx = align_length(np_Rx)\n",
    "    np_Ry = align_length(np_Ry)\n",
    "    np_Rx = remove_outlier(np_Rx)\n",
    "    np_Ry = remove_outlier(np_Ry)\n",
    "\n",
    "    targetx = target.iloc[: , 0].tolist()\n",
    "    targety = target.iloc[: , 1].tolist()\n",
    "    np_targetx = np.array(targetx)\n",
    "    np_targety = np.array(targety)\n",
    "    np_targetx = align_length(np_targetx)\n",
    "    np_targety = align_length(np_targety)\n",
    "\n",
    "    result = [[np_Lx, np_Rx], [np_Ly, np_Ry], [np_targetx, np_targety]]\n",
    "    instance.append(result)\n",
    "  SmoothPur_11_12.append(instance)\n",
    "SmoothPur_11_12 = np.array(SmoothPur_11_12)"
   ]
  },
  {
   "cell_type": "code",
   "execution_count": 31,
   "id": "5a0beedd-98d7-47c7-ab2d-ce7ea42ea910",
   "metadata": {},
   "outputs": [
    {
     "data": {
      "application/vnd.jupyter.widget-view+json": {
       "model_id": "ad471e058b734d05badefff4b04622b7",
       "version_major": 2,
       "version_minor": 0
      },
      "text/plain": [
       "extracting data_SmoothPur_11_12:   0%|          | 0/172 [00:00<?, ?it/s]"
      ]
     },
     "metadata": {},
     "output_type": "display_data"
    }
   ],
   "source": [
    "SmoothPur_11_12_Ar = []\n",
    "ex_4 = ['SmoothPur_11', 'SmoothPur_12']\n",
    "\n",
    "for i in tqdm(instance_names, desc='extracting data_SmoothPur_11_12', total=len(instance_names)):\n",
    "  instance = []\n",
    "  for j in ex_4:\n",
    "    path = os.path.join(DATA_PATH, i, j)\n",
    "\n",
    "    sigL = pd.read_csv(path + '/LTS.dat', header=None, names=['X-axis', 'Y-axis'])\n",
    "    sigR = pd.read_csv(path + '/RTS.dat', header=None, names=['X-axis', 'Y-axis'])\n",
    "    eventL = pd.read_csv(path + '/LEvent.dat', header=None, names=['start', 'end', 'value'])\n",
    "    eventR = pd.read_csv(path + '/REvent.dat', header=None, names=['start', 'end', 'value'])\n",
    "    target = pd.read_csv(path + '/target.dat', header=None, names=['X-axis', 'Y-axis'])\n",
    "\n",
    "    Lx = sigL.iloc[: , 0].tolist()\n",
    "    Ly = sigL.iloc[: , 1].tolist()\n",
    "    np_Lx = np.array(Lx)\n",
    "    np_Ly = np.array(Ly)\n",
    "    np_Lx = mask_Artificail_null_values(np_Lx, eventL)\n",
    "    np_Ly = mask_Artificail_null_values(np_Ly, eventL)\n",
    "    np_Lx = align_length(np_Lx)\n",
    "    np_Ly = align_length(np_Ly)\n",
    "    np_Lx = remove_outlier(np_Lx)\n",
    "    np_Ly = remove_outlier(np_Ly)\n",
    "\n",
    "    Rx = sigR.iloc[: , 0].tolist()\n",
    "    Ry = sigR.iloc[: , 1].tolist()\n",
    "    np_Rx = np.array(Rx)\n",
    "    np_Ry = np.array(Ry)\n",
    "    np_Rx = mask_Artificail_null_values(np_Rx, eventR)\n",
    "    np_Ry = mask_Artificail_null_values(np_Ry, eventR)\n",
    "    np_Rx = align_length(np_Rx)\n",
    "    np_Ry = align_length(np_Ry)\n",
    "    np_Rx = remove_outlier(np_Rx)\n",
    "    np_Ry = remove_outlier(np_Ry)\n",
    "\n",
    "    targetx = target.iloc[: , 0].tolist()\n",
    "    targety = target.iloc[: , 1].tolist()\n",
    "    np_targetx = np.array(targetx)\n",
    "    np_targety = np.array(targety)\n",
    "    np_targetx = align_length(np_targetx)\n",
    "    np_targety = align_length(np_targety)\n",
    "\n",
    "    result = [[np_Lx, np_Rx], [np_Ly, np_Ry], [np_targetx, np_targety]]\n",
    "    instance.append(result)\n",
    "  SmoothPur_11_12_Ar.append(instance)\n",
    "SmoothPur_11_12_Ar = np.array(SmoothPur_11_12_Ar)"
   ]
  },
  {
   "cell_type": "code",
   "execution_count": 32,
   "id": "xUdT5hNj7Vj7",
   "metadata": {
    "id": "xUdT5hNj7Vj7"
   },
   "outputs": [],
   "source": [
    "np.save('Artificial_data/SmoothPur_11_12', SmoothPur_11_12)\n",
    "np.save('Artificial_data/SmoothPur_11_12_Ar', SmoothPur_11_12_Ar)"
   ]
  },
  {
   "cell_type": "code",
   "execution_count": 33,
   "id": "PVwmWPqmI-0d",
   "metadata": {
    "colab": {
     "base_uri": "https://localhost:8080/"
    },
    "id": "PVwmWPqmI-0d",
    "outputId": "904964a3-de9d-4025-d872-997a1214c277"
   },
   "outputs": [
    {
     "name": "stdout",
     "output_type": "stream",
     "text": [
      "172\n",
      "<class 'numpy.ndarray'>\n",
      "(172, 2, 3, 2, 15000)\n"
     ]
    }
   ],
   "source": [
    "print(len(SmoothPur_11_12))\n",
    "print(type(SmoothPur_11_12))\n",
    "print(SmoothPur_11_12.shape)"
   ]
  },
  {
   "cell_type": "code",
   "execution_count": 34,
   "id": "0f92d4ae-2c8a-4d0d-aa02-2396335c03d1",
   "metadata": {},
   "outputs": [
    {
     "name": "stdout",
     "output_type": "stream",
     "text": [
      "172\n",
      "<class 'numpy.ndarray'>\n",
      "(172, 2, 3, 2, 15000)\n"
     ]
    }
   ],
   "source": [
    "print(len(SmoothPur_11_12_Ar))\n",
    "print(type(SmoothPur_11_12_Ar))\n",
    "print(SmoothPur_11_12_Ar.shape)"
   ]
  },
  {
   "cell_type": "markdown",
   "id": "4ddeecc2-4d63-4494-b0ab-6ae8f388c7c1",
   "metadata": {},
   "source": [
    "## plot the reslts"
   ]
  },
  {
   "cell_type": "code",
   "execution_count": 36,
   "id": "HRPnD4SEJDY0",
   "metadata": {
    "colab": {
     "base_uri": "https://localhost:8080/",
     "height": 641
    },
    "id": "HRPnD4SEJDY0",
    "outputId": "c034c150-34b3-4554-8a39-9289cd5dd96d"
   },
   "outputs": [],
   "source": [
    "import matplotlib.pyplot as plt\n",
    "import numpy as np\n",
    "from ipywidgets import interact, widgets\n",
    "\n",
    "def plot_signal_comparison_1_4_5_8(smoothpur_1_4, smoothpur_5_8, \n",
    "                                   signal_set_label='Signal Set'):\n",
    "    def plot_signal(signal_set, signal_idx, idx_1, idx_2):\n",
    "        if signal_set == 'smoothpur_1_4':\n",
    "            signal = smoothpur_1_4[signal_idx, idx_1, idx_2]\n",
    "        elif signal_set == 'smoothpur_5_8':\n",
    "            signal = smoothpur_5_8[signal_idx, idx_1, idx_2]\n",
    "\n",
    "        # Plot the signal for the given indices\n",
    "        plt.figure(figsize=(18, 8))\n",
    "        plt.plot(signal.flatten(), label=f'{signal_set} Signal', alpha=0.7, color='blue', linewidth=2)\n",
    "        plt.title(f'Signal Comparison for {signal_set}, Index {signal_idx}, idx_1 {idx_1}, idx_2 {idx_2}')\n",
    "        plt.xlabel('Sample Index')\n",
    "        plt.ylabel('Amplitude')\n",
    "        plt.legend()\n",
    "        plt.grid(True)\n",
    "        plt.show()\n",
    "\n",
    "    # Create interactive widgets for signal set and index selection\n",
    "    interact(plot_signal,\n",
    "             signal_set=widgets.Dropdown(options=['smoothpur_1_4', 'smoothpur_5_8'], \n",
    "                                         description=signal_set_label),\n",
    "             signal_idx=widgets.IntSlider(min=0, max=153, step=1, value=0),\n",
    "             idx_1=widgets.IntSlider(min=0, max=3, step=1, value=0),\n",
    "             idx_2=widgets.IntSlider(min=0, max=2, step=1, value=0))"
   ]
  },
  {
   "cell_type": "code",
   "execution_count": 37,
   "id": "6a6ebab5-09dd-4c85-9822-537cccccdf40",
   "metadata": {},
   "outputs": [],
   "source": [
    "def plot_signal_comparison_9_10_11_12(smoothpur_9_10, smoothpur_11_12, \n",
    "                                      signal_set_label='Signal Set'):\n",
    "    def plot_signal(signal_set, signal_idx, idx_1, idx_2, idx_3):\n",
    "        if signal_set == 'smoothpur_9_10':\n",
    "            signal = smoothpur_9_10[signal_idx, idx_1, idx_2, idx_3]\n",
    "        elif signal_set == 'smoothpur_11_12':\n",
    "            signal = smoothpur_11_12[signal_idx, idx_1, idx_2, idx_3]\n",
    "\n",
    "        # Plot the signal for the given indices\n",
    "        plt.figure(figsize=(18, 8))\n",
    "        plt.plot(signal.flatten(), label=f'{signal_set} Signal', alpha=0.7, color='blue', linewidth=2)\n",
    "        plt.title(f'Signal Comparison for {signal_set}, Index {signal_idx}, idx_1 {idx_1}, idx_2 {idx_2}, idx_3 {idx_3}')\n",
    "        plt.xlabel('Sample Index')\n",
    "        plt.ylabel('Amplitude')\n",
    "        plt.legend()\n",
    "        plt.grid(True)\n",
    "        plt.show()\n",
    "\n",
    "    # Create interactive widgets for signal set and index selection\n",
    "    interact(plot_signal,\n",
    "             signal_set=widgets.Dropdown(options=['smoothpur_9_10', 'smoothpur_11_12'], \n",
    "                                         description=signal_set_label),\n",
    "             signal_idx=widgets.IntSlider(min=0, max=153, step=1, value=0),\n",
    "             idx_1=widgets.IntSlider(min=0, max=1, step=1, value=0),\n",
    "             idx_2=widgets.IntSlider(min=0, max=2, step=1, value=0),\n",
    "             idx_3=widgets.IntSlider(min=0, max=1, step=1, value=0))\n"
   ]
  },
  {
   "cell_type": "code",
   "execution_count": 38,
   "id": "65977706-cd84-4358-94ca-482eeab97676",
   "metadata": {},
   "outputs": [
    {
     "data": {
      "application/vnd.jupyter.widget-view+json": {
       "model_id": "58b70871aac3411ead4a8af799126de0",
       "version_major": 2,
       "version_minor": 0
      },
      "text/plain": [
       "interactive(children=(Dropdown(description='Signal Set', options=('smoothpur_1_4', 'smoothpur_5_8'), value='sm…"
      ]
     },
     "metadata": {},
     "output_type": "display_data"
    }
   ],
   "source": [
    "plot_signal_comparison_1_4_5_8(SmoothPur_1_4, SmoothPur_5_8)\n"
   ]
  },
  {
   "cell_type": "code",
   "execution_count": 39,
   "id": "5c23f74a-71ed-4965-b26a-b9fbf8205ffb",
   "metadata": {},
   "outputs": [
    {
     "data": {
      "application/vnd.jupyter.widget-view+json": {
       "model_id": "756d23b4e5d946158bc3f7378e9bfe14",
       "version_major": 2,
       "version_minor": 0
      },
      "text/plain": [
       "interactive(children=(Dropdown(description='Signal Set', options=('smoothpur_9_10', 'smoothpur_11_12'), value=…"
      ]
     },
     "metadata": {},
     "output_type": "display_data"
    }
   ],
   "source": [
    "plot_signal_comparison_9_10_11_12(SmoothPur_9_10, SmoothPur_11_12) #(154, 2, 3, 2, 15000)  [[np_Lx, np_Rx], [np_Ly, np_Ry], [np_targetx, np_targety]]"
   ]
  },
  {
   "cell_type": "code",
   "execution_count": 40,
   "id": "50e8efcd-f3b6-40f6-922d-ea02ee11a6e5",
   "metadata": {},
   "outputs": [],
   "source": [
    "# shape of smoothpur_11_12 :  (154, 2, 3, 2, 15000)  [[np_Lx, np_Rx], [np_Ly, np_Ry], [np_targetx, np_targety]]"
   ]
  },
  {
   "cell_type": "code",
   "execution_count": 41,
   "id": "23daf584-473e-4dea-9bec-84c68b743a2a",
   "metadata": {},
   "outputs": [
    {
     "data": {
      "image/png": "[encoded data removed]",
      "text/plain": [
       "<Figure size 1000x600 with 1 Axes>"
      ]
     },
     "metadata": {},
     "output_type": "display_data"
    }
   ],
   "source": [
    "instance = 91\n",
    "smoothpur = 1 # starts from 0\n",
    "x_y_T = 1 # x= 0, Y= 1  Target =2\n",
    "l_r = 1 # 0 = LEFT, 1 = RIGHT\n",
    "\n",
    "plt.figure(figsize=(10, 6))\n",
    "plt.plot(SmoothPur_11_12_Ar[instance][smoothpur][x_y_T][l_r], label='Original')\n",
    "plt.plot(SmoothPur_11_12[instance][smoothpur][x_y_T][l_r], label='Artificial')\n",
    "plt.plot(SmoothPur_11_12[instance][smoothpur][2][l_r], label='Target')\n",
    "\n",
    "plt.xlabel('Time')\n",
    "plt.ylabel('Value')\n",
    "plt.legend()\n",
    "plt.savefig('HG032_v2_SPT_12.png')  # Saves as a PNG file\n",
    "plt.show()"
   ]
  },
  {
   "cell_type": "code",
   "execution_count": 42,
   "id": "651eb6c1-dc71-4593-a718-f170e62d1505",
   "metadata": {},
   "outputs": [
    {
     "name": "stdout",
     "output_type": "stream",
     "text": [
      "dict_keys(['__header__', '__version__', '__globals__', 'CaracterizacionBlink'])\n",
      "[[[1.58696518e+02 5.11923456e+03 9.91738495e+03 6.73679103e+06]\n",
      "  [1.59550562e+02 4.99197474e+03 9.91781197e+03 6.73615209e+06]]\n",
      "\n",
      " [[1.64248789e+02 9.69837316e+02 8.75922959e+03 1.15603209e+07]\n",
      "  [1.62986322e+02 9.76266568e+02 8.73205458e+03 1.18463696e+07]]\n",
      "\n",
      " [[1.68970246e+02 6.14590424e+03 7.78171506e+03 2.18611693e+07]\n",
      "  [1.69171720e+02 6.45664134e+03 7.80617499e+03 2.17144138e+07]]\n",
      "\n",
      " [[1.51684005e+02 5.36580609e+03 7.70565867e+03 9.39407596e+06]\n",
      "  [1.49158357e+02 5.84663593e+03 7.55061529e+03 9.63487405e+06]]\n",
      "\n",
      " [[1.71717879e+02 2.40264806e+03 9.77805463e+03 7.89503860e+06]\n",
      "  [1.71598619e+02 2.40826425e+03 9.78165475e+03 7.88173723e+06]]\n",
      "\n",
      " [[1.74456204e+02 2.39249458e+03 8.68776454e+03 8.36688014e+06]\n",
      "  [1.71899287e+02 2.15873937e+03 8.68658670e+03 8.37216189e+06]]\n",
      "\n",
      " [[1.51016185e+02 2.09389743e+03 7.91018798e+03 1.06771383e+07]\n",
      "  [1.50621148e+02 2.09026027e+03 7.90999046e+03 1.06785774e+07]]\n",
      "\n",
      " [[2.30185429e+02 1.24244437e+03 8.55954665e+03 7.45231743e+06]\n",
      "  [2.30630741e+02 1.27521743e+03 8.54258013e+03 7.41882137e+06]]\n",
      "\n",
      " [[1.54320507e+02 3.19359029e+03 8.11402880e+03 8.18380509e+06]\n",
      "  [1.67039993e+02 2.36550524e+04 8.37681645e+03 9.80380138e+06]]\n",
      "\n",
      " [[1.67704672e+02 5.63165131e+03 8.64597438e+03 6.83607512e+06]\n",
      "  [1.73735727e+02 3.47387736e+03 8.56221880e+03 6.53318454e+06]]\n",
      "\n",
      " [[1.54368959e+02 2.77092988e+03 8.57471358e+03 1.23196033e+07]\n",
      "  [1.56450290e+02 4.42005562e+03 8.57004846e+03 1.23439316e+07]]\n",
      "\n",
      " [[1.65428840e+02 9.16994275e+02 8.49296668e+03 1.05504840e+07]\n",
      "  [1.63955570e+02 1.05009094e+03 8.48696851e+03 1.05371684e+07]]]\n"
     ]
    }
   ],
   "source": [
    "from scipy.io import loadmat\n",
    "\n",
    "# Load .mat file\n",
    "mat_file = loadmat('CaracterizacionBlink.mat')\n",
    "\n",
    "# Print the keys to explore the data structure\n",
    "print(mat_file.keys())\n",
    "\n",
    "# Access a specific variable (assuming the file has a variable named 'data')\n",
    "data = mat_file['CaracterizacionBlink']\n",
    "\n",
    "print(data)\n"
   ]
  },
  {
   "cell_type": "code",
   "execution_count": 43,
   "id": "babbf497-cbc6-4b3d-9c1e-df85fac7d953",
   "metadata": {},
   "outputs": [
    {
     "data": {
      "text/plain": [
       "(12, 2, 4)"
      ]
     },
     "execution_count": 43,
     "metadata": {},
     "output_type": "execute_result"
    }
   ],
   "source": [
    "data.shape"
   ]
  },
  {
   "cell_type": "code",
   "execution_count": 46,
   "id": "8cda88f1-b78a-49bb-be00-74e5e4a3386e",
   "metadata": {},
   "outputs": [
    {
     "data": {
      "image/png": "[encoded data removed]",
      "text/plain": [
       "<Figure size 1400x700 with 1 Axes>"
      ]
     },
     "metadata": {},
     "output_type": "display_data"
    }
   ],
   "source": [
    "import pandas as pd\n",
    "import matplotlib.pyplot as plt\n",
    "\n",
    "# Read the .dat files\n",
    "eventL = pd.read_csv('Artificial_blinks/HG032/SmoothPur_9/REvent.dat', header=None, names=['start', 'end', 'value'])\n",
    "sigL = pd.read_csv('Artificial_blinks/HG032/SmoothPur_9/RTS.dat', header=None, names=['X-axis', 'Y-axis'])\n",
    "Target = pd.read_csv('Artificial_blinks/HG032/SmoothPur_9/target.dat', header=None, names=['X-axis', 'Y-axis'])\n",
    "\n",
    "# Identify the ranges with missing values and modify the ranges\n",
    "missing_ranges = eventL[eventL['value'] == 5].copy()\n",
    "# missing_ranges['start'] -= 10\n",
    "# missing_ranges['end'] += 10\n",
    "\n",
    "# Plot the sigL data\n",
    "plt.figure(figsize=(14, 7))\n",
    "plt.plot(sigL['X-axis'], label='X-axis', color='blue')\n",
    "plt.plot(sigL['Y-axis'], label='Y-axis', color='red')\n",
    "plt.plot(Target['X-axis'], label='Target_X', color='black')\n",
    "plt.plot(Target['Y-axis'], label='Target_Y', color='black')\n",
    "\n",
    "# Highlight the missing ranges\n",
    "for idx, row in missing_ranges.iterrows():\n",
    "    plt.axvspan(row['start'], row['end'], color='red', alpha=0.3)\n",
    "\n",
    "# Add labels and legend\n",
    "plt.xlabel('Time')\n",
    "plt.ylabel('Signal')\n",
    "plt.title('Signal with Missing Value Ranges Highlighted')\n",
    "plt.legend()\n",
    "plt.show()\n"
   ]
  },
  {
   "cell_type": "code",
   "execution_count": null,
   "id": "9f94a174",
   "metadata": {},
   "outputs": [],
   "source": []
  },
  {
   "cell_type": "code",
   "execution_count": null,
   "id": "0c72dbaf",
   "metadata": {},
   "outputs": [],
   "source": [
    "mean_y_11_12 = np.nanmean(SmoothPur_11_12)\n",
    "std_y_11_12 = np.nanstd(SmoothPur_11_12)\n",
    "SmoothPur_11_12_normalized = (SmoothPur_11_12 - mean_y_11_12) / std_y_11_12"
   ]
  },
  {
   "cell_type": "code",
   "execution_count": null,
   "id": "6bca2398",
   "metadata": {},
   "outputs": [],
   "source": [
    "instance = 20\n",
    "smoothpur = 0 # starts from 0\n",
    "x_y_T = 0 # x= 0, Y= 1  Target =2\n",
    "l_r = 0 # 0 = LEFT, 1 = RIGHT\n",
    "\n",
    "plt.figure(figsize=(14, 7))\n",
    "# plt.plot(SmoothPur_11_12_Ar[instance][smoothpur][x_y_T][l_r], label='Original')\n",
    "plt.plot(SmoothPur_11_12_normalized[instance][smoothpur][x_y_T][l_r], label='Gaze', color='blue')\n",
    "plt.plot(SmoothPur_11_12_normalized[instance][smoothpur][2][l_r], label='Target', color='black', linestyle = 'dotted')\n",
    "\n",
    "eventL = pd.read_csv('Artificial_blinks/HF021/SmoothPur_11/LEvent.dat', header=None, names=['start', 'end', 'value'])\n",
    "# Identify the ranges with missing values and modify the ranges\n",
    "missing_ranges = eventL[eventL['value'] == 2].copy()\n",
    "\n",
    "# Highlight the missing ranges\n",
    "for idx, row in missing_ranges.iterrows():\n",
    "    plt.axvspan(row['start'], row['end'], color='red', alpha=0.3) \n",
    "    \n",
    "plt.title('HF021_v2, SPT11, X-axis, Left eye')\n",
    "    \n",
    "plt.xlabel('Time (ms)')\n",
    "plt.ylabel('Amplitude')\n",
    "plt.legend()\n",
    "plt.savefig('figure1_2.svg', format='svg')\n",
    "plt.show()"
   ]
  }
 ],
 "metadata": {
  "colab": {
   "provenance": []
  },
  "kernelspec": {
   "display_name": "Python 3 (ipykernel)",
   "language": "python",
   "name": "python3"
  },
  "language_info": {
   "codemirror_mode": {
    "name": "ipython",
    "version": 3
   },
   "file_extension": ".py",
   "mimetype": "text/x-python",
   "name": "python",
   "nbconvert_exporter": "python",
   "pygments_lexer": "ipython3",
   "version": "3.9.13"
  },
  "widgets": {
   "application/vnd.jupyter.widget-state+json": {
    "0a3f327aec6f47188d2311544b6bb053": {
     "model_module": "@jupyter-widgets/controls",
     "model_module_version": "1.5.0",
     "model_name": "FloatProgressModel",
     "state": {
      "_dom_classes": [],
      "_model_module": "@jupyter-widgets/controls",
      "_model_module_version": "1.5.0",
      "_model_name": "FloatProgressModel",
      "_view_count": null,
      "_view_module": "@jupyter-widgets/controls",
      "_view_module_version": "1.5.0",
      "_view_name": "ProgressView",
      "bar_style": "success",
      "description": "",
      "description_tooltip": null,
      "layout": "IPY_MODEL_b185c16989ba49f4845d744b17be8c37",
      "max": 152,
      "min": 0,
      "orientation": "horizontal",
      "style": "IPY_MODEL_e7da57423fa0416ab8d651a530b27a96",
      "value": 152
     }
    },
    "1ce052ab67344f83981488f512425b1e": {
     "model_module": "@jupyter-widgets/controls",
     "model_module_version": "1.5.0",
     "model_name": "DescriptionStyleModel",
     "state": {
      "_model_module": "@jupyter-widgets/controls",
      "_model_module_version": "1.5.0",
      "_model_name": "DescriptionStyleModel",
      "_view_count": null,
      "_view_module": "@jupyter-widgets/base",
      "_view_module_version": "1.2.0",
      "_view_name": "StyleView",
      "description_width": ""
     }
    },
    "2403c22ffed34503926ee845254e9b37": {
     "model_module": "@jupyter-widgets/controls",
     "model_module_version": "1.5.0",
     "model_name": "DescriptionStyleModel",
     "state": {
      "_model_module": "@jupyter-widgets/controls",
      "_model_module_version": "1.5.0",
      "_model_name": "DescriptionStyleModel",
      "_view_count": null,
      "_view_module": "@jupyter-widgets/base",
      "_view_module_version": "1.2.0",
      "_view_name": "StyleView",
      "description_width": ""
     }
    },
    "2732a2c8dc4140f0b2171d27ec6f16ad": {
     "model_module": "@jupyter-widgets/controls",
     "model_module_version": "1.5.0",
     "model_name": "HTMLModel",
     "state": {
      "_dom_classes": [],
      "_model_module": "@jupyter-widgets/controls",
      "_model_module_version": "1.5.0",
      "_model_name": "HTMLModel",
      "_view_count": null,
      "_view_module": "@jupyter-widgets/controls",
      "_view_module_version": "1.5.0",
      "_view_name": "HTMLView",
      "description": "",
      "description_tooltip": null,
      "layout": "IPY_MODEL_c688ee44485c40d59e60b2e4dae5a279",
      "placeholder": "​",
      "style": "IPY_MODEL_2403c22ffed34503926ee845254e9b37",
      "value": " 152/152 [08:03&lt;00:00,  3.10s/it]"
     }
    },
    "2a6fcd58178c4214b2de3b92bb92f01d": {
     "model_module": "@jupyter-widgets/base",
     "model_module_version": "1.2.0",
     "model_name": "LayoutModel",
     "state": {
      "_model_module": "@jupyter-widgets/base",
      "_model_module_version": "1.2.0",
      "_model_name": "LayoutModel",
      "_view_count": null,
      "_view_module": "@jupyter-widgets/base",
      "_view_module_version": "1.2.0",
      "_view_name": "LayoutView",
      "align_content": null,
      "align_items": null,
      "align_self": null,
      "border": null,
      "bottom": null,
      "display": null,
      "flex": null,
      "flex_flow": null,
      "grid_area": null,
      "grid_auto_columns": null,
      "grid_auto_flow": null,
      "grid_auto_rows": null,
      "grid_column": null,
      "grid_gap": null,
      "grid_row": null,
      "grid_template_areas": null,
      "grid_template_columns": null,
      "grid_template_rows": null,
      "height": null,
      "justify_content": null,
      "justify_items": null,
      "left": null,
      "margin": null,
      "max_height": null,
      "max_width": null,
      "min_height": null,
      "min_width": null,
      "object_fit": null,
      "object_position": null,
      "order": null,
      "overflow": null,
      "overflow_x": null,
      "overflow_y": null,
      "padding": null,
      "right": null,
      "top": null,
      "visibility": null,
      "width": null
     }
    },
    "2ad915dcfff14df0b64400187ec050f7": {
     "model_module": "@jupyter-widgets/controls",
     "model_module_version": "1.5.0",
     "model_name": "HTMLModel",
     "state": {
      "_dom_classes": [],
      "_model_module": "@jupyter-widgets/controls",
      "_model_module_version": "1.5.0",
      "_model_name": "HTMLModel",
      "_view_count": null,
      "_view_module": "@jupyter-widgets/controls",
      "_view_module_version": "1.5.0",
      "_view_name": "HTMLView",
      "description": "",
      "description_tooltip": null,
      "layout": "IPY_MODEL_a87f4b84832a482191c3ad28cc1e9b8e",
      "placeholder": "​",
      "style": "IPY_MODEL_1ce052ab67344f83981488f512425b1e",
      "value": " 152/152 [16:06&lt;00:00,  6.16s/it]"
     }
    },
    "3001216054a14721a8db10f898aa38b6": {
     "model_module": "@jupyter-widgets/controls",
     "model_module_version": "1.5.0",
     "model_name": "FloatProgressModel",
     "state": {
      "_dom_classes": [],
      "_model_module": "@jupyter-widgets/controls",
      "_model_module_version": "1.5.0",
      "_model_name": "FloatProgressModel",
      "_view_count": null,
      "_view_module": "@jupyter-widgets/controls",
      "_view_module_version": "1.5.0",
      "_view_name": "ProgressView",
      "bar_style": "success",
      "description": "",
      "description_tooltip": null,
      "layout": "IPY_MODEL_935b83f477c54cd49760c6dc43e56156",
      "max": 152,
      "min": 0,
      "orientation": "horizontal",
      "style": "IPY_MODEL_6256a8db5a764fe68eb4330bd1cd75ec",
      "value": 152
     }
    },
    "3294552d4d67450595d6f5ec306e9be6": {
     "model_module": "@jupyter-widgets/base",
     "model_module_version": "1.2.0",
     "model_name": "LayoutModel",
     "state": {
      "_model_module": "@jupyter-widgets/base",
      "_model_module_version": "1.2.0",
      "_model_name": "LayoutModel",
      "_view_count": null,
      "_view_module": "@jupyter-widgets/base",
      "_view_module_version": "1.2.0",
      "_view_name": "LayoutView",
      "align_content": null,
      "align_items": null,
      "align_self": null,
      "border": null,
      "bottom": null,
      "display": null,
      "flex": null,
      "flex_flow": null,
      "grid_area": null,
      "grid_auto_columns": null,
      "grid_auto_flow": null,
      "grid_auto_rows": null,
      "grid_column": null,
      "grid_gap": null,
      "grid_row": null,
      "grid_template_areas": null,
      "grid_template_columns": null,
      "grid_template_rows": null,
      "height": null,
      "justify_content": null,
      "justify_items": null,
      "left": null,
      "margin": null,
      "max_height": null,
      "max_width": null,
      "min_height": null,
      "min_width": null,
      "object_fit": null,
      "object_position": null,
      "order": null,
      "overflow": null,
      "overflow_x": null,
      "overflow_y": null,
      "padding": null,
      "right": null,
      "top": null,
      "visibility": null,
      "width": null
     }
    },
    "330de384f4aa43d0b53c40b8672ff93d": {
     "model_module": "@jupyter-widgets/controls",
     "model_module_version": "1.5.0",
     "model_name": "HTMLModel",
     "state": {
      "_dom_classes": [],
      "_model_module": "@jupyter-widgets/controls",
      "_model_module_version": "1.5.0",
      "_model_name": "HTMLModel",
      "_view_count": null,
      "_view_module": "@jupyter-widgets/controls",
      "_view_module_version": "1.5.0",
      "_view_name": "HTMLView",
      "description": "",
      "description_tooltip": null,
      "layout": "IPY_MODEL_6d9bcda07ecf42048d4796ae8f58653b",
      "placeholder": "​",
      "style": "IPY_MODEL_77505d1a19a8491488c821ac69488bac",
      "value": "extracting data_SmoothPur_1_4: 100%"
     }
    },
    "37a9dd16cb1348a3aa145072b33dd2aa": {
     "model_module": "@jupyter-widgets/base",
     "model_module_version": "1.2.0",
     "model_name": "LayoutModel",
     "state": {
      "_model_module": "@jupyter-widgets/base",
      "_model_module_version": "1.2.0",
      "_model_name": "LayoutModel",
      "_view_count": null,
      "_view_module": "@jupyter-widgets/base",
      "_view_module_version": "1.2.0",
      "_view_name": "LayoutView",
      "align_content": null,
      "align_items": null,
      "align_self": null,
      "border": null,
      "bottom": null,
      "display": null,
      "flex": null,
      "flex_flow": null,
      "grid_area": null,
      "grid_auto_columns": null,
      "grid_auto_flow": null,
      "grid_auto_rows": null,
      "grid_column": null,
      "grid_gap": null,
      "grid_row": null,
      "grid_template_areas": null,
      "grid_template_columns": null,
      "grid_template_rows": null,
      "height": null,
      "justify_content": null,
      "justify_items": null,
      "left": null,
      "margin": null,
      "max_height": null,
      "max_width": null,
      "min_height": null,
      "min_width": null,
      "object_fit": null,
      "object_position": null,
      "order": null,
      "overflow": null,
      "overflow_x": null,
      "overflow_y": null,
      "padding": null,
      "right": null,
      "top": null,
      "visibility": null,
      "width": null
     }
    },
    "39cc928ab107451cb47c3ffb0b8b4e68": {
     "model_module": "@jupyter-widgets/controls",
     "model_module_version": "1.5.0",
     "model_name": "HTMLModel",
     "state": {
      "_dom_classes": [],
      "_model_module": "@jupyter-widgets/controls",
      "_model_module_version": "1.5.0",
      "_model_name": "HTMLModel",
      "_view_count": null,
      "_view_module": "@jupyter-widgets/controls",
      "_view_module_version": "1.5.0",
      "_view_name": "HTMLView",
      "description": "",
      "description_tooltip": null,
      "layout": "IPY_MODEL_94c048f6cf64432db5ea581c031b02bd",
      "placeholder": "​",
      "style": "IPY_MODEL_4563eb0caebe4ffc952525bfeb731802",
      "value": "extracting data_SmoothPur_9_10: 100%"
     }
    },
    "4563eb0caebe4ffc952525bfeb731802": {
     "model_module": "@jupyter-widgets/controls",
     "model_module_version": "1.5.0",
     "model_name": "DescriptionStyleModel",
     "state": {
      "_model_module": "@jupyter-widgets/controls",
      "_model_module_version": "1.5.0",
      "_model_name": "DescriptionStyleModel",
      "_view_count": null,
      "_view_module": "@jupyter-widgets/base",
      "_view_module_version": "1.2.0",
      "_view_name": "StyleView",
      "description_width": ""
     }
    },
    "458e046b9bab4776bbc04ee4f9384d3c": {
     "model_module": "@jupyter-widgets/base",
     "model_module_version": "1.2.0",
     "model_name": "LayoutModel",
     "state": {
      "_model_module": "@jupyter-widgets/base",
      "_model_module_version": "1.2.0",
      "_model_name": "LayoutModel",
      "_view_count": null,
      "_view_module": "@jupyter-widgets/base",
      "_view_module_version": "1.2.0",
      "_view_name": "LayoutView",
      "align_content": null,
      "align_items": null,
      "align_self": null,
      "border": null,
      "bottom": null,
      "display": null,
      "flex": null,
      "flex_flow": null,
      "grid_area": null,
      "grid_auto_columns": null,
      "grid_auto_flow": null,
      "grid_auto_rows": null,
      "grid_column": null,
      "grid_gap": null,
      "grid_row": null,
      "grid_template_areas": null,
      "grid_template_columns": null,
      "grid_template_rows": null,
      "height": null,
      "justify_content": null,
      "justify_items": null,
      "left": null,
      "margin": null,
      "max_height": null,
      "max_width": null,
      "min_height": null,
      "min_width": null,
      "object_fit": null,
      "object_position": null,
      "order": null,
      "overflow": null,
      "overflow_x": null,
      "overflow_y": null,
      "padding": null,
      "right": null,
      "top": null,
      "visibility": null,
      "width": null
     }
    },
    "4c196d7f53254b0ca4793c26bd70f27a": {
     "model_module": "@jupyter-widgets/controls",
     "model_module_version": "1.5.0",
     "model_name": "DescriptionStyleModel",
     "state": {
      "_model_module": "@jupyter-widgets/controls",
      "_model_module_version": "1.5.0",
      "_model_name": "DescriptionStyleModel",
      "_view_count": null,
      "_view_module": "@jupyter-widgets/base",
      "_view_module_version": "1.2.0",
      "_view_name": "StyleView",
      "description_width": ""
     }
    },
    "596e9acbba7d4ceb930591f9511d1dda": {
     "model_module": "@jupyter-widgets/base",
     "model_module_version": "1.2.0",
     "model_name": "LayoutModel",
     "state": {
      "_model_module": "@jupyter-widgets/base",
      "_model_module_version": "1.2.0",
      "_model_name": "LayoutModel",
      "_view_count": null,
      "_view_module": "@jupyter-widgets/base",
      "_view_module_version": "1.2.0",
      "_view_name": "LayoutView",
      "align_content": null,
      "align_items": null,
      "align_self": null,
      "border": null,
      "bottom": null,
      "display": null,
      "flex": null,
      "flex_flow": null,
      "grid_area": null,
      "grid_auto_columns": null,
      "grid_auto_flow": null,
      "grid_auto_rows": null,
      "grid_column": null,
      "grid_gap": null,
      "grid_row": null,
      "grid_template_areas": null,
      "grid_template_columns": null,
      "grid_template_rows": null,
      "height": null,
      "justify_content": null,
      "justify_items": null,
      "left": null,
      "margin": null,
      "max_height": null,
      "max_width": null,
      "min_height": null,
      "min_width": null,
      "object_fit": null,
      "object_position": null,
      "order": null,
      "overflow": null,
      "overflow_x": null,
      "overflow_y": null,
      "padding": null,
      "right": null,
      "top": null,
      "visibility": null,
      "width": null
     }
    },
    "5973fca45ef8412c8635264eef7aa384": {
     "model_module": "@jupyter-widgets/base",
     "model_module_version": "1.2.0",
     "model_name": "LayoutModel",
     "state": {
      "_model_module": "@jupyter-widgets/base",
      "_model_module_version": "1.2.0",
      "_model_name": "LayoutModel",
      "_view_count": null,
      "_view_module": "@jupyter-widgets/base",
      "_view_module_version": "1.2.0",
      "_view_name": "LayoutView",
      "align_content": null,
      "align_items": null,
      "align_self": null,
      "border": null,
      "bottom": null,
      "display": null,
      "flex": null,
      "flex_flow": null,
      "grid_area": null,
      "grid_auto_columns": null,
      "grid_auto_flow": null,
      "grid_auto_rows": null,
      "grid_column": null,
      "grid_gap": null,
      "grid_row": null,
      "grid_template_areas": null,
      "grid_template_columns": null,
      "grid_template_rows": null,
      "height": null,
      "justify_content": null,
      "justify_items": null,
      "left": null,
      "margin": null,
      "max_height": null,
      "max_width": null,
      "min_height": null,
      "min_width": null,
      "object_fit": null,
      "object_position": null,
      "order": null,
      "overflow": null,
      "overflow_x": null,
      "overflow_y": null,
      "padding": null,
      "right": null,
      "top": null,
      "visibility": null,
      "width": null
     }
    },
    "6256a8db5a764fe68eb4330bd1cd75ec": {
     "model_module": "@jupyter-widgets/controls",
     "model_module_version": "1.5.0",
     "model_name": "ProgressStyleModel",
     "state": {
      "_model_module": "@jupyter-widgets/controls",
      "_model_module_version": "1.5.0",
      "_model_name": "ProgressStyleModel",
      "_view_count": null,
      "_view_module": "@jupyter-widgets/base",
      "_view_module_version": "1.2.0",
      "_view_name": "StyleView",
      "bar_color": null,
      "description_width": ""
     }
    },
    "6d9bcda07ecf42048d4796ae8f58653b": {
     "model_module": "@jupyter-widgets/base",
     "model_module_version": "1.2.0",
     "model_name": "LayoutModel",
     "state": {
      "_model_module": "@jupyter-widgets/base",
      "_model_module_version": "1.2.0",
      "_model_name": "LayoutModel",
      "_view_count": null,
      "_view_module": "@jupyter-widgets/base",
      "_view_module_version": "1.2.0",
      "_view_name": "LayoutView",
      "align_content": null,
      "align_items": null,
      "align_self": null,
      "border": null,
      "bottom": null,
      "display": null,
      "flex": null,
      "flex_flow": null,
      "grid_area": null,
      "grid_auto_columns": null,
      "grid_auto_flow": null,
      "grid_auto_rows": null,
      "grid_column": null,
      "grid_gap": null,
      "grid_row": null,
      "grid_template_areas": null,
      "grid_template_columns": null,
      "grid_template_rows": null,
      "height": null,
      "justify_content": null,
      "justify_items": null,
      "left": null,
      "margin": null,
      "max_height": null,
      "max_width": null,
      "min_height": null,
      "min_width": null,
      "object_fit": null,
      "object_position": null,
      "order": null,
      "overflow": null,
      "overflow_x": null,
      "overflow_y": null,
      "padding": null,
      "right": null,
      "top": null,
      "visibility": null,
      "width": null
     }
    },
    "77505d1a19a8491488c821ac69488bac": {
     "model_module": "@jupyter-widgets/controls",
     "model_module_version": "1.5.0",
     "model_name": "DescriptionStyleModel",
     "state": {
      "_model_module": "@jupyter-widgets/controls",
      "_model_module_version": "1.5.0",
      "_model_name": "DescriptionStyleModel",
      "_view_count": null,
      "_view_module": "@jupyter-widgets/base",
      "_view_module_version": "1.2.0",
      "_view_name": "StyleView",
      "description_width": ""
     }
    },
    "7c8e503076804de698f13581eacee69f": {
     "model_module": "@jupyter-widgets/controls",
     "model_module_version": "1.5.0",
     "model_name": "DescriptionStyleModel",
     "state": {
      "_model_module": "@jupyter-widgets/controls",
      "_model_module_version": "1.5.0",
      "_model_name": "DescriptionStyleModel",
      "_view_count": null,
      "_view_module": "@jupyter-widgets/base",
      "_view_module_version": "1.2.0",
      "_view_name": "StyleView",
      "description_width": ""
     }
    },
    "82c19d7c83f84ebfa42619616a0c7e73": {
     "model_module": "@jupyter-widgets/controls",
     "model_module_version": "1.5.0",
     "model_name": "HTMLModel",
     "state": {
      "_dom_classes": [],
      "_model_module": "@jupyter-widgets/controls",
      "_model_module_version": "1.5.0",
      "_model_name": "HTMLModel",
      "_view_count": null,
      "_view_module": "@jupyter-widgets/controls",
      "_view_module_version": "1.5.0",
      "_view_name": "HTMLView",
      "description": "",
      "description_tooltip": null,
      "layout": "IPY_MODEL_8762fe90ac4d41b4ab6a4cf3aa6b5d87",
      "placeholder": "​",
      "style": "IPY_MODEL_4c196d7f53254b0ca4793c26bd70f27a",
      "value": " 152/152 [08:13&lt;00:00,  3.03s/it]"
     }
    },
    "8762fe90ac4d41b4ab6a4cf3aa6b5d87": {
     "model_module": "@jupyter-widgets/base",
     "model_module_version": "1.2.0",
     "model_name": "LayoutModel",
     "state": {
      "_model_module": "@jupyter-widgets/base",
      "_model_module_version": "1.2.0",
      "_model_name": "LayoutModel",
      "_view_count": null,
      "_view_module": "@jupyter-widgets/base",
      "_view_module_version": "1.2.0",
      "_view_name": "LayoutView",
      "align_content": null,
      "align_items": null,
      "align_self": null,
      "border": null,
      "bottom": null,
      "display": null,
      "flex": null,
      "flex_flow": null,
      "grid_area": null,
      "grid_auto_columns": null,
      "grid_auto_flow": null,
      "grid_auto_rows": null,
      "grid_column": null,
      "grid_gap": null,
      "grid_row": null,
      "grid_template_areas": null,
      "grid_template_columns": null,
      "grid_template_rows": null,
      "height": null,
      "justify_content": null,
      "justify_items": null,
      "left": null,
      "margin": null,
      "max_height": null,
      "max_width": null,
      "min_height": null,
      "min_width": null,
      "object_fit": null,
      "object_position": null,
      "order": null,
      "overflow": null,
      "overflow_x": null,
      "overflow_y": null,
      "padding": null,
      "right": null,
      "top": null,
      "visibility": null,
      "width": null
     }
    },
    "8d673f11617b4de2b13f97df9626e671": {
     "model_module": "@jupyter-widgets/base",
     "model_module_version": "1.2.0",
     "model_name": "LayoutModel",
     "state": {
      "_model_module": "@jupyter-widgets/base",
      "_model_module_version": "1.2.0",
      "_model_name": "LayoutModel",
      "_view_count": null,
      "_view_module": "@jupyter-widgets/base",
      "_view_module_version": "1.2.0",
      "_view_name": "LayoutView",
      "align_content": null,
      "align_items": null,
      "align_self": null,
      "border": null,
      "bottom": null,
      "display": null,
      "flex": null,
      "flex_flow": null,
      "grid_area": null,
      "grid_auto_columns": null,
      "grid_auto_flow": null,
      "grid_auto_rows": null,
      "grid_column": null,
      "grid_gap": null,
      "grid_row": null,
      "grid_template_areas": null,
      "grid_template_columns": null,
      "grid_template_rows": null,
      "height": null,
      "justify_content": null,
      "justify_items": null,
      "left": null,
      "margin": null,
      "max_height": null,
      "max_width": null,
      "min_height": null,
      "min_width": null,
      "object_fit": null,
      "object_position": null,
      "order": null,
      "overflow": null,
      "overflow_x": null,
      "overflow_y": null,
      "padding": null,
      "right": null,
      "top": null,
      "visibility": null,
      "width": null
     }
    },
    "935b83f477c54cd49760c6dc43e56156": {
     "model_module": "@jupyter-widgets/base",
     "model_module_version": "1.2.0",
     "model_name": "LayoutModel",
     "state": {
      "_model_module": "@jupyter-widgets/base",
      "_model_module_version": "1.2.0",
      "_model_name": "LayoutModel",
      "_view_count": null,
      "_view_module": "@jupyter-widgets/base",
      "_view_module_version": "1.2.0",
      "_view_name": "LayoutView",
      "align_content": null,
      "align_items": null,
      "align_self": null,
      "border": null,
      "bottom": null,
      "display": null,
      "flex": null,
      "flex_flow": null,
      "grid_area": null,
      "grid_auto_columns": null,
      "grid_auto_flow": null,
      "grid_auto_rows": null,
      "grid_column": null,
      "grid_gap": null,
      "grid_row": null,
      "grid_template_areas": null,
      "grid_template_columns": null,
      "grid_template_rows": null,
      "height": null,
      "justify_content": null,
      "justify_items": null,
      "left": null,
      "margin": null,
      "max_height": null,
      "max_width": null,
      "min_height": null,
      "min_width": null,
      "object_fit": null,
      "object_position": null,
      "order": null,
      "overflow": null,
      "overflow_x": null,
      "overflow_y": null,
      "padding": null,
      "right": null,
      "top": null,
      "visibility": null,
      "width": null
     }
    },
    "94c048f6cf64432db5ea581c031b02bd": {
     "model_module": "@jupyter-widgets/base",
     "model_module_version": "1.2.0",
     "model_name": "LayoutModel",
     "state": {
      "_model_module": "@jupyter-widgets/base",
      "_model_module_version": "1.2.0",
      "_model_name": "LayoutModel",
      "_view_count": null,
      "_view_module": "@jupyter-widgets/base",
      "_view_module_version": "1.2.0",
      "_view_name": "LayoutView",
      "align_content": null,
      "align_items": null,
      "align_self": null,
      "border": null,
      "bottom": null,
      "display": null,
      "flex": null,
      "flex_flow": null,
      "grid_area": null,
      "grid_auto_columns": null,
      "grid_auto_flow": null,
      "grid_auto_rows": null,
      "grid_column": null,
      "grid_gap": null,
      "grid_row": null,
      "grid_template_areas": null,
      "grid_template_columns": null,
      "grid_template_rows": null,
      "height": null,
      "justify_content": null,
      "justify_items": null,
      "left": null,
      "margin": null,
      "max_height": null,
      "max_width": null,
      "min_height": null,
      "min_width": null,
      "object_fit": null,
      "object_position": null,
      "order": null,
      "overflow": null,
      "overflow_x": null,
      "overflow_y": null,
      "padding": null,
      "right": null,
      "top": null,
      "visibility": null,
      "width": null
     }
    },
    "9bbad03dfdb14ba4b809b9ece71ace40": {
     "model_module": "@jupyter-widgets/controls",
     "model_module_version": "1.5.0",
     "model_name": "HBoxModel",
     "state": {
      "_dom_classes": [],
      "_model_module": "@jupyter-widgets/controls",
      "_model_module_version": "1.5.0",
      "_model_name": "HBoxModel",
      "_view_count": null,
      "_view_module": "@jupyter-widgets/controls",
      "_view_module_version": "1.5.0",
      "_view_name": "HBoxView",
      "box_style": "",
      "children": [
       "IPY_MODEL_330de384f4aa43d0b53c40b8672ff93d",
       "IPY_MODEL_0a3f327aec6f47188d2311544b6bb053",
       "IPY_MODEL_2ad915dcfff14df0b64400187ec050f7"
      ],
      "layout": "IPY_MODEL_cf36abc328f0439d8327eef74563da66"
     }
    },
    "a044d1c6c2794bcab578709dbf73c289": {
     "model_module": "@jupyter-widgets/controls",
     "model_module_version": "1.5.0",
     "model_name": "FloatProgressModel",
     "state": {
      "_dom_classes": [],
      "_model_module": "@jupyter-widgets/controls",
      "_model_module_version": "1.5.0",
      "_model_name": "FloatProgressModel",
      "_view_count": null,
      "_view_module": "@jupyter-widgets/controls",
      "_view_module_version": "1.5.0",
      "_view_name": "ProgressView",
      "bar_style": "success",
      "description": "",
      "description_tooltip": null,
      "layout": "IPY_MODEL_37a9dd16cb1348a3aa145072b33dd2aa",
      "max": 152,
      "min": 0,
      "orientation": "horizontal",
      "style": "IPY_MODEL_f2cb4a8860b44a3a88ac78bcf9cf97af",
      "value": 152
     }
    },
    "a87f4b84832a482191c3ad28cc1e9b8e": {
     "model_module": "@jupyter-widgets/base",
     "model_module_version": "1.2.0",
     "model_name": "LayoutModel",
     "state": {
      "_model_module": "@jupyter-widgets/base",
      "_model_module_version": "1.2.0",
      "_model_name": "LayoutModel",
      "_view_count": null,
      "_view_module": "@jupyter-widgets/base",
      "_view_module_version": "1.2.0",
      "_view_name": "LayoutView",
      "align_content": null,
      "align_items": null,
      "align_self": null,
      "border": null,
      "bottom": null,
      "display": null,
      "flex": null,
      "flex_flow": null,
      "grid_area": null,
      "grid_auto_columns": null,
      "grid_auto_flow": null,
      "grid_auto_rows": null,
      "grid_column": null,
      "grid_gap": null,
      "grid_row": null,
      "grid_template_areas": null,
      "grid_template_columns": null,
      "grid_template_rows": null,
      "height": null,
      "justify_content": null,
      "justify_items": null,
      "left": null,
      "margin": null,
      "max_height": null,
      "max_width": null,
      "min_height": null,
      "min_width": null,
      "object_fit": null,
      "object_position": null,
      "order": null,
      "overflow": null,
      "overflow_x": null,
      "overflow_y": null,
      "padding": null,
      "right": null,
      "top": null,
      "visibility": null,
      "width": null
     }
    },
    "a8ffeb7367a54cdaac4ee90a9fbc2608": {
     "model_module": "@jupyter-widgets/controls",
     "model_module_version": "1.5.0",
     "model_name": "HBoxModel",
     "state": {
      "_dom_classes": [],
      "_model_module": "@jupyter-widgets/controls",
      "_model_module_version": "1.5.0",
      "_model_name": "HBoxModel",
      "_view_count": null,
      "_view_module": "@jupyter-widgets/controls",
      "_view_module_version": "1.5.0",
      "_view_name": "HBoxView",
      "box_style": "",
      "children": [
       "IPY_MODEL_bfb1cbc15ed0464bb7c723688c360240",
       "IPY_MODEL_ad5e02b2a0ef4dd0a8b0cdec06272342",
       "IPY_MODEL_2732a2c8dc4140f0b2171d27ec6f16ad"
      ],
      "layout": "IPY_MODEL_5973fca45ef8412c8635264eef7aa384"
     }
    },
    "ad5e02b2a0ef4dd0a8b0cdec06272342": {
     "model_module": "@jupyter-widgets/controls",
     "model_module_version": "1.5.0",
     "model_name": "FloatProgressModel",
     "state": {
      "_dom_classes": [],
      "_model_module": "@jupyter-widgets/controls",
      "_model_module_version": "1.5.0",
      "_model_name": "FloatProgressModel",
      "_view_count": null,
      "_view_module": "@jupyter-widgets/controls",
      "_view_module_version": "1.5.0",
      "_view_name": "ProgressView",
      "bar_style": "success",
      "description": "",
      "description_tooltip": null,
      "layout": "IPY_MODEL_8d673f11617b4de2b13f97df9626e671",
      "max": 152,
      "min": 0,
      "orientation": "horizontal",
      "style": "IPY_MODEL_bce8c6f2534c4470bf42045c2adfcefd",
      "value": 152
     }
    },
    "b185c16989ba49f4845d744b17be8c37": {
     "model_module": "@jupyter-widgets/base",
     "model_module_version": "1.2.0",
     "model_name": "LayoutModel",
     "state": {
      "_model_module": "@jupyter-widgets/base",
      "_model_module_version": "1.2.0",
      "_model_name": "LayoutModel",
      "_view_count": null,
      "_view_module": "@jupyter-widgets/base",
      "_view_module_version": "1.2.0",
      "_view_name": "LayoutView",
      "align_content": null,
      "align_items": null,
      "align_self": null,
      "border": null,
      "bottom": null,
      "display": null,
      "flex": null,
      "flex_flow": null,
      "grid_area": null,
      "grid_auto_columns": null,
      "grid_auto_flow": null,
      "grid_auto_rows": null,
      "grid_column": null,
      "grid_gap": null,
      "grid_row": null,
      "grid_template_areas": null,
      "grid_template_columns": null,
      "grid_template_rows": null,
      "height": null,
      "justify_content": null,
      "justify_items": null,
      "left": null,
      "margin": null,
      "max_height": null,
      "max_width": null,
      "min_height": null,
      "min_width": null,
      "object_fit": null,
      "object_position": null,
      "order": null,
      "overflow": null,
      "overflow_x": null,
      "overflow_y": null,
      "padding": null,
      "right": null,
      "top": null,
      "visibility": null,
      "width": null
     }
    },
    "b52d45baa1804778b13dd09b2085a025": {
     "model_module": "@jupyter-widgets/controls",
     "model_module_version": "1.5.0",
     "model_name": "HTMLModel",
     "state": {
      "_dom_classes": [],
      "_model_module": "@jupyter-widgets/controls",
      "_model_module_version": "1.5.0",
      "_model_name": "HTMLModel",
      "_view_count": null,
      "_view_module": "@jupyter-widgets/controls",
      "_view_module_version": "1.5.0",
      "_view_name": "HTMLView",
      "description": "",
      "description_tooltip": null,
      "layout": "IPY_MODEL_3294552d4d67450595d6f5ec306e9be6",
      "placeholder": "​",
      "style": "IPY_MODEL_d814a8d0ade64f60b70383854d91ad93",
      "value": " 152/152 [16:09&lt;00:00,  5.81s/it]"
     }
    },
    "bce8c6f2534c4470bf42045c2adfcefd": {
     "model_module": "@jupyter-widgets/controls",
     "model_module_version": "1.5.0",
     "model_name": "ProgressStyleModel",
     "state": {
      "_model_module": "@jupyter-widgets/controls",
      "_model_module_version": "1.5.0",
      "_model_name": "ProgressStyleModel",
      "_view_count": null,
      "_view_module": "@jupyter-widgets/base",
      "_view_module_version": "1.2.0",
      "_view_name": "StyleView",
      "bar_color": null,
      "description_width": ""
     }
    },
    "bfb1cbc15ed0464bb7c723688c360240": {
     "model_module": "@jupyter-widgets/controls",
     "model_module_version": "1.5.0",
     "model_name": "HTMLModel",
     "state": {
      "_dom_classes": [],
      "_model_module": "@jupyter-widgets/controls",
      "_model_module_version": "1.5.0",
      "_model_name": "HTMLModel",
      "_view_count": null,
      "_view_module": "@jupyter-widgets/controls",
      "_view_module_version": "1.5.0",
      "_view_name": "HTMLView",
      "description": "",
      "description_tooltip": null,
      "layout": "IPY_MODEL_458e046b9bab4776bbc04ee4f9384d3c",
      "placeholder": "​",
      "style": "IPY_MODEL_f58185bb89bf41ebb6a26139815a42a2",
      "value": "extracting data_SmoothPur_11_12: 100%"
     }
    },
    "c688ee44485c40d59e60b2e4dae5a279": {
     "model_module": "@jupyter-widgets/base",
     "model_module_version": "1.2.0",
     "model_name": "LayoutModel",
     "state": {
      "_model_module": "@jupyter-widgets/base",
      "_model_module_version": "1.2.0",
      "_model_name": "LayoutModel",
      "_view_count": null,
      "_view_module": "@jupyter-widgets/base",
      "_view_module_version": "1.2.0",
      "_view_name": "LayoutView",
      "align_content": null,
      "align_items": null,
      "align_self": null,
      "border": null,
      "bottom": null,
      "display": null,
      "flex": null,
      "flex_flow": null,
      "grid_area": null,
      "grid_auto_columns": null,
      "grid_auto_flow": null,
      "grid_auto_rows": null,
      "grid_column": null,
      "grid_gap": null,
      "grid_row": null,
      "grid_template_areas": null,
      "grid_template_columns": null,
      "grid_template_rows": null,
      "height": null,
      "justify_content": null,
      "justify_items": null,
      "left": null,
      "margin": null,
      "max_height": null,
      "max_width": null,
      "min_height": null,
      "min_width": null,
      "object_fit": null,
      "object_position": null,
      "order": null,
      "overflow": null,
      "overflow_x": null,
      "overflow_y": null,
      "padding": null,
      "right": null,
      "top": null,
      "visibility": null,
      "width": null
     }
    },
    "cf36abc328f0439d8327eef74563da66": {
     "model_module": "@jupyter-widgets/base",
     "model_module_version": "1.2.0",
     "model_name": "LayoutModel",
     "state": {
      "_model_module": "@jupyter-widgets/base",
      "_model_module_version": "1.2.0",
      "_model_name": "LayoutModel",
      "_view_count": null,
      "_view_module": "@jupyter-widgets/base",
      "_view_module_version": "1.2.0",
      "_view_name": "LayoutView",
      "align_content": null,
      "align_items": null,
      "align_self": null,
      "border": null,
      "bottom": null,
      "display": null,
      "flex": null,
      "flex_flow": null,
      "grid_area": null,
      "grid_auto_columns": null,
      "grid_auto_flow": null,
      "grid_auto_rows": null,
      "grid_column": null,
      "grid_gap": null,
      "grid_row": null,
      "grid_template_areas": null,
      "grid_template_columns": null,
      "grid_template_rows": null,
      "height": null,
      "justify_content": null,
      "justify_items": null,
      "left": null,
      "margin": null,
      "max_height": null,
      "max_width": null,
      "min_height": null,
      "min_width": null,
      "object_fit": null,
      "object_position": null,
      "order": null,
      "overflow": null,
      "overflow_x": null,
      "overflow_y": null,
      "padding": null,
      "right": null,
      "top": null,
      "visibility": null,
      "width": null
     }
    },
    "d814a8d0ade64f60b70383854d91ad93": {
     "model_module": "@jupyter-widgets/controls",
     "model_module_version": "1.5.0",
     "model_name": "DescriptionStyleModel",
     "state": {
      "_model_module": "@jupyter-widgets/controls",
      "_model_module_version": "1.5.0",
      "_model_name": "DescriptionStyleModel",
      "_view_count": null,
      "_view_module": "@jupyter-widgets/base",
      "_view_module_version": "1.2.0",
      "_view_name": "StyleView",
      "description_width": ""
     }
    },
    "dd6e05e4e73048de8440cba689935aaa": {
     "model_module": "@jupyter-widgets/base",
     "model_module_version": "1.2.0",
     "model_name": "LayoutModel",
     "state": {
      "_model_module": "@jupyter-widgets/base",
      "_model_module_version": "1.2.0",
      "_model_name": "LayoutModel",
      "_view_count": null,
      "_view_module": "@jupyter-widgets/base",
      "_view_module_version": "1.2.0",
      "_view_name": "LayoutView",
      "align_content": null,
      "align_items": null,
      "align_self": null,
      "border": null,
      "bottom": null,
      "display": null,
      "flex": null,
      "flex_flow": null,
      "grid_area": null,
      "grid_auto_columns": null,
      "grid_auto_flow": null,
      "grid_auto_rows": null,
      "grid_column": null,
      "grid_gap": null,
      "grid_row": null,
      "grid_template_areas": null,
      "grid_template_columns": null,
      "grid_template_rows": null,
      "height": null,
      "justify_content": null,
      "justify_items": null,
      "left": null,
      "margin": null,
      "max_height": null,
      "max_width": null,
      "min_height": null,
      "min_width": null,
      "object_fit": null,
      "object_position": null,
      "order": null,
      "overflow": null,
      "overflow_x": null,
      "overflow_y": null,
      "padding": null,
      "right": null,
      "top": null,
      "visibility": null,
      "width": null
     }
    },
    "e2d3d4f9498344c5ab2d33eb4236bc0b": {
     "model_module": "@jupyter-widgets/controls",
     "model_module_version": "1.5.0",
     "model_name": "HBoxModel",
     "state": {
      "_dom_classes": [],
      "_model_module": "@jupyter-widgets/controls",
      "_model_module_version": "1.5.0",
      "_model_name": "HBoxModel",
      "_view_count": null,
      "_view_module": "@jupyter-widgets/controls",
      "_view_module_version": "1.5.0",
      "_view_name": "HBoxView",
      "box_style": "",
      "children": [
       "IPY_MODEL_39cc928ab107451cb47c3ffb0b8b4e68",
       "IPY_MODEL_a044d1c6c2794bcab578709dbf73c289",
       "IPY_MODEL_82c19d7c83f84ebfa42619616a0c7e73"
      ],
      "layout": "IPY_MODEL_2a6fcd58178c4214b2de3b92bb92f01d"
     }
    },
    "e3b0d155b28d4fd7b8d854e7f3dfba3d": {
     "model_module": "@jupyter-widgets/controls",
     "model_module_version": "1.5.0",
     "model_name": "HTMLModel",
     "state": {
      "_dom_classes": [],
      "_model_module": "@jupyter-widgets/controls",
      "_model_module_version": "1.5.0",
      "_model_name": "HTMLModel",
      "_view_count": null,
      "_view_module": "@jupyter-widgets/controls",
      "_view_module_version": "1.5.0",
      "_view_name": "HTMLView",
      "description": "",
      "description_tooltip": null,
      "layout": "IPY_MODEL_dd6e05e4e73048de8440cba689935aaa",
      "placeholder": "​",
      "style": "IPY_MODEL_7c8e503076804de698f13581eacee69f",
      "value": "extracting data_SmoothPur_5_8: 100%"
     }
    },
    "e7da57423fa0416ab8d651a530b27a96": {
     "model_module": "@jupyter-widgets/controls",
     "model_module_version": "1.5.0",
     "model_name": "ProgressStyleModel",
     "state": {
      "_model_module": "@jupyter-widgets/controls",
      "_model_module_version": "1.5.0",
      "_model_name": "ProgressStyleModel",
      "_view_count": null,
      "_view_module": "@jupyter-widgets/base",
      "_view_module_version": "1.2.0",
      "_view_name": "StyleView",
      "bar_color": null,
      "description_width": ""
     }
    },
    "f2cb4a8860b44a3a88ac78bcf9cf97af": {
     "model_module": "@jupyter-widgets/controls",
     "model_module_version": "1.5.0",
     "model_name": "ProgressStyleModel",
     "state": {
      "_model_module": "@jupyter-widgets/controls",
      "_model_module_version": "1.5.0",
      "_model_name": "ProgressStyleModel",
      "_view_count": null,
      "_view_module": "@jupyter-widgets/base",
      "_view_module_version": "1.2.0",
      "_view_name": "StyleView",
      "bar_color": null,
      "description_width": ""
     }
    },
    "f58185bb89bf41ebb6a26139815a42a2": {
     "model_module": "@jupyter-widgets/controls",
     "model_module_version": "1.5.0",
     "model_name": "DescriptionStyleModel",
     "state": {
      "_model_module": "@jupyter-widgets/controls",
      "_model_module_version": "1.5.0",
      "_model_name": "DescriptionStyleModel",
      "_view_count": null,
      "_view_module": "@jupyter-widgets/base",
      "_view_module_version": "1.2.0",
      "_view_name": "StyleView",
      "description_width": ""
     }
    },
    "fbe66c3e52854de1b2d870fd8e7eed2d": {
     "model_module": "@jupyter-widgets/controls",
     "model_module_version": "1.5.0",
     "model_name": "HBoxModel",
     "state": {
      "_dom_classes": [],
      "_model_module": "@jupyter-widgets/controls",
      "_model_module_version": "1.5.0",
      "_model_name": "HBoxModel",
      "_view_count": null,
      "_view_module": "@jupyter-widgets/controls",
      "_view_module_version": "1.5.0",
      "_view_name": "HBoxView",
      "box_style": "",
      "children": [
       "IPY_MODEL_e3b0d155b28d4fd7b8d854e7f3dfba3d",
       "IPY_MODEL_3001216054a14721a8db10f898aa38b6",
       "IPY_MODEL_b52d45baa1804778b13dd09b2085a025"
      ],
      "layout": "IPY_MODEL_596e9acbba7d4ceb930591f9511d1dda"
     }
    }
   }
  }
 },
 "nbformat": 4,
 "nbformat_minor": 5
}
