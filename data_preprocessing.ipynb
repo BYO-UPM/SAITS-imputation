{
 "cells": [
  {
   "cell_type": "code",
   "execution_count": 1,
   "id": "7vYq0VH13jkJ",
   "metadata": {
    "id": "7vYq0VH13jkJ"
   },
   "outputs": [],
   "source": [
    "import numpy as np\n",
    "import pandas as pd\n",
    "import os\n",
    "from tqdm.notebook import tqdm\n",
    "import matplotlib.pyplot as plt\n",
    "import json"
   ]
  },
  {
   "cell_type": "markdown",
   "id": "DqlykRFH2EGX",
   "metadata": {
    "id": "DqlykRFH2EGX"
   },
   "source": [
    "# preprocess and making data"
   ]
  },
  {
   "cell_type": "markdown",
   "id": "DKlmeABree2w",
   "metadata": {
    "id": "DKlmeABree2w"
   },
   "source": [
    "## make instances dictionary"
   ]
  },
  {
   "cell_type": "code",
   "execution_count": 2,
   "id": "57leUnpVDWXj",
   "metadata": {
    "colab": {
     "base_uri": "https://localhost:8080/"
    },
    "id": "57leUnpVDWXj",
    "outputId": "33fbbc23-38ba-4b7d-9eef-a2e33d83b8fa"
   },
   "outputs": [
    {
     "name": "stdout",
     "output_type": "stream",
     "text": [
      "<class 'numpy.ndarray'>\n",
      "72\n",
      "['HF008_V2' 'HF009_V2' 'HF010_V2' 'HF011_V2' 'HF012_V2' 'HF015_V2'\n",
      " 'HF016_V2' 'HF026_V2' 'HF027_V2' 'HF030_V2' 'HF031_V2' 'HF032_V2'\n",
      " 'HF033_V2' 'HG001_V2' 'HG002_V2' 'HG003_V2' 'HG004_V2' 'HG005_V2'\n",
      " 'HG005_V3' 'HG006_V2' 'HG008_V2' 'HG009_V2' 'HG010_V2' 'HG011_V2'\n",
      " 'HG012_V2' 'HG014_V2' 'HG015_V2' 'HG016_V2' 'HG017_V2' 'HG018_V2'\n",
      " 'HG019_V2' 'HG021_V2' 'HG022_V2' 'HG023_V2' 'HG024_V2' 'HG025_V2'\n",
      " 'HG027_V2' 'HG028_V2' 'HG029_V2' 'HG030_V2' 'HG031_V2' 'HG032_V2'\n",
      " 'HG034_V2' 'HG035_V2' 'HG036_V2' 'HG037_V2' 'HG038_V2' 'HG039_V2'\n",
      " 'HG041_V2' 'HG043_V2' 'HG044_V2' 'HG047_V2' 'HG048_V2' 'HG049_V2'\n",
      " 'HG050_V2' 'HG051_V2' 'HG052_V2' 'HG053_v2' 'HG054_V2' 'HG055_V2'\n",
      " 'HG058_V2' 'HG060_V2' 'HG061_V2' 'HG063_V2' 'HG064_V2' 'HG065_V2'\n",
      " 'HG066_V2' 'HG067_V2' 'HG069_V2' 'HG072_V2' 'HG073_V2' 'HG074_V2']\n",
      "{0: np.str_('HF008_V2'), 1: np.str_('HF009_V2'), 2: np.str_('HF010_V2'), 3: np.str_('HF011_V2'), 4: np.str_('HF012_V2'), 5: np.str_('HF015_V2'), 6: np.str_('HF016_V2'), 7: np.str_('HF026_V2'), 8: np.str_('HF027_V2'), 9: np.str_('HF030_V2'), 10: np.str_('HF031_V2'), 11: np.str_('HF032_V2'), 12: np.str_('HF033_V2'), 13: np.str_('HG001_V2'), 14: np.str_('HG002_V2'), 15: np.str_('HG003_V2'), 16: np.str_('HG004_V2'), 17: np.str_('HG005_V2'), 18: np.str_('HG005_V3'), 19: np.str_('HG006_V2'), 20: np.str_('HG008_V2'), 21: np.str_('HG009_V2'), 22: np.str_('HG010_V2'), 23: np.str_('HG011_V2'), 24: np.str_('HG012_V2'), 25: np.str_('HG014_V2'), 26: np.str_('HG015_V2'), 27: np.str_('HG016_V2'), 28: np.str_('HG017_V2'), 29: np.str_('HG018_V2'), 30: np.str_('HG019_V2'), 31: np.str_('HG021_V2'), 32: np.str_('HG022_V2'), 33: np.str_('HG023_V2'), 34: np.str_('HG024_V2'), 35: np.str_('HG025_V2'), 36: np.str_('HG027_V2'), 37: np.str_('HG028_V2'), 38: np.str_('HG029_V2'), 39: np.str_('HG030_V2'), 40: np.str_('HG031_V2'), 41: np.str_('HG032_V2'), 42: np.str_('HG034_V2'), 43: np.str_('HG035_V2'), 44: np.str_('HG036_V2'), 45: np.str_('HG037_V2'), 46: np.str_('HG038_V2'), 47: np.str_('HG039_V2'), 48: np.str_('HG041_V2'), 49: np.str_('HG043_V2'), 50: np.str_('HG044_V2'), 51: np.str_('HG047_V2'), 52: np.str_('HG048_V2'), 53: np.str_('HG049_V2'), 54: np.str_('HG050_V2'), 55: np.str_('HG051_V2'), 56: np.str_('HG052_V2'), 57: np.str_('HG053_v2'), 58: np.str_('HG054_V2'), 59: np.str_('HG055_V2'), 60: np.str_('HG058_V2'), 61: np.str_('HG060_V2'), 62: np.str_('HG061_V2'), 63: np.str_('HG063_V2'), 64: np.str_('HG064_V2'), 65: np.str_('HG065_V2'), 66: np.str_('HG066_V2'), 67: np.str_('HG067_V2'), 68: np.str_('HG069_V2'), 69: np.str_('HG072_V2'), 70: np.str_('HG073_V2'), 71: np.str_('HG074_V2')}\n"
     ]
    }
   ],
   "source": [
    "DATA_PATH = r'C:\\Users\\uefav\\Desktop\\Beca\\Data_Out'  \n",
    "instance_names = np.array(os.listdir(DATA_PATH))\n",
    "print(type(instance_names))\n",
    "print(len(instance_names))\n",
    "print(instance_names)\n",
    "\n",
    "instances_dict = {}\n",
    "for i, j in enumerate(instance_names):\n",
    "  instances_dict[i] = j\n",
    "print(instances_dict)"
   ]
  },
  {
   "cell_type": "code",
   "execution_count": 3,
   "id": "292a410a-402b-4bad-b19a-c16c74d832ee",
   "metadata": {},
   "outputs": [],
   "source": [
    "NEW_DATA_PATH = 'instances_dict.json'\n",
    "with open(NEW_DATA_PATH, 'w') as f:\n",
    "    json.dump(instances_dict, f)"
   ]
  },
  {
   "cell_type": "markdown",
   "id": "o7sTfDukeojY",
   "metadata": {
    "id": "o7sTfDukeojY"
   },
   "source": [
    "## utility functions"
   ]
  },
  {
   "cell_type": "code",
   "execution_count": 5,
   "id": "_-xrm4xJfoJR",
   "metadata": {
    "id": "_-xrm4xJfoJR"
   },
   "outputs": [],
   "source": [
    "def mask_null_values(signal, event):\n",
    "  signal_length = len(signal)\n",
    "\n",
    "  for index, row in event.iterrows():\n",
    "      if row['value'] == 2:\n",
    "          start_index = row['start']\n",
    "          end_index = row['end']\n",
    "\n",
    "          signal[start_index:end_index + 1] = [np.nan] \n",
    "\n",
    "  return signal"
   ]
  },
  {
   "cell_type": "code",
   "execution_count": 7,
   "id": "fb702d0d-b853-44a8-abd3-681c7a9ca205",
   "metadata": {},
   "outputs": [],
   "source": [
    "def mask_Artificail_null_values(signal, event):\n",
    "  signal_length = len(signal)\n",
    "\n",
    "  for index, row in event.iterrows():\n",
    "      if row['value'] == 5:\n",
    "          start_index = row['start']\n",
    "          end_index = row['end']\n",
    "\n",
    "          signal[start_index:end_index + 1] = [np.nan] \n",
    "\n",
    "  return signal"
   ]
  },
  {
   "cell_type": "code",
   "execution_count": 11,
   "id": "SRDFjYblZNoa",
   "metadata": {
    "id": "SRDFjYblZNoa"
   },
   "outputs": [],
   "source": [
    "def align_length(signal):\n",
    "    if len(signal) < 15000:\n",
    "        num = 15000 - len(signal)\n",
    "        # signal = np.pad(signal, (0, num), mode='edge')\n",
    "        signal = np.pad(signal, (0, num), mode='constant', constant_values=0)\n",
    "    elif len(signal) >= 15000:\n",
    "        signal = signal[:15000]\n",
    "    return signal"
   ]
  },
  {
   "cell_type": "code",
   "execution_count": 9,
   "id": "9ea99345-61f6-4196-be43-7ecd74b5a35e",
   "metadata": {},
   "outputs": [],
   "source": [
    "def remove_outlier(signal):\n",
    "    mean = np.nanmean(signal)\n",
    "    std = np.nanstd(signal)\n",
    "    threshold = mean + 2 * std\n",
    "    \n",
    "    # Clamp values above positive threshold\n",
    "    signal = np.where(signal > threshold, threshold, signal)\n",
    "    \n",
    "    # Clamp values below negative threshold\n",
    "    signal = np.where(signal < -threshold, -threshold, signal)\n",
    "    \n",
    "    return signal"
   ]
  },
  {
   "cell_type": "markdown",
   "id": "jgwiKLxnDwgj",
   "metadata": {
    "id": "jgwiKLxnDwgj"
   },
   "source": [
    "## Nistagamo_1_4"
   ]
  },
  {
   "cell_type": "code",
   "execution_count": 16,
   "id": "8b84f89e-1fa5-4333-b970-6a9fe6d57114",
   "metadata": {},
   "outputs": [
    {
     "data": {
      "application/vnd.jupyter.widget-view+json": {
       "model_id": "3c48600f0f504ad487bd6d996987437a",
       "version_major": 2,
       "version_minor": 0
      },
      "text/plain": [
       "extracting data_Nistagamo_1_4:   0%|          | 0/72 [00:00<?, ?it/s]"
      ]
     },
     "metadata": {},
     "output_type": "display_data"
    }
   ],
   "source": [
    "Nistagmo_1_4 = []\n",
    "ex_1 = ['Nistagmo_1', 'Nistagmo_1', 'Nistagmo_1', 'Nistagmo_1']\n",
    "\n",
    "for i in tqdm(instance_names, desc='extracting data_Nistagamo_1_4', total=len(instance_names)):\n",
    "  instance = []\n",
    "  for j in ex_1:\n",
    "    path = os.path.join(DATA_PATH, i, j)\n",
    "\n",
    "    sigL = pd.read_csv(path + '/LTS.dat', header=None, names=['X-axis', 'Y-axis'])\n",
    "    sigR = pd.read_csv(path + '/RTS.dat', header=None, names=['X-axis', 'Y-axis'])\n",
    "    eventL = pd.read_csv(path + '/LEvent.dat', header=None, names=['start', 'end', 'value'])\n",
    "    eventR = pd.read_csv(path + '/REvent.dat', header=None, names=['start', 'end', 'value'])\n",
    "    target = pd.read_csv(path + '/target.dat', header=None, names=['X-axis', 'Y-axis'])\n",
    "\n",
    "    Lx = sigL.iloc[: , 0].tolist()\n",
    "    np_Lx = np.array(Lx)\n",
    "    np_Lx = mask_null_values(np_Lx, eventL)\n",
    "    np_Lx = align_length(np_Lx)\n",
    "    np_Lx = remove_outlier(np_Lx)\n",
    "\n",
    "    Rx = sigR.iloc[: , 0].tolist()\n",
    "    np_Rx = np.array(Rx)\n",
    "    np_Rx = mask_null_values(np_Rx, eventR)\n",
    "    np_Rx = align_length(np_Rx)\n",
    "    np_Rx = remove_outlier(np_Rx)\n",
    "\n",
    "    targetx = target.iloc[: , 0].tolist()\n",
    "    np_targetx = np.array(targetx)\n",
    "    np_targetx = align_length(np_targetx)\n",
    "\n",
    "    result = [np_Lx, np_Rx, np_targetx]\n",
    "    instance.append(result)\n",
    "  Nistagmo_1_4.append(instance)\n",
    "Nistagmo_1_4= np.array(Nistagmo_1_4)"
   ]
  },
  {
   "cell_type": "code",
   "execution_count": 17,
   "id": "8ef96390-055c-4c86-8246-049fbfe0f87a",
   "metadata": {},
   "outputs": [
    {
     "data": {
      "application/vnd.jupyter.widget-view+json": {
       "model_id": "b0aacc0c32f4406395aeaf447781d6ec",
       "version_major": 2,
       "version_minor": 0
      },
      "text/plain": [
       "extracting data_Nistagmo_1_4:   0%|          | 0/72 [00:00<?, ?it/s]"
      ]
     },
     "metadata": {},
     "output_type": "display_data"
    }
   ],
   "source": [
    "Nistagmo_1_4_Ar = []\n",
    "ex_1 = ['Nistagmo_1', 'Nistagmo_2', 'Nistagmo_3', 'Nistagmo_4']\n",
    "\n",
    "for i in tqdm(instance_names, desc='extracting data_Nistagmo_1_4', total=len(instance_names)):\n",
    "  instance = []\n",
    "  for j in ex_1:\n",
    "    path = os.path.join(DATA_PATH, i, j)\n",
    "\n",
    "    sigL = pd.read_csv(path + '/LTS.dat', header=None, names=['X-axis', 'Y-axis'])\n",
    "    sigR = pd.read_csv(path + '/RTS.dat', header=None, names=['X-axis', 'Y-axis'])\n",
    "    eventL = pd.read_csv(path + '/LEvent.dat', header=None, names=['start', 'end', 'value'])\n",
    "    eventR = pd.read_csv(path + '/REvent.dat', header=None, names=['start', 'end', 'value'])\n",
    "    target = pd.read_csv(path + '/target.dat', header=None, names=['X-axis', 'Y-axis'])\n",
    "\n",
    "    Lx = sigL.iloc[: , 0].tolist()\n",
    "    np_Lx = np.array(Lx)\n",
    "    np_Lx = mask_Artificail_null_values(np_Lx, eventL)\n",
    "    np_Lx = align_length(np_Lx)\n",
    "    np_Lx = remove_outlier(np_Lx)\n",
    "\n",
    "    Rx = sigR.iloc[: , 0].tolist()\n",
    "    np_Rx = np.array(Rx)\n",
    "    np_Rx = mask_Artificail_null_values(np_Rx, eventR)\n",
    "    np_Rx = align_length(np_Rx)\n",
    "    np_Rx = remove_outlier(np_Rx)\n",
    "\n",
    "    targetx = target.iloc[: , 0].tolist()\n",
    "    np_targetx = np.array(targetx)\n",
    "    np_targetx = align_length(np_targetx)\n",
    "\n",
    "    result = [np_Lx, np_Rx, np_targetx]\n",
    "    instance.append(result)\n",
    "  Nistagmo_1_4_Ar.append(instance)\n",
    "Nistagmo_1_4_Ar = np.array(Nistagmo_1_4_Ar)"
   ]
  },
  {
   "cell_type": "code",
   "execution_count": 18,
   "id": "8a4eee57-6729-4b60-a502-16698a0e464b",
   "metadata": {},
   "outputs": [],
   "source": [
    "np.save(r'C:\\Users\\uefav\\Desktop\\Beca\\Data_Out\\Nistagmo_1_4', Nistagmo_1_4)\n",
    "np.save(r'C:\\Users\\uefav\\Desktop\\Beca\\Data_Out\\Nistagmo_1_4_Ar', Nistagmo_1_4_Ar)"
   ]
  },
  {
   "cell_type": "code",
   "execution_count": 20,
   "id": "7E9izvVcwnpd",
   "metadata": {
    "id": "7E9izvVcwnpd"
   },
   "outputs": [
    {
     "name": "stdout",
     "output_type": "stream",
     "text": [
      "72\n",
      "<class 'numpy.ndarray'>\n",
      "(72, 4, 3, 15000)\n"
     ]
    }
   ],
   "source": [
    "print(len(Nistagmo_1_4))\n",
    "print(type(Nistagmo_1_4))\n",
    "print(Nistagmo_1_4.shape)"
   ]
  },
  {
   "cell_type": "code",
   "execution_count": 21,
   "id": "Qs3o8h7He2v6",
   "metadata": {
    "colab": {
     "base_uri": "https://localhost:8080/"
    },
    "id": "Qs3o8h7He2v6",
    "outputId": "d3c8a301-9e45-42ab-a165-32e9f99f7d60"
   },
   "outputs": [
    {
     "name": "stdout",
     "output_type": "stream",
     "text": [
      "72\n",
      "<class 'numpy.ndarray'>\n",
      "(72, 4, 3, 15000)\n"
     ]
    }
   ],
   "source": [
    "print(len(Nistagmo_1_4_Ar))\n",
    "print(type(Nistagmo_1_4_Ar))\n",
    "print(Nistagmo_1_4_Ar.shape)"
   ]
  },
  {
   "cell_type": "markdown",
   "id": "uIpeXABtuAk5",
   "metadata": {
    "id": "uIpeXABtuAk5"
   },
   "source": [
    "## SmoothPur_5_8"
   ]
  },
  {
   "cell_type": "code",
   "execution_count": 23,
   "id": "j0oozOBOt_Wm",
   "metadata": {
    "colab": {
     "base_uri": "https://localhost:8080/",
     "height": 49,
     "referenced_widgets": [
      "fbe66c3e52854de1b2d870fd8e7eed2d",
      "e3b0d155b28d4fd7b8d854e7f3dfba3d",
      "3001216054a14721a8db10f898aa38b6",
      "b52d45baa1804778b13dd09b2085a025",
      "596e9acbba7d4ceb930591f9511d1dda",
      "dd6e05e4e73048de8440cba689935aaa",
      "7c8e503076804de698f13581eacee69f",
      "935b83f477c54cd49760c6dc43e56156",
      "6256a8db5a764fe68eb4330bd1cd75ec",
      "3294552d4d67450595d6f5ec306e9be6",
      "d814a8d0ade64f60b70383854d91ad93"
     ]
    },
    "id": "j0oozOBOt_Wm",
    "outputId": "63dfc38e-513a-4ac3-9733-9da33f968776"
   },
   "outputs": [
    {
     "data": {
      "application/vnd.jupyter.widget-view+json": {
       "model_id": "42a9b8fabba94e5eb3d4d5f68caebbe8",
       "version_major": 2,
       "version_minor": 0
      },
      "text/plain": [
       "extracting data_Nistagmo_5_8:   0%|          | 0/72 [00:00<?, ?it/s]"
      ]
     },
     "metadata": {},
     "output_type": "display_data"
    },
    {
     "ename": "FileNotFoundError",
     "evalue": "[Errno 2] No such file or directory: 'C:\\\\Users\\\\uefav\\\\Desktop\\\\Beca\\\\Data_Out\\\\HF008_V2\\\\Nistagmo_5/LTS.dat'",
     "output_type": "error",
     "traceback": [
      "\u001b[31m---------------------------------------------------------------------------\u001b[39m",
      "\u001b[31mFileNotFoundError\u001b[39m                         Traceback (most recent call last)",
      "\u001b[36mCell\u001b[39m\u001b[36m \u001b[39m\u001b[32mIn[23]\u001b[39m\u001b[32m, line 9\u001b[39m\n\u001b[32m      6\u001b[39m \u001b[38;5;28;01mfor\u001b[39;00m j \u001b[38;5;129;01min\u001b[39;00m ex_2:\n\u001b[32m      7\u001b[39m   path = os.path.join(DATA_PATH, i, j)\n\u001b[32m----> \u001b[39m\u001b[32m9\u001b[39m   sigL = \u001b[43mpd\u001b[49m\u001b[43m.\u001b[49m\u001b[43mread_csv\u001b[49m\u001b[43m(\u001b[49m\u001b[43mpath\u001b[49m\u001b[43m \u001b[49m\u001b[43m+\u001b[49m\u001b[43m \u001b[49m\u001b[33;43m'\u001b[39;49m\u001b[33;43m/LTS.dat\u001b[39;49m\u001b[33;43m'\u001b[39;49m\u001b[43m,\u001b[49m\u001b[43m \u001b[49m\u001b[43mheader\u001b[49m\u001b[43m=\u001b[49m\u001b[38;5;28;43;01mNone\u001b[39;49;00m\u001b[43m,\u001b[49m\u001b[43m \u001b[49m\u001b[43mnames\u001b[49m\u001b[43m=\u001b[49m\u001b[43m[\u001b[49m\u001b[33;43m'\u001b[39;49m\u001b[33;43mX-axis\u001b[39;49m\u001b[33;43m'\u001b[39;49m\u001b[43m,\u001b[49m\u001b[43m \u001b[49m\u001b[33;43m'\u001b[39;49m\u001b[33;43mY-axis\u001b[39;49m\u001b[33;43m'\u001b[39;49m\u001b[43m]\u001b[49m\u001b[43m)\u001b[49m\n\u001b[32m     10\u001b[39m   sigR = pd.read_csv(path + \u001b[33m'\u001b[39m\u001b[33m/RTS.dat\u001b[39m\u001b[33m'\u001b[39m, header=\u001b[38;5;28;01mNone\u001b[39;00m, names=[\u001b[33m'\u001b[39m\u001b[33mX-axis\u001b[39m\u001b[33m'\u001b[39m, \u001b[33m'\u001b[39m\u001b[33mY-axis\u001b[39m\u001b[33m'\u001b[39m])\n\u001b[32m     11\u001b[39m   eventL = pd.read_csv(path + \u001b[33m'\u001b[39m\u001b[33m/LEvent.dat\u001b[39m\u001b[33m'\u001b[39m, header=\u001b[38;5;28;01mNone\u001b[39;00m, names=[\u001b[33m'\u001b[39m\u001b[33mstart\u001b[39m\u001b[33m'\u001b[39m, \u001b[33m'\u001b[39m\u001b[33mend\u001b[39m\u001b[33m'\u001b[39m, \u001b[33m'\u001b[39m\u001b[33mvalue\u001b[39m\u001b[33m'\u001b[39m])\n",
      "\u001b[36mFile \u001b[39m\u001b[32mc:\\Users\\uefav\\Desktop\\Beca\\SAITS-imputation\\.venv\\Lib\\site-packages\\pandas\\io\\parsers\\readers.py:1026\u001b[39m, in \u001b[36mread_csv\u001b[39m\u001b[34m(filepath_or_buffer, sep, delimiter, header, names, index_col, usecols, dtype, engine, converters, true_values, false_values, skipinitialspace, skiprows, skipfooter, nrows, na_values, keep_default_na, na_filter, verbose, skip_blank_lines, parse_dates, infer_datetime_format, keep_date_col, date_parser, date_format, dayfirst, cache_dates, iterator, chunksize, compression, thousands, decimal, lineterminator, quotechar, quoting, doublequote, escapechar, comment, encoding, encoding_errors, dialect, on_bad_lines, delim_whitespace, low_memory, memory_map, float_precision, storage_options, dtype_backend)\u001b[39m\n\u001b[32m   1013\u001b[39m kwds_defaults = _refine_defaults_read(\n\u001b[32m   1014\u001b[39m     dialect,\n\u001b[32m   1015\u001b[39m     delimiter,\n\u001b[32m   (...)\u001b[39m\u001b[32m   1022\u001b[39m     dtype_backend=dtype_backend,\n\u001b[32m   1023\u001b[39m )\n\u001b[32m   1024\u001b[39m kwds.update(kwds_defaults)\n\u001b[32m-> \u001b[39m\u001b[32m1026\u001b[39m \u001b[38;5;28;01mreturn\u001b[39;00m \u001b[43m_read\u001b[49m\u001b[43m(\u001b[49m\u001b[43mfilepath_or_buffer\u001b[49m\u001b[43m,\u001b[49m\u001b[43m \u001b[49m\u001b[43mkwds\u001b[49m\u001b[43m)\u001b[49m\n",
      "\u001b[36mFile \u001b[39m\u001b[32mc:\\Users\\uefav\\Desktop\\Beca\\SAITS-imputation\\.venv\\Lib\\site-packages\\pandas\\io\\parsers\\readers.py:620\u001b[39m, in \u001b[36m_read\u001b[39m\u001b[34m(filepath_or_buffer, kwds)\u001b[39m\n\u001b[32m    617\u001b[39m _validate_names(kwds.get(\u001b[33m\"\u001b[39m\u001b[33mnames\u001b[39m\u001b[33m\"\u001b[39m, \u001b[38;5;28;01mNone\u001b[39;00m))\n\u001b[32m    619\u001b[39m \u001b[38;5;66;03m# Create the parser.\u001b[39;00m\n\u001b[32m--> \u001b[39m\u001b[32m620\u001b[39m parser = \u001b[43mTextFileReader\u001b[49m\u001b[43m(\u001b[49m\u001b[43mfilepath_or_buffer\u001b[49m\u001b[43m,\u001b[49m\u001b[43m \u001b[49m\u001b[43m*\u001b[49m\u001b[43m*\u001b[49m\u001b[43mkwds\u001b[49m\u001b[43m)\u001b[49m\n\u001b[32m    622\u001b[39m \u001b[38;5;28;01mif\u001b[39;00m chunksize \u001b[38;5;129;01mor\u001b[39;00m iterator:\n\u001b[32m    623\u001b[39m     \u001b[38;5;28;01mreturn\u001b[39;00m parser\n",
      "\u001b[36mFile \u001b[39m\u001b[32mc:\\Users\\uefav\\Desktop\\Beca\\SAITS-imputation\\.venv\\Lib\\site-packages\\pandas\\io\\parsers\\readers.py:1620\u001b[39m, in \u001b[36mTextFileReader.__init__\u001b[39m\u001b[34m(self, f, engine, **kwds)\u001b[39m\n\u001b[32m   1617\u001b[39m     \u001b[38;5;28mself\u001b[39m.options[\u001b[33m\"\u001b[39m\u001b[33mhas_index_names\u001b[39m\u001b[33m\"\u001b[39m] = kwds[\u001b[33m\"\u001b[39m\u001b[33mhas_index_names\u001b[39m\u001b[33m\"\u001b[39m]\n\u001b[32m   1619\u001b[39m \u001b[38;5;28mself\u001b[39m.handles: IOHandles | \u001b[38;5;28;01mNone\u001b[39;00m = \u001b[38;5;28;01mNone\u001b[39;00m\n\u001b[32m-> \u001b[39m\u001b[32m1620\u001b[39m \u001b[38;5;28mself\u001b[39m._engine = \u001b[38;5;28;43mself\u001b[39;49m\u001b[43m.\u001b[49m\u001b[43m_make_engine\u001b[49m\u001b[43m(\u001b[49m\u001b[43mf\u001b[49m\u001b[43m,\u001b[49m\u001b[43m \u001b[49m\u001b[38;5;28;43mself\u001b[39;49m\u001b[43m.\u001b[49m\u001b[43mengine\u001b[49m\u001b[43m)\u001b[49m\n",
      "\u001b[36mFile \u001b[39m\u001b[32mc:\\Users\\uefav\\Desktop\\Beca\\SAITS-imputation\\.venv\\Lib\\site-packages\\pandas\\io\\parsers\\readers.py:1880\u001b[39m, in \u001b[36mTextFileReader._make_engine\u001b[39m\u001b[34m(self, f, engine)\u001b[39m\n\u001b[32m   1878\u001b[39m     \u001b[38;5;28;01mif\u001b[39;00m \u001b[33m\"\u001b[39m\u001b[33mb\u001b[39m\u001b[33m\"\u001b[39m \u001b[38;5;129;01mnot\u001b[39;00m \u001b[38;5;129;01min\u001b[39;00m mode:\n\u001b[32m   1879\u001b[39m         mode += \u001b[33m\"\u001b[39m\u001b[33mb\u001b[39m\u001b[33m\"\u001b[39m\n\u001b[32m-> \u001b[39m\u001b[32m1880\u001b[39m \u001b[38;5;28mself\u001b[39m.handles = \u001b[43mget_handle\u001b[49m\u001b[43m(\u001b[49m\n\u001b[32m   1881\u001b[39m \u001b[43m    \u001b[49m\u001b[43mf\u001b[49m\u001b[43m,\u001b[49m\n\u001b[32m   1882\u001b[39m \u001b[43m    \u001b[49m\u001b[43mmode\u001b[49m\u001b[43m,\u001b[49m\n\u001b[32m   1883\u001b[39m \u001b[43m    \u001b[49m\u001b[43mencoding\u001b[49m\u001b[43m=\u001b[49m\u001b[38;5;28;43mself\u001b[39;49m\u001b[43m.\u001b[49m\u001b[43moptions\u001b[49m\u001b[43m.\u001b[49m\u001b[43mget\u001b[49m\u001b[43m(\u001b[49m\u001b[33;43m\"\u001b[39;49m\u001b[33;43mencoding\u001b[39;49m\u001b[33;43m\"\u001b[39;49m\u001b[43m,\u001b[49m\u001b[43m \u001b[49m\u001b[38;5;28;43;01mNone\u001b[39;49;00m\u001b[43m)\u001b[49m\u001b[43m,\u001b[49m\n\u001b[32m   1884\u001b[39m \u001b[43m    \u001b[49m\u001b[43mcompression\u001b[49m\u001b[43m=\u001b[49m\u001b[38;5;28;43mself\u001b[39;49m\u001b[43m.\u001b[49m\u001b[43moptions\u001b[49m\u001b[43m.\u001b[49m\u001b[43mget\u001b[49m\u001b[43m(\u001b[49m\u001b[33;43m\"\u001b[39;49m\u001b[33;43mcompression\u001b[39;49m\u001b[33;43m\"\u001b[39;49m\u001b[43m,\u001b[49m\u001b[43m \u001b[49m\u001b[38;5;28;43;01mNone\u001b[39;49;00m\u001b[43m)\u001b[49m\u001b[43m,\u001b[49m\n\u001b[32m   1885\u001b[39m \u001b[43m    \u001b[49m\u001b[43mmemory_map\u001b[49m\u001b[43m=\u001b[49m\u001b[38;5;28;43mself\u001b[39;49m\u001b[43m.\u001b[49m\u001b[43moptions\u001b[49m\u001b[43m.\u001b[49m\u001b[43mget\u001b[49m\u001b[43m(\u001b[49m\u001b[33;43m\"\u001b[39;49m\u001b[33;43mmemory_map\u001b[39;49m\u001b[33;43m\"\u001b[39;49m\u001b[43m,\u001b[49m\u001b[43m \u001b[49m\u001b[38;5;28;43;01mFalse\u001b[39;49;00m\u001b[43m)\u001b[49m\u001b[43m,\u001b[49m\n\u001b[32m   1886\u001b[39m \u001b[43m    \u001b[49m\u001b[43mis_text\u001b[49m\u001b[43m=\u001b[49m\u001b[43mis_text\u001b[49m\u001b[43m,\u001b[49m\n\u001b[32m   1887\u001b[39m \u001b[43m    \u001b[49m\u001b[43merrors\u001b[49m\u001b[43m=\u001b[49m\u001b[38;5;28;43mself\u001b[39;49m\u001b[43m.\u001b[49m\u001b[43moptions\u001b[49m\u001b[43m.\u001b[49m\u001b[43mget\u001b[49m\u001b[43m(\u001b[49m\u001b[33;43m\"\u001b[39;49m\u001b[33;43mencoding_errors\u001b[39;49m\u001b[33;43m\"\u001b[39;49m\u001b[43m,\u001b[49m\u001b[43m \u001b[49m\u001b[33;43m\"\u001b[39;49m\u001b[33;43mstrict\u001b[39;49m\u001b[33;43m\"\u001b[39;49m\u001b[43m)\u001b[49m\u001b[43m,\u001b[49m\n\u001b[32m   1888\u001b[39m \u001b[43m    \u001b[49m\u001b[43mstorage_options\u001b[49m\u001b[43m=\u001b[49m\u001b[38;5;28;43mself\u001b[39;49m\u001b[43m.\u001b[49m\u001b[43moptions\u001b[49m\u001b[43m.\u001b[49m\u001b[43mget\u001b[49m\u001b[43m(\u001b[49m\u001b[33;43m\"\u001b[39;49m\u001b[33;43mstorage_options\u001b[39;49m\u001b[33;43m\"\u001b[39;49m\u001b[43m,\u001b[49m\u001b[43m \u001b[49m\u001b[38;5;28;43;01mNone\u001b[39;49;00m\u001b[43m)\u001b[49m\u001b[43m,\u001b[49m\n\u001b[32m   1889\u001b[39m \u001b[43m\u001b[49m\u001b[43m)\u001b[49m\n\u001b[32m   1890\u001b[39m \u001b[38;5;28;01massert\u001b[39;00m \u001b[38;5;28mself\u001b[39m.handles \u001b[38;5;129;01mis\u001b[39;00m \u001b[38;5;129;01mnot\u001b[39;00m \u001b[38;5;28;01mNone\u001b[39;00m\n\u001b[32m   1891\u001b[39m f = \u001b[38;5;28mself\u001b[39m.handles.handle\n",
      "\u001b[36mFile \u001b[39m\u001b[32mc:\\Users\\uefav\\Desktop\\Beca\\SAITS-imputation\\.venv\\Lib\\site-packages\\pandas\\io\\common.py:873\u001b[39m, in \u001b[36mget_handle\u001b[39m\u001b[34m(path_or_buf, mode, encoding, compression, memory_map, is_text, errors, storage_options)\u001b[39m\n\u001b[32m    868\u001b[39m \u001b[38;5;28;01melif\u001b[39;00m \u001b[38;5;28misinstance\u001b[39m(handle, \u001b[38;5;28mstr\u001b[39m):\n\u001b[32m    869\u001b[39m     \u001b[38;5;66;03m# Check whether the filename is to be opened in binary mode.\u001b[39;00m\n\u001b[32m    870\u001b[39m     \u001b[38;5;66;03m# Binary mode does not support 'encoding' and 'newline'.\u001b[39;00m\n\u001b[32m    871\u001b[39m     \u001b[38;5;28;01mif\u001b[39;00m ioargs.encoding \u001b[38;5;129;01mand\u001b[39;00m \u001b[33m\"\u001b[39m\u001b[33mb\u001b[39m\u001b[33m\"\u001b[39m \u001b[38;5;129;01mnot\u001b[39;00m \u001b[38;5;129;01min\u001b[39;00m ioargs.mode:\n\u001b[32m    872\u001b[39m         \u001b[38;5;66;03m# Encoding\u001b[39;00m\n\u001b[32m--> \u001b[39m\u001b[32m873\u001b[39m         handle = \u001b[38;5;28;43mopen\u001b[39;49m\u001b[43m(\u001b[49m\n\u001b[32m    874\u001b[39m \u001b[43m            \u001b[49m\u001b[43mhandle\u001b[49m\u001b[43m,\u001b[49m\n\u001b[32m    875\u001b[39m \u001b[43m            \u001b[49m\u001b[43mioargs\u001b[49m\u001b[43m.\u001b[49m\u001b[43mmode\u001b[49m\u001b[43m,\u001b[49m\n\u001b[32m    876\u001b[39m \u001b[43m            \u001b[49m\u001b[43mencoding\u001b[49m\u001b[43m=\u001b[49m\u001b[43mioargs\u001b[49m\u001b[43m.\u001b[49m\u001b[43mencoding\u001b[49m\u001b[43m,\u001b[49m\n\u001b[32m    877\u001b[39m \u001b[43m            \u001b[49m\u001b[43merrors\u001b[49m\u001b[43m=\u001b[49m\u001b[43merrors\u001b[49m\u001b[43m,\u001b[49m\n\u001b[32m    878\u001b[39m \u001b[43m            \u001b[49m\u001b[43mnewline\u001b[49m\u001b[43m=\u001b[49m\u001b[33;43m\"\u001b[39;49m\u001b[33;43m\"\u001b[39;49m\u001b[43m,\u001b[49m\n\u001b[32m    879\u001b[39m \u001b[43m        \u001b[49m\u001b[43m)\u001b[49m\n\u001b[32m    880\u001b[39m     \u001b[38;5;28;01melse\u001b[39;00m:\n\u001b[32m    881\u001b[39m         \u001b[38;5;66;03m# Binary mode\u001b[39;00m\n\u001b[32m    882\u001b[39m         handle = \u001b[38;5;28mopen\u001b[39m(handle, ioargs.mode)\n",
      "\u001b[31mFileNotFoundError\u001b[39m: [Errno 2] No such file or directory: 'C:\\\\Users\\\\uefav\\\\Desktop\\\\Beca\\\\Data_Out\\\\HF008_V2\\\\Nistagmo_5/LTS.dat'"
     ]
    }
   ],
   "source": [
    "Nistagmo_5_8 = []\n",
    "ex_2 = ['Nistagmo_5', 'Nistagmo_6', 'Nistagmo_7', 'Nistagmo_8']\n",
    "\n",
    "for i in tqdm(instance_names, desc='extracting data_Nistagmo_5_8', total=len(instance_names)):\n",
    "  instance = []\n",
    "  for j in ex_2:\n",
    "    path = os.path.join(DATA_PATH, i, j)\n",
    "\n",
    "    sigL = pd.read_csv(path + '/LTS.dat', header=None, names=['X-axis', 'Y-axis'])\n",
    "    sigR = pd.read_csv(path + '/RTS.dat', header=None, names=['X-axis', 'Y-axis'])\n",
    "    eventL = pd.read_csv(path + '/LEvent.dat', header=None, names=['start', 'end', 'value'])\n",
    "    eventR = pd.read_csv(path + '/REvent.dat', header=None, names=['start', 'end', 'value'])\n",
    "    target = pd.read_csv(path + '/target.dat', header=None, names=['X-axis', 'Y-axis'])\n",
    "\n",
    "    Ly = sigL.iloc[: , 1].tolist()\n",
    "    np_Ly = np.array(Ly)\n",
    "    np_Ly = mask_null_values(np_Ly, eventL)\n",
    "    np_Ly = align_length(np_Ly)\n",
    "    np_Ly = remove_outlier(np_Ly)\n",
    "\n",
    "    Ry = sigR.iloc[: , 1].tolist()\n",
    "    np_Ry = np.array(Ry)\n",
    "    np_Ry = mask_null_values(np_Ry, eventR)\n",
    "    np_Ry = align_length(np_Ry)\n",
    "    np_Ry = remove_outlier(np_Ry)\n",
    "\n",
    "    targety = target.iloc[: , 1].tolist()\n",
    "    np_targety = np.array(targety)\n",
    "    np_targety = align_length(np_targety)\n",
    "\n",
    "    result = [np_Ly, np_Ry, np_targety]\n",
    "    instance.append(result)\n",
    "  Nistagmo_5_8.append(instance)\n",
    "Nistagmo_5_8 = np.array(Nistagmo_5_8)"
   ]
  },
  {
   "cell_type": "code",
   "execution_count": null,
   "id": "1be468f9-a8e2-4f66-850e-0880296039ca",
   "metadata": {},
   "outputs": [
    {
     "data": {
      "application/vnd.jupyter.widget-view+json": {
       "model_id": "ef5d473402674788980547255e924048",
       "version_major": 2,
       "version_minor": 0
      },
      "text/plain": [
       "extracting data_SmoothPur_5_8:   0%|          | 0/172 [00:00<?, ?it/s]"
      ]
     },
     "metadata": {},
     "output_type": "display_data"
    }
   ],
   "source": [
    "Nistagmo_5_8_Ar = []\n",
    "ex_2 = ['Nistagmo_5', 'Nistagmo_6', 'Nistagmo_7', 'Nistagmo_8']\n",
    "\n",
    "for i in tqdm(instance_names, desc='extracting data_Nistagmo_5_8', total=len(instance_names)):\n",
    "  instance = []\n",
    "  for j in ex_2:\n",
    "    path = os.path.join(DATA_PATH, i, j)\n",
    "\n",
    "    sigL = pd.read_csv(path + '/LTS.dat', header=None, names=['X-axis', 'Y-axis'])\n",
    "    sigR = pd.read_csv(path + '/RTS.dat', header=None, names=['X-axis', 'Y-axis'])\n",
    "    eventL = pd.read_csv(path + '/LEvent.dat', header=None, names=['start', 'end', 'value'])\n",
    "    eventR = pd.read_csv(path + '/REvent.dat', header=None, names=['start', 'end', 'value'])\n",
    "    target = pd.read_csv(path + '/target.dat', header=None, names=['X-axis', 'Y-axis'])\n",
    "\n",
    "    Ly = sigL.iloc[: , 1].tolist()\n",
    "    np_Ly = np.array(Ly)\n",
    "    np_Ly = mask_Artificail_null_values(np_Ly, eventL)\n",
    "    np_Ly = align_length(np_Ly)\n",
    "    np_Ly = remove_outlier(np_Ly)\n",
    "\n",
    "    Ry = sigR.iloc[: , 1].tolist()\n",
    "    np_Ry = np.array(Ry)\n",
    "    np_Ry = mask_Artificail_null_values(np_Ry, eventR)\n",
    "    np_Ry = align_length(np_Ry)\n",
    "    np_Ry = remove_outlier(np_Ry)\n",
    "\n",
    "    targety = target.iloc[: , 1].tolist()\n",
    "    np_targety = np.array(targety)\n",
    "    np_targety = align_length(np_targety)\n",
    "\n",
    "    result = [np_Ly, np_Ry, np_targety]\n",
    "    instance.append(result)\n",
    "  Nistagmo_5_8_Ar.append(instance)\n",
    "Nistagmo_5_8_Ar = np.array(Nistagmo_5_8_Ar)"
   ]
  },
  {
   "cell_type": "code",
   "execution_count": 66,
   "id": "FRiui74-0KUj",
   "metadata": {
    "id": "FRiui74-0KUj"
   },
   "outputs": [],
   "source": [
    "np.save('J:/Imputation project/Artificial_data/SmoothPur_5_8', SmoothPur_5_8)\n",
    "np.save('J:/Imputation project/Artificial_data/SmoothPur_5_8_Ar', SmoothPur_5_8_Ar)"
   ]
  },
  {
   "cell_type": "code",
   "execution_count": 67,
   "id": "kEwqqp17ItW8",
   "metadata": {
    "colab": {
     "base_uri": "https://localhost:8080/"
    },
    "id": "kEwqqp17ItW8",
    "outputId": "31eaca67-d860-4b2b-8cd5-2cc851b0e805"
   },
   "outputs": [
    {
     "name": "stdout",
     "output_type": "stream",
     "text": [
      "172\n",
      "<class 'numpy.ndarray'>\n",
      "(172, 4, 3, 15000)\n"
     ]
    }
   ],
   "source": [
    "print(len(SmoothPur_5_8))\n",
    "print(type(SmoothPur_5_8))\n",
    "print(SmoothPur_5_8.shape)"
   ]
  },
  {
   "cell_type": "code",
   "execution_count": 68,
   "id": "a7401f1e-ba49-4938-b905-64bb3c337c7d",
   "metadata": {},
   "outputs": [
    {
     "name": "stdout",
     "output_type": "stream",
     "text": [
      "172\n",
      "<class 'numpy.ndarray'>\n",
      "(172, 4, 3, 15000)\n"
     ]
    }
   ],
   "source": [
    "print(len(SmoothPur_5_8_Ar))\n",
    "print(type(SmoothPur_5_8_Ar))\n",
    "print(SmoothPur_5_8_Ar.shape)"
   ]
  },
  {
   "cell_type": "markdown",
   "id": "8fC_qoApyJu-",
   "metadata": {
    "id": "8fC_qoApyJu-"
   },
   "source": [
    "## SmoothPur_9_10"
   ]
  },
  {
   "cell_type": "code",
   "execution_count": 69,
   "id": "xf-uGvACyNrb",
   "metadata": {
    "colab": {
     "base_uri": "https://localhost:8080/",
     "height": 49,
     "referenced_widgets": [
      "e2d3d4f9498344c5ab2d33eb4236bc0b",
      "39cc928ab107451cb47c3ffb0b8b4e68",
      "a044d1c6c2794bcab578709dbf73c289",
      "82c19d7c83f84ebfa42619616a0c7e73",
      "2a6fcd58178c4214b2de3b92bb92f01d",
      "94c048f6cf64432db5ea581c031b02bd",
      "4563eb0caebe4ffc952525bfeb731802",
      "37a9dd16cb1348a3aa145072b33dd2aa",
      "f2cb4a8860b44a3a88ac78bcf9cf97af",
      "8762fe90ac4d41b4ab6a4cf3aa6b5d87",
      "4c196d7f53254b0ca4793c26bd70f27a"
     ]
    },
    "id": "xf-uGvACyNrb",
    "outputId": "fcaf10a7-0b40-41de-ba2e-2a703be29529"
   },
   "outputs": [
    {
     "data": {
      "application/vnd.jupyter.widget-view+json": {
       "model_id": "6d71fc6204ac455195228522faae3477",
       "version_major": 2,
       "version_minor": 0
      },
      "text/plain": [
       "extracting data_SmoothPur_9_10:   0%|          | 0/172 [00:00<?, ?it/s]"
      ]
     },
     "metadata": {},
     "output_type": "display_data"
    }
   ],
   "source": [
    "SmoothPur_9_10 = []\n",
    "ex_3 = ['SmoothPur_9', 'SmoothPur_10']\n",
    "\n",
    "for i in tqdm(instance_names, desc='extracting data_SmoothPur_9_10', total=len(instance_names)):\n",
    "  instance = []\n",
    "  for j in ex_3:\n",
    "    path = os.path.join(DATA_PATH, i, j)\n",
    "\n",
    "    sigL = pd.read_csv(path + '/LTS.dat', header=None, names=['X-axis', 'Y-axis'])\n",
    "    sigR = pd.read_csv(path + '/RTS.dat', header=None, names=['X-axis', 'Y-axis'])\n",
    "    eventL = pd.read_csv(path + '/LEvent.dat', header=None, names=['start', 'end', 'value'])\n",
    "    eventR = pd.read_csv(path + '/REvent.dat', header=None, names=['start', 'end', 'value'])\n",
    "    target = pd.read_csv(path + '/target.dat', header=None, names=['X-axis', 'Y-axis'])\n",
    "\n",
    "    Lx = sigL.iloc[: , 0].tolist()\n",
    "    Ly = sigL.iloc[: , 1].tolist()\n",
    "    np_Lx = np.array(Lx)\n",
    "    np_Ly = np.array(Ly)\n",
    "    np_Lx = mask_null_values(np_Lx, eventL)\n",
    "    np_Ly = mask_null_values(np_Ly, eventL)\n",
    "    np_Lx = align_length(np_Lx)\n",
    "    np_Ly = align_length(np_Ly)\n",
    "    np_Lx = remove_outlier(np_Lx)\n",
    "    np_Ly = remove_outlier(np_Ly)\n",
    "\n",
    "    Rx = sigR.iloc[: , 0].tolist()\n",
    "    Ry = sigR.iloc[: , 1].tolist()\n",
    "    np_Rx = np.array(Rx)\n",
    "    np_Ry = np.array(Ry)\n",
    "    np_Rx = mask_null_values(np_Rx, eventR)\n",
    "    np_Ry = mask_null_values(np_Ry, eventR)\n",
    "    np_Rx = align_length(np_Rx)\n",
    "    np_Ry = align_length(np_Ry)\n",
    "    np_Rx = remove_outlier(np_Rx)\n",
    "    np_Ry = remove_outlier(np_Ry)\n",
    "\n",
    "    targetx = target.iloc[: , 0].tolist()\n",
    "    targety = target.iloc[: , 1].tolist()\n",
    "    np_targetx = np.array(targetx)\n",
    "    np_targety = np.array(targety)\n",
    "    np_targetx = align_length(np_targetx)\n",
    "    np_targety = align_length(np_targety)\n",
    "\n",
    "    result = [[np_Lx, np_Rx], [np_Ly, np_Ry], [np_targetx, np_targety]]\n",
    "    instance.append(result)\n",
    "  SmoothPur_9_10.append(instance)\n",
    "SmoothPur_9_10 = np.array(SmoothPur_9_10)"
   ]
  },
  {
   "cell_type": "code",
   "execution_count": 70,
   "id": "b627e1f0-d882-48fd-bd9d-12b4a5dcfee7",
   "metadata": {},
   "outputs": [
    {
     "data": {
      "application/vnd.jupyter.widget-view+json": {
       "model_id": "57a09a93f99f4ea29395fea6e0ba9993",
       "version_major": 2,
       "version_minor": 0
      },
      "text/plain": [
       "extracting data_SmoothPur_9_10:   0%|          | 0/172 [00:00<?, ?it/s]"
      ]
     },
     "metadata": {},
     "output_type": "display_data"
    }
   ],
   "source": [
    "SmoothPur_9_10_Ar = []\n",
    "ex_3 = ['SmoothPur_9', 'SmoothPur_10']\n",
    "\n",
    "for i in tqdm(instance_names, desc='extracting data_SmoothPur_9_10', total=len(instance_names)):\n",
    "  instance = []\n",
    "  for j in ex_3:\n",
    "    path = os.path.join(DATA_PATH, i, j)\n",
    "\n",
    "    sigL = pd.read_csv(path + '/LTS.dat', header=None, names=['X-axis', 'Y-axis'])\n",
    "    sigR = pd.read_csv(path + '/RTS.dat', header=None, names=['X-axis', 'Y-axis'])\n",
    "    eventL = pd.read_csv(path + '/LEvent.dat', header=None, names=['start', 'end', 'value'])\n",
    "    eventR = pd.read_csv(path + '/REvent.dat', header=None, names=['start', 'end', 'value'])\n",
    "    target = pd.read_csv(path + '/target.dat', header=None, names=['X-axis', 'Y-axis'])\n",
    "\n",
    "    Lx = sigL.iloc[: , 0].tolist()\n",
    "    Ly = sigL.iloc[: , 1].tolist()\n",
    "    np_Lx = np.array(Lx)\n",
    "    np_Ly = np.array(Ly)\n",
    "    np_Lx = mask_Artificail_null_values(np_Lx, eventL)\n",
    "    np_Ly = mask_Artificail_null_values(np_Ly, eventL)\n",
    "    np_Lx = align_length(np_Lx)\n",
    "    np_Ly = align_length(np_Ly)\n",
    "    np_Lx = remove_outlier(np_Lx)\n",
    "    np_Ly = remove_outlier(np_Ly)\n",
    "\n",
    "    Rx = sigR.iloc[: , 0].tolist()\n",
    "    Ry = sigR.iloc[: , 1].tolist()\n",
    "    np_Rx = np.array(Rx)\n",
    "    np_Ry = np.array(Ry)\n",
    "    np_Rx = mask_Artificail_null_values(np_Rx, eventR)\n",
    "    np_Ry = mask_Artificail_null_values(np_Ry, eventR)\n",
    "    np_Rx = align_length(np_Rx)\n",
    "    np_Ry = align_length(np_Ry)\n",
    "    np_Rx = remove_outlier(np_Rx)\n",
    "    np_Ry = remove_outlier(np_Ry)\n",
    "\n",
    "    targetx = target.iloc[: , 0].tolist()\n",
    "    targety = target.iloc[: , 1].tolist()\n",
    "    np_targetx = np.array(targetx)\n",
    "    np_targety = np.array(targety)\n",
    "    np_targetx = align_length(np_targetx)\n",
    "    np_targety = align_length(np_targety)\n",
    "\n",
    "    result = [[np_Lx, np_Rx], [np_Ly, np_Ry], [np_targetx, np_targety]]\n",
    "    instance.append(result)\n",
    "  SmoothPur_9_10_Ar.append(instance)\n",
    "SmoothPur_9_10_Ar = np.array(SmoothPur_9_10_Ar)"
   ]
  },
  {
   "cell_type": "code",
   "execution_count": 71,
   "id": "6FVpR0V71r1S",
   "metadata": {
    "id": "6FVpR0V71r1S"
   },
   "outputs": [],
   "source": [
    "np.save('J:/Imputation project/Artificial_data/SmoothPur_9_10', SmoothPur_9_10)\n",
    "np.save('J:/Imputation project/Artificial_data/SmoothPur_9_10_Ar', SmoothPur_9_10_Ar)"
   ]
  },
  {
   "cell_type": "code",
   "execution_count": 72,
   "id": "D6vgkjp2bH1s",
   "metadata": {
    "colab": {
     "base_uri": "https://localhost:8080/"
    },
    "id": "D6vgkjp2bH1s",
    "outputId": "ecf2f310-36fc-4252-f292-fb8ab1d6ca3a"
   },
   "outputs": [
    {
     "name": "stdout",
     "output_type": "stream",
     "text": [
      "172\n",
      "<class 'numpy.ndarray'>\n",
      "(172, 2, 3, 2, 15000)\n"
     ]
    }
   ],
   "source": [
    "print(len(SmoothPur_9_10))\n",
    "print(type(SmoothPur_9_10))\n",
    "print(SmoothPur_9_10.shape)"
   ]
  },
  {
   "cell_type": "code",
   "execution_count": 73,
   "id": "0efa497a-ddc4-47d9-95c6-c09a7a603dec",
   "metadata": {},
   "outputs": [
    {
     "name": "stdout",
     "output_type": "stream",
     "text": [
      "172\n",
      "<class 'numpy.ndarray'>\n",
      "(172, 2, 3, 2, 15000)\n"
     ]
    }
   ],
   "source": [
    "print(len(SmoothPur_9_10_Ar))\n",
    "print(type(SmoothPur_9_10_Ar))\n",
    "print(SmoothPur_9_10_Ar.shape)"
   ]
  },
  {
   "cell_type": "markdown",
   "id": "tk5o_rbZ10qL",
   "metadata": {
    "id": "tk5o_rbZ10qL"
   },
   "source": [
    "## SmoothPur_11_12"
   ]
  },
  {
   "cell_type": "code",
   "execution_count": 74,
   "id": "9d5vK9O014A6",
   "metadata": {
    "colab": {
     "base_uri": "https://localhost:8080/",
     "height": 49,
     "referenced_widgets": [
      "a8ffeb7367a54cdaac4ee90a9fbc2608",
      "bfb1cbc15ed0464bb7c723688c360240",
      "ad5e02b2a0ef4dd0a8b0cdec06272342",
      "2732a2c8dc4140f0b2171d27ec6f16ad",
      "5973fca45ef8412c8635264eef7aa384",
      "458e046b9bab4776bbc04ee4f9384d3c",
      "f58185bb89bf41ebb6a26139815a42a2",
      "8d673f11617b4de2b13f97df9626e671",
      "bce8c6f2534c4470bf42045c2adfcefd",
      "c688ee44485c40d59e60b2e4dae5a279",
      "2403c22ffed34503926ee845254e9b37"
     ]
    },
    "id": "9d5vK9O014A6",
    "outputId": "3470037e-312f-4eb6-b1e2-6e2705b01c91"
   },
   "outputs": [
    {
     "data": {
      "application/vnd.jupyter.widget-view+json": {
       "model_id": "8c2526b8f0724033912784ff78b02184",
       "version_major": 2,
       "version_minor": 0
      },
      "text/plain": [
       "extracting data_SmoothPur_11_12:   0%|          | 0/172 [00:00<?, ?it/s]"
      ]
     },
     "metadata": {},
     "output_type": "display_data"
    }
   ],
   "source": [
    "SmoothPur_11_12 = []\n",
    "ex_4 = ['SmoothPur_11', 'SmoothPur_12']\n",
    "\n",
    "for i in tqdm(instance_names, desc='extracting data_SmoothPur_11_12', total=len(instance_names)):\n",
    "  instance = []\n",
    "  for j in ex_4:\n",
    "    path = os.path.join(DATA_PATH, i, j)\n",
    "\n",
    "    sigL = pd.read_csv(path + '/LTS.dat', header=None, names=['X-axis', 'Y-axis'])\n",
    "    sigR = pd.read_csv(path + '/RTS.dat', header=None, names=['X-axis', 'Y-axis'])\n",
    "    eventL = pd.read_csv(path + '/LEvent.dat', header=None, names=['start', 'end', 'value'])\n",
    "    eventR = pd.read_csv(path + '/REvent.dat', header=None, names=['start', 'end', 'value'])\n",
    "    target = pd.read_csv(path + '/target.dat', header=None, names=['X-axis', 'Y-axis'])\n",
    "\n",
    "    Lx = sigL.iloc[: , 0].tolist()\n",
    "    Ly = sigL.iloc[: , 1].tolist()\n",
    "    np_Lx = np.array(Lx)\n",
    "    np_Ly = np.array(Ly)\n",
    "    np_Lx = mask_null_values(np_Lx, eventL)\n",
    "    np_Ly = mask_null_values(np_Ly, eventL)\n",
    "    np_Lx = align_length(np_Lx)\n",
    "    np_Ly = align_length(np_Ly)\n",
    "    np_Lx = remove_outlier(np_Lx)\n",
    "    np_Ly = remove_outlier(np_Ly)\n",
    "\n",
    "    Rx = sigR.iloc[: , 0].tolist()\n",
    "    Ry = sigR.iloc[: , 1].tolist()\n",
    "    np_Rx = np.array(Rx)\n",
    "    np_Ry = np.array(Ry)\n",
    "    np_Rx = mask_null_values(np_Rx, eventR)\n",
    "    np_Ry = mask_null_values(np_Ry, eventR)\n",
    "    np_Rx = align_length(np_Rx)\n",
    "    np_Ry = align_length(np_Ry)\n",
    "    np_Rx = remove_outlier(np_Rx)\n",
    "    np_Ry = remove_outlier(np_Ry)\n",
    "\n",
    "    targetx = target.iloc[: , 0].tolist()\n",
    "    targety = target.iloc[: , 1].tolist()\n",
    "    np_targetx = np.array(targetx)\n",
    "    np_targety = np.array(targety)\n",
    "    np_targetx = align_length(np_targetx)\n",
    "    np_targety = align_length(np_targety)\n",
    "\n",
    "    result = [[np_Lx, np_Rx], [np_Ly, np_Ry], [np_targetx, np_targety]]\n",
    "    instance.append(result)\n",
    "  SmoothPur_11_12.append(instance)\n",
    "SmoothPur_11_12 = np.array(SmoothPur_11_12)"
   ]
  },
  {
   "cell_type": "code",
   "execution_count": 75,
   "id": "5a0beedd-98d7-47c7-ab2d-ce7ea42ea910",
   "metadata": {},
   "outputs": [
    {
     "data": {
      "application/vnd.jupyter.widget-view+json": {
       "model_id": "b97a5e81c1494b2b83898f92bb6c31ee",
       "version_major": 2,
       "version_minor": 0
      },
      "text/plain": [
       "extracting data_SmoothPur_11_12:   0%|          | 0/172 [00:00<?, ?it/s]"
      ]
     },
     "metadata": {},
     "output_type": "display_data"
    }
   ],
   "source": [
    "SmoothPur_11_12_Ar = []\n",
    "ex_4 = ['SmoothPur_11', 'SmoothPur_12']\n",
    "\n",
    "for i in tqdm(instance_names, desc='extracting data_SmoothPur_11_12', total=len(instance_names)):\n",
    "  instance = []\n",
    "  for j in ex_4:\n",
    "    path = os.path.join(DATA_PATH, i, j)\n",
    "\n",
    "    sigL = pd.read_csv(path + '/LTS.dat', header=None, names=['X-axis', 'Y-axis'])\n",
    "    sigR = pd.read_csv(path + '/RTS.dat', header=None, names=['X-axis', 'Y-axis'])\n",
    "    eventL = pd.read_csv(path + '/LEvent.dat', header=None, names=['start', 'end', 'value'])\n",
    "    eventR = pd.read_csv(path + '/REvent.dat', header=None, names=['start', 'end', 'value'])\n",
    "    target = pd.read_csv(path + '/target.dat', header=None, names=['X-axis', 'Y-axis'])\n",
    "\n",
    "    Lx = sigL.iloc[: , 0].tolist()\n",
    "    Ly = sigL.iloc[: , 1].tolist()\n",
    "    np_Lx = np.array(Lx)\n",
    "    np_Ly = np.array(Ly)\n",
    "    np_Lx = mask_Artificail_null_values(np_Lx, eventL)\n",
    "    np_Ly = mask_Artificail_null_values(np_Ly, eventL)\n",
    "    np_Lx = align_length(np_Lx)\n",
    "    np_Ly = align_length(np_Ly)\n",
    "    np_Lx = remove_outlier(np_Lx)\n",
    "    np_Ly = remove_outlier(np_Ly)\n",
    "\n",
    "    Rx = sigR.iloc[: , 0].tolist()\n",
    "    Ry = sigR.iloc[: , 1].tolist()\n",
    "    np_Rx = np.array(Rx)\n",
    "    np_Ry = np.array(Ry)\n",
    "    np_Rx = mask_Artificail_null_values(np_Rx, eventR)\n",
    "    np_Ry = mask_Artificail_null_values(np_Ry, eventR)\n",
    "    np_Rx = align_length(np_Rx)\n",
    "    np_Ry = align_length(np_Ry)\n",
    "    np_Rx = remove_outlier(np_Rx)\n",
    "    np_Ry = remove_outlier(np_Ry)\n",
    "\n",
    "    targetx = target.iloc[: , 0].tolist()\n",
    "    targety = target.iloc[: , 1].tolist()\n",
    "    np_targetx = np.array(targetx)\n",
    "    np_targety = np.array(targety)\n",
    "    np_targetx = align_length(np_targetx)\n",
    "    np_targety = align_length(np_targety)\n",
    "\n",
    "    result = [[np_Lx, np_Rx], [np_Ly, np_Ry], [np_targetx, np_targety]]\n",
    "    instance.append(result)\n",
    "  SmoothPur_11_12_Ar.append(instance)\n",
    "SmoothPur_11_12_Ar = np.array(SmoothPur_11_12_Ar)"
   ]
  },
  {
   "cell_type": "code",
   "execution_count": 76,
   "id": "xUdT5hNj7Vj7",
   "metadata": {
    "id": "xUdT5hNj7Vj7"
   },
   "outputs": [],
   "source": [
    "np.save('J:/Imputation project/Artificial_data/SmoothPur_11_12', SmoothPur_11_12)\n",
    "np.save('J:/Imputation project/Artificial_data/SmoothPur_11_12_Ar', SmoothPur_11_12_Ar)"
   ]
  },
  {
   "cell_type": "code",
   "execution_count": 77,
   "id": "PVwmWPqmI-0d",
   "metadata": {
    "colab": {
     "base_uri": "https://localhost:8080/"
    },
    "id": "PVwmWPqmI-0d",
    "outputId": "904964a3-de9d-4025-d872-997a1214c277"
   },
   "outputs": [
    {
     "name": "stdout",
     "output_type": "stream",
     "text": [
      "172\n",
      "<class 'numpy.ndarray'>\n",
      "(172, 2, 3, 2, 15000)\n"
     ]
    }
   ],
   "source": [
    "print(len(SmoothPur_11_12))\n",
    "print(type(SmoothPur_11_12))\n",
    "print(SmoothPur_11_12.shape)"
   ]
  },
  {
   "cell_type": "code",
   "execution_count": 78,
   "id": "0f92d4ae-2c8a-4d0d-aa02-2396335c03d1",
   "metadata": {},
   "outputs": [
    {
     "name": "stdout",
     "output_type": "stream",
     "text": [
      "172\n",
      "<class 'numpy.ndarray'>\n",
      "(172, 2, 3, 2, 15000)\n"
     ]
    }
   ],
   "source": [
    "print(len(SmoothPur_11_12_Ar))\n",
    "print(type(SmoothPur_11_12_Ar))\n",
    "print(SmoothPur_11_12_Ar.shape)"
   ]
  },
  {
   "cell_type": "markdown",
   "id": "4ddeecc2-4d63-4494-b0ab-6ae8f388c7c1",
   "metadata": {},
   "source": [
    "## plot the reslts"
   ]
  },
  {
   "cell_type": "code",
   "execution_count": 27,
   "id": "HRPnD4SEJDY0",
   "metadata": {
    "colab": {
     "base_uri": "https://localhost:8080/",
     "height": 641
    },
    "id": "HRPnD4SEJDY0",
    "outputId": "c034c150-34b3-4554-8a39-9289cd5dd96d"
   },
   "outputs": [],
   "source": [
    "import matplotlib.pyplot as plt\n",
    "import numpy as np\n",
    "from ipywidgets import interact, widgets\n",
    "\n",
    "def plot_signal_comparison_1_4_5_8(smoothpur_1_4, smoothpur_5_8, \n",
    "                                   signal_set_label='Signal Set'):\n",
    "    def plot_signal(signal_set, signal_idx, idx_1, idx_2):\n",
    "        if signal_set == 'smoothpur_1_4':\n",
    "            signal = smoothpur_1_4[signal_idx, idx_1, idx_2]\n",
    "        elif signal_set == 'smoothpur_5_8':\n",
    "            signal = smoothpur_5_8[signal_idx, idx_1, idx_2]\n",
    "\n",
    "        # Plot the signal for the given indices\n",
    "        plt.figure(figsize=(18, 8))\n",
    "        plt.plot(signal.flatten(), label=f'{signal_set} Signal', alpha=0.7, color='blue', linewidth=2)\n",
    "        plt.title(f'Signal Comparison for {signal_set}, Index {signal_idx}, idx_1 {idx_1}, idx_2 {idx_2}')\n",
    "        plt.xlabel('Sample Index')\n",
    "        plt.ylabel('Amplitude')\n",
    "        plt.legend()\n",
    "        plt.grid(True)\n",
    "        plt.show()\n",
    "\n",
    "    # Create interactive widgets for signal set and index selection\n",
    "    interact(plot_signal,\n",
    "             signal_set=widgets.Dropdown(options=['smoothpur_1_4', 'smoothpur_5_8'], \n",
    "                                         description=signal_set_label),\n",
    "             signal_idx=widgets.IntSlider(min=0, max=153, step=1, value=0),\n",
    "             idx_1=widgets.IntSlider(min=0, max=3, step=1, value=0),\n",
    "             idx_2=widgets.IntSlider(min=0, max=2, step=1, value=0))"
   ]
  },
  {
   "cell_type": "code",
   "execution_count": 25,
   "id": "6a6ebab5-09dd-4c85-9822-537cccccdf40",
   "metadata": {},
   "outputs": [],
   "source": [
    "def plot_signal_comparison_9_10_11_12(smoothpur_9_10, smoothpur_11_12, \n",
    "                                      signal_set_label='Signal Set'):\n",
    "    def plot_signal(signal_set, signal_idx, idx_1, idx_2, idx_3):\n",
    "        if signal_set == 'smoothpur_9_10':\n",
    "            signal = smoothpur_9_10[signal_idx, idx_1, idx_2, idx_3]\n",
    "        elif signal_set == 'smoothpur_11_12':\n",
    "            signal = smoothpur_11_12[signal_idx, idx_1, idx_2, idx_3]\n",
    "\n",
    "        # Plot the signal for the given indices\n",
    "        plt.figure(figsize=(18, 8))\n",
    "        plt.plot(signal.flatten(), label=f'{signal_set} Signal', alpha=0.7, color='blue', linewidth=2)\n",
    "        plt.title(f'Signal Comparison for {signal_set}, Index {signal_idx}, idx_1 {idx_1}, idx_2 {idx_2}, idx_3 {idx_3}')\n",
    "        plt.xlabel('Sample Index')\n",
    "        plt.ylabel('Amplitude')\n",
    "        plt.legend()\n",
    "        plt.grid(True)\n",
    "        plt.show()\n",
    "\n",
    "    # Create interactive widgets for signal set and index selection\n",
    "    interact(plot_signal,\n",
    "             signal_set=widgets.Dropdown(options=['smoothpur_9_10', 'smoothpur_11_12'], \n",
    "                                         description=signal_set_label),\n",
    "             signal_idx=widgets.IntSlider(min=0, max=153, step=1, value=0),\n",
    "             idx_1=widgets.IntSlider(min=0, max=1, step=1, value=0),\n",
    "             idx_2=widgets.IntSlider(min=0, max=2, step=1, value=0),\n",
    "             idx_3=widgets.IntSlider(min=0, max=1, step=1, value=0))\n"
   ]
  },
  {
   "cell_type": "code",
   "execution_count": null,
   "id": "65977706-cd84-4358-94ca-482eeab97676",
   "metadata": {},
   "outputs": [
    {
     "data": {
      "application/vnd.jupyter.widget-view+json": {
       "model_id": "0af5411817b84f8bb75b508f146c0d85",
       "version_major": 2,
       "version_minor": 0
      },
      "text/plain": [
       "interactive(children=(Dropdown(description='Signal Set', options=('smoothpur_1_4', 'smoothpur_5_8'), value='sm…"
      ]
     },
     "metadata": {},
     "output_type": "display_data"
    }
   ],
   "source": [
    "plot_signal_comparison_1_4_5_8(Nistagmo_1_4, Nistagmo_1_4)\n"
   ]
  },
  {
   "cell_type": "code",
   "execution_count": 82,
   "id": "5c23f74a-71ed-4965-b26a-b9fbf8205ffb",
   "metadata": {},
   "outputs": [
    {
     "data": {
      "application/vnd.jupyter.widget-view+json": {
       "model_id": "478b9335d74d457fa393683eb7ddb7c1",
       "version_major": 2,
       "version_minor": 0
      },
      "text/plain": [
       "interactive(children=(Dropdown(description='Signal Set', options=('smoothpur_9_10', 'smoothpur_11_12'), value=…"
      ]
     },
     "metadata": {},
     "output_type": "display_data"
    }
   ],
   "source": [
    "plot_signal_comparison_9_10_11_12(SmoothPur_9_10, SmoothPur_11_12) #(154, 2, 3, 2, 15000)  [[np_Lx, np_Rx], [np_Ly, np_Ry], [np_targetx, np_targety]]"
   ]
  },
  {
   "cell_type": "code",
   "execution_count": 83,
   "id": "50e8efcd-f3b6-40f6-922d-ea02ee11a6e5",
   "metadata": {},
   "outputs": [],
   "source": [
    "# shape of smoothpur_11_12 :  (154, 2, 3, 2, 15000)  [[np_Lx, np_Rx], [np_Ly, np_Ry], [np_targetx, np_targety]]"
   ]
  },
  {
   "cell_type": "code",
   "execution_count": 84,
   "id": "23daf584-473e-4dea-9bec-84c68b743a2a",
   "metadata": {},
   "outputs": [
    {
     "data": {
      "image/png": "[encoded data removed]",
      "text/plain": [
       "<Figure size 1000x600 with 1 Axes>"
      ]
     },
     "metadata": {},
     "output_type": "display_data"
    }
   ],
   "source": [
    "instance = 91\n",
    "smoothpur = 1 # starts from 0\n",
    "x_y_T = 1 # x= 0, Y= 1  Target =2\n",
    "l_r = 1 # 0 = LEFT, 1 = RIGHT\n",
    "\n",
    "plt.figure(figsize=(10, 6))\n",
    "plt.plot(SmoothPur_11_12_Ar[instance][smoothpur][x_y_T][l_r], label='Original')\n",
    "plt.plot(SmoothPur_11_12[instance][smoothpur][x_y_T][l_r], label='Artificial')\n",
    "plt.plot(SmoothPur_11_12[instance][smoothpur][2][l_r], label='Target')\n",
    "\n",
    "plt.xlabel('Time')\n",
    "plt.ylabel('Value')\n",
    "plt.legend()\n",
    "plt.savefig('HG032_v2_SPT_12.png')  # Saves as a PNG file\n",
    "plt.show()"
   ]
  },
  {
   "cell_type": "code",
   "execution_count": 85,
   "id": "8cda88f1-b78a-49bb-be00-74e5e4a3386e",
   "metadata": {},
   "outputs": [
    {
     "data": {
      "image/png": "[encoded data removed]",
      "text/plain": [
       "<Figure size 1400x700 with 1 Axes>"
      ]
     },
     "metadata": {},
     "output_type": "display_data"
    }
   ],
   "source": [
    "import pandas as pd\n",
    "import matplotlib.pyplot as plt\n",
    "\n",
    "# Read the .dat files\n",
    "eventL = pd.read_csv('J:\\Imputation project/Artificial_blinks/HG032/SmoothPur_9/REvent.dat', header=None, names=['start', 'end', 'value'])\n",
    "sigL = pd.read_csv('J:\\Imputation project/Artificial_blinks/HG032/SmoothPur_9/RTS.dat', header=None, names=['X-axis', 'Y-axis'])\n",
    "Target = pd.read_csv('J:\\Imputation project/Artificial_blinks/HG032/SmoothPur_9/target.dat', header=None, names=['X-axis', 'Y-axis'])\n",
    "\n",
    "# Identify the ranges with missing values and modify the ranges\n",
    "missing_ranges = eventL[eventL['value'] == 5].copy()\n",
    "# missing_ranges['start'] -= 10\n",
    "# missing_ranges['end'] += 10\n",
    "\n",
    "# Plot the sigL data\n",
    "plt.figure(figsize=(14, 7))\n",
    "plt.plot(sigL['X-axis'], label='X-axis', color='blue')\n",
    "plt.plot(sigL['Y-axis'], label='Y-axis', color='red')\n",
    "plt.plot(Target['X-axis'], label='Target_X', color='black')\n",
    "plt.plot(Target['Y-axis'], label='Target_Y', color='black')\n",
    "\n",
    "# Highlight the missing ranges\n",
    "for idx, row in missing_ranges.iterrows():\n",
    "    plt.axvspan(row['start'], row['end'], color='red', alpha=0.3)\n",
    "\n",
    "# Add labels and legend\n",
    "plt.xlabel('Time')\n",
    "plt.ylabel('Signal')\n",
    "plt.title('Signal with Missing Value Ranges Highlighted')\n",
    "plt.legend()\n",
    "plt.show()\n"
   ]
  },
  {
   "cell_type": "code",
   "execution_count": null,
   "id": "9f94a174",
   "metadata": {},
   "outputs": [],
   "source": []
  }
 ],
 "metadata": {
  "colab": {
   "provenance": []
  },
  "kernelspec": {
   "display_name": ".venv",
   "language": "python",
   "name": "python3"
  },
  "language_info": {
   "codemirror_mode": {
    "name": "ipython",
    "version": 3
   },
   "file_extension": ".py",
   "mimetype": "text/x-python",
   "name": "python",
   "nbconvert_exporter": "python",
   "pygments_lexer": "ipython3",
   "version": "3.13.1"
  },
  "widgets": {
   "application/vnd.jupyter.widget-state+json": {
    "0a3f327aec6f47188d2311544b6bb053": {
     "model_module": "@jupyter-widgets/controls",
     "model_module_version": "1.5.0",
     "model_name": "FloatProgressModel",
     "state": {
      "_dom_classes": [],
      "_model_module": "@jupyter-widgets/controls",
      "_model_module_version": "1.5.0",
      "_model_name": "FloatProgressModel",
      "_view_count": null,
      "_view_module": "@jupyter-widgets/controls",
      "_view_module_version": "1.5.0",
      "_view_name": "ProgressView",
      "bar_style": "success",
      "description": "",
      "description_tooltip": null,
      "layout": "IPY_MODEL_b185c16989ba49f4845d744b17be8c37",
      "max": 152,
      "min": 0,
      "orientation": "horizontal",
      "style": "IPY_MODEL_e7da57423fa0416ab8d651a530b27a96",
      "value": 152
     }
    },
    "1ce052ab67344f83981488f512425b1e": {
     "model_module": "@jupyter-widgets/controls",
     "model_module_version": "1.5.0",
     "model_name": "DescriptionStyleModel",
     "state": {
      "_model_module": "@jupyter-widgets/controls",
      "_model_module_version": "1.5.0",
      "_model_name": "DescriptionStyleModel",
      "_view_count": null,
      "_view_module": "@jupyter-widgets/base",
      "_view_module_version": "1.2.0",
      "_view_name": "StyleView",
      "description_width": ""
     }
    },
    "2403c22ffed34503926ee845254e9b37": {
     "model_module": "@jupyter-widgets/controls",
     "model_module_version": "1.5.0",
     "model_name": "DescriptionStyleModel",
     "state": {
      "_model_module": "@jupyter-widgets/controls",
      "_model_module_version": "1.5.0",
      "_model_name": "DescriptionStyleModel",
      "_view_count": null,
      "_view_module": "@jupyter-widgets/base",
      "_view_module_version": "1.2.0",
      "_view_name": "StyleView",
      "description_width": ""
     }
    },
    "2732a2c8dc4140f0b2171d27ec6f16ad": {
     "model_module": "@jupyter-widgets/controls",
     "model_module_version": "1.5.0",
     "model_name": "HTMLModel",
     "state": {
      "_dom_classes": [],
      "_model_module": "@jupyter-widgets/controls",
      "_model_module_version": "1.5.0",
      "_model_name": "HTMLModel",
      "_view_count": null,
      "_view_module": "@jupyter-widgets/controls",
      "_view_module_version": "1.5.0",
      "_view_name": "HTMLView",
      "description": "",
      "description_tooltip": null,
      "layout": "IPY_MODEL_c688ee44485c40d59e60b2e4dae5a279",
      "placeholder": "​",
      "style": "IPY_MODEL_2403c22ffed34503926ee845254e9b37",
      "value": " 152/152 [08:03&lt;00:00,  3.10s/it]"
     }
    },
    "2a6fcd58178c4214b2de3b92bb92f01d": {
     "model_module": "@jupyter-widgets/base",
     "model_module_version": "1.2.0",
     "model_name": "LayoutModel",
     "state": {
      "_model_module": "@jupyter-widgets/base",
      "_model_module_version": "1.2.0",
      "_model_name": "LayoutModel",
      "_view_count": null,
      "_view_module": "@jupyter-widgets/base",
      "_view_module_version": "1.2.0",
      "_view_name": "LayoutView",
      "align_content": null,
      "align_items": null,
      "align_self": null,
      "border": null,
      "bottom": null,
      "display": null,
      "flex": null,
      "flex_flow": null,
      "grid_area": null,
      "grid_auto_columns": null,
      "grid_auto_flow": null,
      "grid_auto_rows": null,
      "grid_column": null,
      "grid_gap": null,
      "grid_row": null,
      "grid_template_areas": null,
      "grid_template_columns": null,
      "grid_template_rows": null,
      "height": null,
      "justify_content": null,
      "justify_items": null,
      "left": null,
      "margin": null,
      "max_height": null,
      "max_width": null,
      "min_height": null,
      "min_width": null,
      "object_fit": null,
      "object_position": null,
      "order": null,
      "overflow": null,
      "overflow_x": null,
      "overflow_y": null,
      "padding": null,
      "right": null,
      "top": null,
      "visibility": null,
      "width": null
     }
    },
    "2ad915dcfff14df0b64400187ec050f7": {
     "model_module": "@jupyter-widgets/controls",
     "model_module_version": "1.5.0",
     "model_name": "HTMLModel",
     "state": {
      "_dom_classes": [],
      "_model_module": "@jupyter-widgets/controls",
      "_model_module_version": "1.5.0",
      "_model_name": "HTMLModel",
      "_view_count": null,
      "_view_module": "@jupyter-widgets/controls",
      "_view_module_version": "1.5.0",
      "_view_name": "HTMLView",
      "description": "",
      "description_tooltip": null,
      "layout": "IPY_MODEL_a87f4b84832a482191c3ad28cc1e9b8e",
      "placeholder": "​",
      "style": "IPY_MODEL_1ce052ab67344f83981488f512425b1e",
      "value": " 152/152 [16:06&lt;00:00,  6.16s/it]"
     }
    },
    "3001216054a14721a8db10f898aa38b6": {
     "model_module": "@jupyter-widgets/controls",
     "model_module_version": "1.5.0",
     "model_name": "FloatProgressModel",
     "state": {
      "_dom_classes": [],
      "_model_module": "@jupyter-widgets/controls",
      "_model_module_version": "1.5.0",
      "_model_name": "FloatProgressModel",
      "_view_count": null,
      "_view_module": "@jupyter-widgets/controls",
      "_view_module_version": "1.5.0",
      "_view_name": "ProgressView",
      "bar_style": "success",
      "description": "",
      "description_tooltip": null,
      "layout": "IPY_MODEL_935b83f477c54cd49760c6dc43e56156",
      "max": 152,
      "min": 0,
      "orientation": "horizontal",
      "style": "IPY_MODEL_6256a8db5a764fe68eb4330bd1cd75ec",
      "value": 152
     }
    },
    "3294552d4d67450595d6f5ec306e9be6": {
     "model_module": "@jupyter-widgets/base",
     "model_module_version": "1.2.0",
     "model_name": "LayoutModel",
     "state": {
      "_model_module": "@jupyter-widgets/base",
      "_model_module_version": "1.2.0",
      "_model_name": "LayoutModel",
      "_view_count": null,
      "_view_module": "@jupyter-widgets/base",
      "_view_module_version": "1.2.0",
      "_view_name": "LayoutView",
      "align_content": null,
      "align_items": null,
      "align_self": null,
      "border": null,
      "bottom": null,
      "display": null,
      "flex": null,
      "flex_flow": null,
      "grid_area": null,
      "grid_auto_columns": null,
      "grid_auto_flow": null,
      "grid_auto_rows": null,
      "grid_column": null,
      "grid_gap": null,
      "grid_row": null,
      "grid_template_areas": null,
      "grid_template_columns": null,
      "grid_template_rows": null,
      "height": null,
      "justify_content": null,
      "justify_items": null,
      "left": null,
      "margin": null,
      "max_height": null,
      "max_width": null,
      "min_height": null,
      "min_width": null,
      "object_fit": null,
      "object_position": null,
      "order": null,
      "overflow": null,
      "overflow_x": null,
      "overflow_y": null,
      "padding": null,
      "right": null,
      "top": null,
      "visibility": null,
      "width": null
     }
    },
    "330de384f4aa43d0b53c40b8672ff93d": {
     "model_module": "@jupyter-widgets/controls",
     "model_module_version": "1.5.0",
     "model_name": "HTMLModel",
     "state": {
      "_dom_classes": [],
      "_model_module": "@jupyter-widgets/controls",
      "_model_module_version": "1.5.0",
      "_model_name": "HTMLModel",
      "_view_count": null,
      "_view_module": "@jupyter-widgets/controls",
      "_view_module_version": "1.5.0",
      "_view_name": "HTMLView",
      "description": "",
      "description_tooltip": null,
      "layout": "IPY_MODEL_6d9bcda07ecf42048d4796ae8f58653b",
      "placeholder": "​",
      "style": "IPY_MODEL_77505d1a19a8491488c821ac69488bac",
      "value": "extracting data_SmoothPur_1_4: 100%"
     }
    },
    "37a9dd16cb1348a3aa145072b33dd2aa": {
     "model_module": "@jupyter-widgets/base",
     "model_module_version": "1.2.0",
     "model_name": "LayoutModel",
     "state": {
      "_model_module": "@jupyter-widgets/base",
      "_model_module_version": "1.2.0",
      "_model_name": "LayoutModel",
      "_view_count": null,
      "_view_module": "@jupyter-widgets/base",
      "_view_module_version": "1.2.0",
      "_view_name": "LayoutView",
      "align_content": null,
      "align_items": null,
      "align_self": null,
      "border": null,
      "bottom": null,
      "display": null,
      "flex": null,
      "flex_flow": null,
      "grid_area": null,
      "grid_auto_columns": null,
      "grid_auto_flow": null,
      "grid_auto_rows": null,
      "grid_column": null,
      "grid_gap": null,
      "grid_row": null,
      "grid_template_areas": null,
      "grid_template_columns": null,
      "grid_template_rows": null,
      "height": null,
      "justify_content": null,
      "justify_items": null,
      "left": null,
      "margin": null,
      "max_height": null,
      "max_width": null,
      "min_height": null,
      "min_width": null,
      "object_fit": null,
      "object_position": null,
      "order": null,
      "overflow": null,
      "overflow_x": null,
      "overflow_y": null,
      "padding": null,
      "right": null,
      "top": null,
      "visibility": null,
      "width": null
     }
    },
    "39cc928ab107451cb47c3ffb0b8b4e68": {
     "model_module": "@jupyter-widgets/controls",
     "model_module_version": "1.5.0",
     "model_name": "HTMLModel",
     "state": {
      "_dom_classes": [],
      "_model_module": "@jupyter-widgets/controls",
      "_model_module_version": "1.5.0",
      "_model_name": "HTMLModel",
      "_view_count": null,
      "_view_module": "@jupyter-widgets/controls",
      "_view_module_version": "1.5.0",
      "_view_name": "HTMLView",
      "description": "",
      "description_tooltip": null,
      "layout": "IPY_MODEL_94c048f6cf64432db5ea581c031b02bd",
      "placeholder": "​",
      "style": "IPY_MODEL_4563eb0caebe4ffc952525bfeb731802",
      "value": "extracting data_SmoothPur_9_10: 100%"
     }
    },
    "4563eb0caebe4ffc952525bfeb731802": {
     "model_module": "@jupyter-widgets/controls",
     "model_module_version": "1.5.0",
     "model_name": "DescriptionStyleModel",
     "state": {
      "_model_module": "@jupyter-widgets/controls",
      "_model_module_version": "1.5.0",
      "_model_name": "DescriptionStyleModel",
      "_view_count": null,
      "_view_module": "@jupyter-widgets/base",
      "_view_module_version": "1.2.0",
      "_view_name": "StyleView",
      "description_width": ""
     }
    },
    "458e046b9bab4776bbc04ee4f9384d3c": {
     "model_module": "@jupyter-widgets/base",
     "model_module_version": "1.2.0",
     "model_name": "LayoutModel",
     "state": {
      "_model_module": "@jupyter-widgets/base",
      "_model_module_version": "1.2.0",
      "_model_name": "LayoutModel",
      "_view_count": null,
      "_view_module": "@jupyter-widgets/base",
      "_view_module_version": "1.2.0",
      "_view_name": "LayoutView",
      "align_content": null,
      "align_items": null,
      "align_self": null,
      "border": null,
      "bottom": null,
      "display": null,
      "flex": null,
      "flex_flow": null,
      "grid_area": null,
      "grid_auto_columns": null,
      "grid_auto_flow": null,
      "grid_auto_rows": null,
      "grid_column": null,
      "grid_gap": null,
      "grid_row": null,
      "grid_template_areas": null,
      "grid_template_columns": null,
      "grid_template_rows": null,
      "height": null,
      "justify_content": null,
      "justify_items": null,
      "left": null,
      "margin": null,
      "max_height": null,
      "max_width": null,
      "min_height": null,
      "min_width": null,
      "object_fit": null,
      "object_position": null,
      "order": null,
      "overflow": null,
      "overflow_x": null,
      "overflow_y": null,
      "padding": null,
      "right": null,
      "top": null,
      "visibility": null,
      "width": null
     }
    },
    "4c196d7f53254b0ca4793c26bd70f27a": {
     "model_module": "@jupyter-widgets/controls",
     "model_module_version": "1.5.0",
     "model_name": "DescriptionStyleModel",
     "state": {
      "_model_module": "@jupyter-widgets/controls",
      "_model_module_version": "1.5.0",
      "_model_name": "DescriptionStyleModel",
      "_view_count": null,
      "_view_module": "@jupyter-widgets/base",
      "_view_module_version": "1.2.0",
      "_view_name": "StyleView",
      "description_width": ""
     }
    },
    "596e9acbba7d4ceb930591f9511d1dda": {
     "model_module": "@jupyter-widgets/base",
     "model_module_version": "1.2.0",
     "model_name": "LayoutModel",
     "state": {
      "_model_module": "@jupyter-widgets/base",
      "_model_module_version": "1.2.0",
      "_model_name": "LayoutModel",
      "_view_count": null,
      "_view_module": "@jupyter-widgets/base",
      "_view_module_version": "1.2.0",
      "_view_name": "LayoutView",
      "align_content": null,
      "align_items": null,
      "align_self": null,
      "border": null,
      "bottom": null,
      "display": null,
      "flex": null,
      "flex_flow": null,
      "grid_area": null,
      "grid_auto_columns": null,
      "grid_auto_flow": null,
      "grid_auto_rows": null,
      "grid_column": null,
      "grid_gap": null,
      "grid_row": null,
      "grid_template_areas": null,
      "grid_template_columns": null,
      "grid_template_rows": null,
      "height": null,
      "justify_content": null,
      "justify_items": null,
      "left": null,
      "margin": null,
      "max_height": null,
      "max_width": null,
      "min_height": null,
      "min_width": null,
      "object_fit": null,
      "object_position": null,
      "order": null,
      "overflow": null,
      "overflow_x": null,
      "overflow_y": null,
      "padding": null,
      "right": null,
      "top": null,
      "visibility": null,
      "width": null
     }
    },
    "5973fca45ef8412c8635264eef7aa384": {
     "model_module": "@jupyter-widgets/base",
     "model_module_version": "1.2.0",
     "model_name": "LayoutModel",
     "state": {
      "_model_module": "@jupyter-widgets/base",
      "_model_module_version": "1.2.0",
      "_model_name": "LayoutModel",
      "_view_count": null,
      "_view_module": "@jupyter-widgets/base",
      "_view_module_version": "1.2.0",
      "_view_name": "LayoutView",
      "align_content": null,
      "align_items": null,
      "align_self": null,
      "border": null,
      "bottom": null,
      "display": null,
      "flex": null,
      "flex_flow": null,
      "grid_area": null,
      "grid_auto_columns": null,
      "grid_auto_flow": null,
      "grid_auto_rows": null,
      "grid_column": null,
      "grid_gap": null,
      "grid_row": null,
      "grid_template_areas": null,
      "grid_template_columns": null,
      "grid_template_rows": null,
      "height": null,
      "justify_content": null,
      "justify_items": null,
      "left": null,
      "margin": null,
      "max_height": null,
      "max_width": null,
      "min_height": null,
      "min_width": null,
      "object_fit": null,
      "object_position": null,
      "order": null,
      "overflow": null,
      "overflow_x": null,
      "overflow_y": null,
      "padding": null,
      "right": null,
      "top": null,
      "visibility": null,
      "width": null
     }
    },
    "6256a8db5a764fe68eb4330bd1cd75ec": {
     "model_module": "@jupyter-widgets/controls",
     "model_module_version": "1.5.0",
     "model_name": "ProgressStyleModel",
     "state": {
      "_model_module": "@jupyter-widgets/controls",
      "_model_module_version": "1.5.0",
      "_model_name": "ProgressStyleModel",
      "_view_count": null,
      "_view_module": "@jupyter-widgets/base",
      "_view_module_version": "1.2.0",
      "_view_name": "StyleView",
      "bar_color": null,
      "description_width": ""
     }
    },
    "6d9bcda07ecf42048d4796ae8f58653b": {
     "model_module": "@jupyter-widgets/base",
     "model_module_version": "1.2.0",
     "model_name": "LayoutModel",
     "state": {
      "_model_module": "@jupyter-widgets/base",
      "_model_module_version": "1.2.0",
      "_model_name": "LayoutModel",
      "_view_count": null,
      "_view_module": "@jupyter-widgets/base",
      "_view_module_version": "1.2.0",
      "_view_name": "LayoutView",
      "align_content": null,
      "align_items": null,
      "align_self": null,
      "border": null,
      "bottom": null,
      "display": null,
      "flex": null,
      "flex_flow": null,
      "grid_area": null,
      "grid_auto_columns": null,
      "grid_auto_flow": null,
      "grid_auto_rows": null,
      "grid_column": null,
      "grid_gap": null,
      "grid_row": null,
      "grid_template_areas": null,
      "grid_template_columns": null,
      "grid_template_rows": null,
      "height": null,
      "justify_content": null,
      "justify_items": null,
      "left": null,
      "margin": null,
      "max_height": null,
      "max_width": null,
      "min_height": null,
      "min_width": null,
      "object_fit": null,
      "object_position": null,
      "order": null,
      "overflow": null,
      "overflow_x": null,
      "overflow_y": null,
      "padding": null,
      "right": null,
      "top": null,
      "visibility": null,
      "width": null
     }
    },
    "77505d1a19a8491488c821ac69488bac": {
     "model_module": "@jupyter-widgets/controls",
     "model_module_version": "1.5.0",
     "model_name": "DescriptionStyleModel",
     "state": {
      "_model_module": "@jupyter-widgets/controls",
      "_model_module_version": "1.5.0",
      "_model_name": "DescriptionStyleModel",
      "_view_count": null,
      "_view_module": "@jupyter-widgets/base",
      "_view_module_version": "1.2.0",
      "_view_name": "StyleView",
      "description_width": ""
     }
    },
    "7c8e503076804de698f13581eacee69f": {
     "model_module": "@jupyter-widgets/controls",
     "model_module_version": "1.5.0",
     "model_name": "DescriptionStyleModel",
     "state": {
      "_model_module": "@jupyter-widgets/controls",
      "_model_module_version": "1.5.0",
      "_model_name": "DescriptionStyleModel",
      "_view_count": null,
      "_view_module": "@jupyter-widgets/base",
      "_view_module_version": "1.2.0",
      "_view_name": "StyleView",
      "description_width": ""
     }
    },
    "82c19d7c83f84ebfa42619616a0c7e73": {
     "model_module": "@jupyter-widgets/controls",
     "model_module_version": "1.5.0",
     "model_name": "HTMLModel",
     "state": {
      "_dom_classes": [],
      "_model_module": "@jupyter-widgets/controls",
      "_model_module_version": "1.5.0",
      "_model_name": "HTMLModel",
      "_view_count": null,
      "_view_module": "@jupyter-widgets/controls",
      "_view_module_version": "1.5.0",
      "_view_name": "HTMLView",
      "description": "",
      "description_tooltip": null,
      "layout": "IPY_MODEL_8762fe90ac4d41b4ab6a4cf3aa6b5d87",
      "placeholder": "​",
      "style": "IPY_MODEL_4c196d7f53254b0ca4793c26bd70f27a",
      "value": " 152/152 [08:13&lt;00:00,  3.03s/it]"
     }
    },
    "8762fe90ac4d41b4ab6a4cf3aa6b5d87": {
     "model_module": "@jupyter-widgets/base",
     "model_module_version": "1.2.0",
     "model_name": "LayoutModel",
     "state": {
      "_model_module": "@jupyter-widgets/base",
      "_model_module_version": "1.2.0",
      "_model_name": "LayoutModel",
      "_view_count": null,
      "_view_module": "@jupyter-widgets/base",
      "_view_module_version": "1.2.0",
      "_view_name": "LayoutView",
      "align_content": null,
      "align_items": null,
      "align_self": null,
      "border": null,
      "bottom": null,
      "display": null,
      "flex": null,
      "flex_flow": null,
      "grid_area": null,
      "grid_auto_columns": null,
      "grid_auto_flow": null,
      "grid_auto_rows": null,
      "grid_column": null,
      "grid_gap": null,
      "grid_row": null,
      "grid_template_areas": null,
      "grid_template_columns": null,
      "grid_template_rows": null,
      "height": null,
      "justify_content": null,
      "justify_items": null,
      "left": null,
      "margin": null,
      "max_height": null,
      "max_width": null,
      "min_height": null,
      "min_width": null,
      "object_fit": null,
      "object_position": null,
      "order": null,
      "overflow": null,
      "overflow_x": null,
      "overflow_y": null,
      "padding": null,
      "right": null,
      "top": null,
      "visibility": null,
      "width": null
     }
    },
    "8d673f11617b4de2b13f97df9626e671": {
     "model_module": "@jupyter-widgets/base",
     "model_module_version": "1.2.0",
     "model_name": "LayoutModel",
     "state": {
      "_model_module": "@jupyter-widgets/base",
      "_model_module_version": "1.2.0",
      "_model_name": "LayoutModel",
      "_view_count": null,
      "_view_module": "@jupyter-widgets/base",
      "_view_module_version": "1.2.0",
      "_view_name": "LayoutView",
      "align_content": null,
      "align_items": null,
      "align_self": null,
      "border": null,
      "bottom": null,
      "display": null,
      "flex": null,
      "flex_flow": null,
      "grid_area": null,
      "grid_auto_columns": null,
      "grid_auto_flow": null,
      "grid_auto_rows": null,
      "grid_column": null,
      "grid_gap": null,
      "grid_row": null,
      "grid_template_areas": null,
      "grid_template_columns": null,
      "grid_template_rows": null,
      "height": null,
      "justify_content": null,
      "justify_items": null,
      "left": null,
      "margin": null,
      "max_height": null,
      "max_width": null,
      "min_height": null,
      "min_width": null,
      "object_fit": null,
      "object_position": null,
      "order": null,
      "overflow": null,
      "overflow_x": null,
      "overflow_y": null,
      "padding": null,
      "right": null,
      "top": null,
      "visibility": null,
      "width": null
     }
    },
    "935b83f477c54cd49760c6dc43e56156": {
     "model_module": "@jupyter-widgets/base",
     "model_module_version": "1.2.0",
     "model_name": "LayoutModel",
     "state": {
      "_model_module": "@jupyter-widgets/base",
      "_model_module_version": "1.2.0",
      "_model_name": "LayoutModel",
      "_view_count": null,
      "_view_module": "@jupyter-widgets/base",
      "_view_module_version": "1.2.0",
      "_view_name": "LayoutView",
      "align_content": null,
      "align_items": null,
      "align_self": null,
      "border": null,
      "bottom": null,
      "display": null,
      "flex": null,
      "flex_flow": null,
      "grid_area": null,
      "grid_auto_columns": null,
      "grid_auto_flow": null,
      "grid_auto_rows": null,
      "grid_column": null,
      "grid_gap": null,
      "grid_row": null,
      "grid_template_areas": null,
      "grid_template_columns": null,
      "grid_template_rows": null,
      "height": null,
      "justify_content": null,
      "justify_items": null,
      "left": null,
      "margin": null,
      "max_height": null,
      "max_width": null,
      "min_height": null,
      "min_width": null,
      "object_fit": null,
      "object_position": null,
      "order": null,
      "overflow": null,
      "overflow_x": null,
      "overflow_y": null,
      "padding": null,
      "right": null,
      "top": null,
      "visibility": null,
      "width": null
     }
    },
    "94c048f6cf64432db5ea581c031b02bd": {
     "model_module": "@jupyter-widgets/base",
     "model_module_version": "1.2.0",
     "model_name": "LayoutModel",
     "state": {
      "_model_module": "@jupyter-widgets/base",
      "_model_module_version": "1.2.0",
      "_model_name": "LayoutModel",
      "_view_count": null,
      "_view_module": "@jupyter-widgets/base",
      "_view_module_version": "1.2.0",
      "_view_name": "LayoutView",
      "align_content": null,
      "align_items": null,
      "align_self": null,
      "border": null,
      "bottom": null,
      "display": null,
      "flex": null,
      "flex_flow": null,
      "grid_area": null,
      "grid_auto_columns": null,
      "grid_auto_flow": null,
      "grid_auto_rows": null,
      "grid_column": null,
      "grid_gap": null,
      "grid_row": null,
      "grid_template_areas": null,
      "grid_template_columns": null,
      "grid_template_rows": null,
      "height": null,
      "justify_content": null,
      "justify_items": null,
      "left": null,
      "margin": null,
      "max_height": null,
      "max_width": null,
      "min_height": null,
      "min_width": null,
      "object_fit": null,
      "object_position": null,
      "order": null,
      "overflow": null,
      "overflow_x": null,
      "overflow_y": null,
      "padding": null,
      "right": null,
      "top": null,
      "visibility": null,
      "width": null
     }
    },
    "9bbad03dfdb14ba4b809b9ece71ace40": {
     "model_module": "@jupyter-widgets/controls",
     "model_module_version": "1.5.0",
     "model_name": "HBoxModel",
     "state": {
      "_dom_classes": [],
      "_model_module": "@jupyter-widgets/controls",
      "_model_module_version": "1.5.0",
      "_model_name": "HBoxModel",
      "_view_count": null,
      "_view_module": "@jupyter-widgets/controls",
      "_view_module_version": "1.5.0",
      "_view_name": "HBoxView",
      "box_style": "",
      "children": [
       "IPY_MODEL_330de384f4aa43d0b53c40b8672ff93d",
       "IPY_MODEL_0a3f327aec6f47188d2311544b6bb053",
       "IPY_MODEL_2ad915dcfff14df0b64400187ec050f7"
      ],
      "layout": "IPY_MODEL_cf36abc328f0439d8327eef74563da66"
     }
    },
    "a044d1c6c2794bcab578709dbf73c289": {
     "model_module": "@jupyter-widgets/controls",
     "model_module_version": "1.5.0",
     "model_name": "FloatProgressModel",
     "state": {
      "_dom_classes": [],
      "_model_module": "@jupyter-widgets/controls",
      "_model_module_version": "1.5.0",
      "_model_name": "FloatProgressModel",
      "_view_count": null,
      "_view_module": "@jupyter-widgets/controls",
      "_view_module_version": "1.5.0",
      "_view_name": "ProgressView",
      "bar_style": "success",
      "description": "",
      "description_tooltip": null,
      "layout": "IPY_MODEL_37a9dd16cb1348a3aa145072b33dd2aa",
      "max": 152,
      "min": 0,
      "orientation": "horizontal",
      "style": "IPY_MODEL_f2cb4a8860b44a3a88ac78bcf9cf97af",
      "value": 152
     }
    },
    "a87f4b84832a482191c3ad28cc1e9b8e": {
     "model_module": "@jupyter-widgets/base",
     "model_module_version": "1.2.0",
     "model_name": "LayoutModel",
     "state": {
      "_model_module": "@jupyter-widgets/base",
      "_model_module_version": "1.2.0",
      "_model_name": "LayoutModel",
      "_view_count": null,
      "_view_module": "@jupyter-widgets/base",
      "_view_module_version": "1.2.0",
      "_view_name": "LayoutView",
      "align_content": null,
      "align_items": null,
      "align_self": null,
      "border": null,
      "bottom": null,
      "display": null,
      "flex": null,
      "flex_flow": null,
      "grid_area": null,
      "grid_auto_columns": null,
      "grid_auto_flow": null,
      "grid_auto_rows": null,
      "grid_column": null,
      "grid_gap": null,
      "grid_row": null,
      "grid_template_areas": null,
      "grid_template_columns": null,
      "grid_template_rows": null,
      "height": null,
      "justify_content": null,
      "justify_items": null,
      "left": null,
      "margin": null,
      "max_height": null,
      "max_width": null,
      "min_height": null,
      "min_width": null,
      "object_fit": null,
      "object_position": null,
      "order": null,
      "overflow": null,
      "overflow_x": null,
      "overflow_y": null,
      "padding": null,
      "right": null,
      "top": null,
      "visibility": null,
      "width": null
     }
    },
    "a8ffeb7367a54cdaac4ee90a9fbc2608": {
     "model_module": "@jupyter-widgets/controls",
     "model_module_version": "1.5.0",
     "model_name": "HBoxModel",
     "state": {
      "_dom_classes": [],
      "_model_module": "@jupyter-widgets/controls",
      "_model_module_version": "1.5.0",
      "_model_name": "HBoxModel",
      "_view_count": null,
      "_view_module": "@jupyter-widgets/controls",
      "_view_module_version": "1.5.0",
      "_view_name": "HBoxView",
      "box_style": "",
      "children": [
       "IPY_MODEL_bfb1cbc15ed0464bb7c723688c360240",
       "IPY_MODEL_ad5e02b2a0ef4dd0a8b0cdec06272342",
       "IPY_MODEL_2732a2c8dc4140f0b2171d27ec6f16ad"
      ],
      "layout": "IPY_MODEL_5973fca45ef8412c8635264eef7aa384"
     }
    },
    "ad5e02b2a0ef4dd0a8b0cdec06272342": {
     "model_module": "@jupyter-widgets/controls",
     "model_module_version": "1.5.0",
     "model_name": "FloatProgressModel",
     "state": {
      "_dom_classes": [],
      "_model_module": "@jupyter-widgets/controls",
      "_model_module_version": "1.5.0",
      "_model_name": "FloatProgressModel",
      "_view_count": null,
      "_view_module": "@jupyter-widgets/controls",
      "_view_module_version": "1.5.0",
      "_view_name": "ProgressView",
      "bar_style": "success",
      "description": "",
      "description_tooltip": null,
      "layout": "IPY_MODEL_8d673f11617b4de2b13f97df9626e671",
      "max": 152,
      "min": 0,
      "orientation": "horizontal",
      "style": "IPY_MODEL_bce8c6f2534c4470bf42045c2adfcefd",
      "value": 152
     }
    },
    "b185c16989ba49f4845d744b17be8c37": {
     "model_module": "@jupyter-widgets/base",
     "model_module_version": "1.2.0",
     "model_name": "LayoutModel",
     "state": {
      "_model_module": "@jupyter-widgets/base",
      "_model_module_version": "1.2.0",
      "_model_name": "LayoutModel",
      "_view_count": null,
      "_view_module": "@jupyter-widgets/base",
      "_view_module_version": "1.2.0",
      "_view_name": "LayoutView",
      "align_content": null,
      "align_items": null,
      "align_self": null,
      "border": null,
      "bottom": null,
      "display": null,
      "flex": null,
      "flex_flow": null,
      "grid_area": null,
      "grid_auto_columns": null,
      "grid_auto_flow": null,
      "grid_auto_rows": null,
      "grid_column": null,
      "grid_gap": null,
      "grid_row": null,
      "grid_template_areas": null,
      "grid_template_columns": null,
      "grid_template_rows": null,
      "height": null,
      "justify_content": null,
      "justify_items": null,
      "left": null,
      "margin": null,
      "max_height": null,
      "max_width": null,
      "min_height": null,
      "min_width": null,
      "object_fit": null,
      "object_position": null,
      "order": null,
      "overflow": null,
      "overflow_x": null,
      "overflow_y": null,
      "padding": null,
      "right": null,
      "top": null,
      "visibility": null,
      "width": null
     }
    },
    "b52d45baa1804778b13dd09b2085a025": {
     "model_module": "@jupyter-widgets/controls",
     "model_module_version": "1.5.0",
     "model_name": "HTMLModel",
     "state": {
      "_dom_classes": [],
      "_model_module": "@jupyter-widgets/controls",
      "_model_module_version": "1.5.0",
      "_model_name": "HTMLModel",
      "_view_count": null,
      "_view_module": "@jupyter-widgets/controls",
      "_view_module_version": "1.5.0",
      "_view_name": "HTMLView",
      "description": "",
      "description_tooltip": null,
      "layout": "IPY_MODEL_3294552d4d67450595d6f5ec306e9be6",
      "placeholder": "​",
      "style": "IPY_MODEL_d814a8d0ade64f60b70383854d91ad93",
      "value": " 152/152 [16:09&lt;00:00,  5.81s/it]"
     }
    },
    "bce8c6f2534c4470bf42045c2adfcefd": {
     "model_module": "@jupyter-widgets/controls",
     "model_module_version": "1.5.0",
     "model_name": "ProgressStyleModel",
     "state": {
      "_model_module": "@jupyter-widgets/controls",
      "_model_module_version": "1.5.0",
      "_model_name": "ProgressStyleModel",
      "_view_count": null,
      "_view_module": "@jupyter-widgets/base",
      "_view_module_version": "1.2.0",
      "_view_name": "StyleView",
      "bar_color": null,
      "description_width": ""
     }
    },
    "bfb1cbc15ed0464bb7c723688c360240": {
     "model_module": "@jupyter-widgets/controls",
     "model_module_version": "1.5.0",
     "model_name": "HTMLModel",
     "state": {
      "_dom_classes": [],
      "_model_module": "@jupyter-widgets/controls",
      "_model_module_version": "1.5.0",
      "_model_name": "HTMLModel",
      "_view_count": null,
      "_view_module": "@jupyter-widgets/controls",
      "_view_module_version": "1.5.0",
      "_view_name": "HTMLView",
      "description": "",
      "description_tooltip": null,
      "layout": "IPY_MODEL_458e046b9bab4776bbc04ee4f9384d3c",
      "placeholder": "​",
      "style": "IPY_MODEL_f58185bb89bf41ebb6a26139815a42a2",
      "value": "extracting data_SmoothPur_11_12: 100%"
     }
    },
    "c688ee44485c40d59e60b2e4dae5a279": {
     "model_module": "@jupyter-widgets/base",
     "model_module_version": "1.2.0",
     "model_name": "LayoutModel",
     "state": {
      "_model_module": "@jupyter-widgets/base",
      "_model_module_version": "1.2.0",
      "_model_name": "LayoutModel",
      "_view_count": null,
      "_view_module": "@jupyter-widgets/base",
      "_view_module_version": "1.2.0",
      "_view_name": "LayoutView",
      "align_content": null,
      "align_items": null,
      "align_self": null,
      "border": null,
      "bottom": null,
      "display": null,
      "flex": null,
      "flex_flow": null,
      "grid_area": null,
      "grid_auto_columns": null,
      "grid_auto_flow": null,
      "grid_auto_rows": null,
      "grid_column": null,
      "grid_gap": null,
      "grid_row": null,
      "grid_template_areas": null,
      "grid_template_columns": null,
      "grid_template_rows": null,
      "height": null,
      "justify_content": null,
      "justify_items": null,
      "left": null,
      "margin": null,
      "max_height": null,
      "max_width": null,
      "min_height": null,
      "min_width": null,
      "object_fit": null,
      "object_position": null,
      "order": null,
      "overflow": null,
      "overflow_x": null,
      "overflow_y": null,
      "padding": null,
      "right": null,
      "top": null,
      "visibility": null,
      "width": null
     }
    },
    "cf36abc328f0439d8327eef74563da66": {
     "model_module": "@jupyter-widgets/base",
     "model_module_version": "1.2.0",
     "model_name": "LayoutModel",
     "state": {
      "_model_module": "@jupyter-widgets/base",
      "_model_module_version": "1.2.0",
      "_model_name": "LayoutModel",
      "_view_count": null,
      "_view_module": "@jupyter-widgets/base",
      "_view_module_version": "1.2.0",
      "_view_name": "LayoutView",
      "align_content": null,
      "align_items": null,
      "align_self": null,
      "border": null,
      "bottom": null,
      "display": null,
      "flex": null,
      "flex_flow": null,
      "grid_area": null,
      "grid_auto_columns": null,
      "grid_auto_flow": null,
      "grid_auto_rows": null,
      "grid_column": null,
      "grid_gap": null,
      "grid_row": null,
      "grid_template_areas": null,
      "grid_template_columns": null,
      "grid_template_rows": null,
      "height": null,
      "justify_content": null,
      "justify_items": null,
      "left": null,
      "margin": null,
      "max_height": null,
      "max_width": null,
      "min_height": null,
      "min_width": null,
      "object_fit": null,
      "object_position": null,
      "order": null,
      "overflow": null,
      "overflow_x": null,
      "overflow_y": null,
      "padding": null,
      "right": null,
      "top": null,
      "visibility": null,
      "width": null
     }
    },
    "d814a8d0ade64f60b70383854d91ad93": {
     "model_module": "@jupyter-widgets/controls",
     "model_module_version": "1.5.0",
     "model_name": "DescriptionStyleModel",
     "state": {
      "_model_module": "@jupyter-widgets/controls",
      "_model_module_version": "1.5.0",
      "_model_name": "DescriptionStyleModel",
      "_view_count": null,
      "_view_module": "@jupyter-widgets/base",
      "_view_module_version": "1.2.0",
      "_view_name": "StyleView",
      "description_width": ""
     }
    },
    "dd6e05e4e73048de8440cba689935aaa": {
     "model_module": "@jupyter-widgets/base",
     "model_module_version": "1.2.0",
     "model_name": "LayoutModel",
     "state": {
      "_model_module": "@jupyter-widgets/base",
      "_model_module_version": "1.2.0",
      "_model_name": "LayoutModel",
      "_view_count": null,
      "_view_module": "@jupyter-widgets/base",
      "_view_module_version": "1.2.0",
      "_view_name": "LayoutView",
      "align_content": null,
      "align_items": null,
      "align_self": null,
      "border": null,
      "bottom": null,
      "display": null,
      "flex": null,
      "flex_flow": null,
      "grid_area": null,
      "grid_auto_columns": null,
      "grid_auto_flow": null,
      "grid_auto_rows": null,
      "grid_column": null,
      "grid_gap": null,
      "grid_row": null,
      "grid_template_areas": null,
      "grid_template_columns": null,
      "grid_template_rows": null,
      "height": null,
      "justify_content": null,
      "justify_items": null,
      "left": null,
      "margin": null,
      "max_height": null,
      "max_width": null,
      "min_height": null,
      "min_width": null,
      "object_fit": null,
      "object_position": null,
      "order": null,
      "overflow": null,
      "overflow_x": null,
      "overflow_y": null,
      "padding": null,
      "right": null,
      "top": null,
      "visibility": null,
      "width": null
     }
    },
    "e2d3d4f9498344c5ab2d33eb4236bc0b": {
     "model_module": "@jupyter-widgets/controls",
     "model_module_version": "1.5.0",
     "model_name": "HBoxModel",
     "state": {
      "_dom_classes": [],
      "_model_module": "@jupyter-widgets/controls",
      "_model_module_version": "1.5.0",
      "_model_name": "HBoxModel",
      "_view_count": null,
      "_view_module": "@jupyter-widgets/controls",
      "_view_module_version": "1.5.0",
      "_view_name": "HBoxView",
      "box_style": "",
      "children": [
       "IPY_MODEL_39cc928ab107451cb47c3ffb0b8b4e68",
       "IPY_MODEL_a044d1c6c2794bcab578709dbf73c289",
       "IPY_MODEL_82c19d7c83f84ebfa42619616a0c7e73"
      ],
      "layout": "IPY_MODEL_2a6fcd58178c4214b2de3b92bb92f01d"
     }
    },
    "e3b0d155b28d4fd7b8d854e7f3dfba3d": {
     "model_module": "@jupyter-widgets/controls",
     "model_module_version": "1.5.0",
     "model_name": "HTMLModel",
     "state": {
      "_dom_classes": [],
      "_model_module": "@jupyter-widgets/controls",
      "_model_module_version": "1.5.0",
      "_model_name": "HTMLModel",
      "_view_count": null,
      "_view_module": "@jupyter-widgets/controls",
      "_view_module_version": "1.5.0",
      "_view_name": "HTMLView",
      "description": "",
      "description_tooltip": null,
      "layout": "IPY_MODEL_dd6e05e4e73048de8440cba689935aaa",
      "placeholder": "​",
      "style": "IPY_MODEL_7c8e503076804de698f13581eacee69f",
      "value": "extracting data_SmoothPur_5_8: 100%"
     }
    },
    "e7da57423fa0416ab8d651a530b27a96": {
     "model_module": "@jupyter-widgets/controls",
     "model_module_version": "1.5.0",
     "model_name": "ProgressStyleModel",
     "state": {
      "_model_module": "@jupyter-widgets/controls",
      "_model_module_version": "1.5.0",
      "_model_name": "ProgressStyleModel",
      "_view_count": null,
      "_view_module": "@jupyter-widgets/base",
      "_view_module_version": "1.2.0",
      "_view_name": "StyleView",
      "bar_color": null,
      "description_width": ""
     }
    },
    "f2cb4a8860b44a3a88ac78bcf9cf97af": {
     "model_module": "@jupyter-widgets/controls",
     "model_module_version": "1.5.0",
     "model_name": "ProgressStyleModel",
     "state": {
      "_model_module": "@jupyter-widgets/controls",
      "_model_module_version": "1.5.0",
      "_model_name": "ProgressStyleModel",
      "_view_count": null,
      "_view_module": "@jupyter-widgets/base",
      "_view_module_version": "1.2.0",
      "_view_name": "StyleView",
      "bar_color": null,
      "description_width": ""
     }
    },
    "f58185bb89bf41ebb6a26139815a42a2": {
     "model_module": "@jupyter-widgets/controls",
     "model_module_version": "1.5.0",
     "model_name": "DescriptionStyleModel",
     "state": {
      "_model_module": "@jupyter-widgets/controls",
      "_model_module_version": "1.5.0",
      "_model_name": "DescriptionStyleModel",
      "_view_count": null,
      "_view_module": "@jupyter-widgets/base",
      "_view_module_version": "1.2.0",
      "_view_name": "StyleView",
      "description_width": ""
     }
    },
    "fbe66c3e52854de1b2d870fd8e7eed2d": {
     "model_module": "@jupyter-widgets/controls",
     "model_module_version": "1.5.0",
     "model_name": "HBoxModel",
     "state": {
      "_dom_classes": [],
      "_model_module": "@jupyter-widgets/controls",
      "_model_module_version": "1.5.0",
      "_model_name": "HBoxModel",
      "_view_count": null,
      "_view_module": "@jupyter-widgets/controls",
      "_view_module_version": "1.5.0",
      "_view_name": "HBoxView",
      "box_style": "",
      "children": [
       "IPY_MODEL_e3b0d155b28d4fd7b8d854e7f3dfba3d",
       "IPY_MODEL_3001216054a14721a8db10f898aa38b6",
       "IPY_MODEL_b52d45baa1804778b13dd09b2085a025"
      ],
      "layout": "IPY_MODEL_596e9acbba7d4ceb930591f9511d1dda"
     }
    }
   }
  }
 },
 "nbformat": 4,
 "nbformat_minor": 5
}
